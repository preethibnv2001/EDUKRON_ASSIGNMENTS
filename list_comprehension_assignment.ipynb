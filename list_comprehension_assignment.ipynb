{
  "nbformat": 4,
  "nbformat_minor": 0,
  "metadata": {
    "colab": {
      "provenance": []
    },
    "kernelspec": {
      "name": "python3",
      "display_name": "Python 3"
    },
    "language_info": {
      "name": "python"
    }
  },
  "cells": [
    {
      "cell_type": "code",
      "execution_count": 1,
      "metadata": {
        "colab": {
          "base_uri": "https://localhost:8080/"
        },
        "id": "MaxBWJnHx0JW",
        "outputId": "d7b6bb36-b0a3-4c9f-c5f2-613546ffe9e5"
      },
      "outputs": [
        {
          "output_type": "stream",
          "name": "stdout",
          "text": [
            "[1, 4, 9, 16, 25, 36, 49, 64, 81, 100, 121, 144, 169, 196, 225, 256, 289, 324, 361, 400]\n"
          ]
        }
      ],
      "source": [
        "#create list of squares for number 1 to 20 using list comprehension\n",
        "squares = [x**2 for x in range(1, 21)]\n",
        "print(squares)\n"
      ]
    },
    {
      "cell_type": "code",
      "source": [
        "#filter numbers divisible by 3 from [1,2,3,6,9,12,15,18,21]\n",
        "numbers = [1, 2, 3, 6, 9, 12, 15, 18, 21]\n",
        "div_by_3 = [x for x in numbers if x % 3 == 0]\n",
        "print(div_by_3)\n"
      ],
      "metadata": {
        "colab": {
          "base_uri": "https://localhost:8080/"
        },
        "id": "Pm4uOlcPykn7",
        "outputId": "4c0b9997-3476-4a4f-8b8a-9f570e7504de"
      },
      "execution_count": 2,
      "outputs": [
        {
          "output_type": "stream",
          "name": "stdout",
          "text": [
            "[3, 6, 9, 12, 15, 18, 21]\n"
          ]
        }
      ]
    },
    {
      "cell_type": "code",
      "source": [
        "#get first letter of each word: [\"apple\", \"banana\", \"cherry\"]\n",
        "words = [\"apple\", \"banana\", \"cherry\"]\n",
        "first_letters = [word[0] for word in words]\n",
        "print(first_letters)\n"
      ],
      "metadata": {
        "colab": {
          "base_uri": "https://localhost:8080/"
        },
        "id": "3Iqct8JDy36c",
        "outputId": "78813924-210a-4d21-d76d-419146222cde"
      },
      "execution_count": 3,
      "outputs": [
        {
          "output_type": "stream",
          "name": "stdout",
          "text": [
            "['a', 'b', 'c']\n"
          ]
        }
      ]
    }
  ]
}