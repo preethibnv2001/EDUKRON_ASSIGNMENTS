{
  "nbformat": 4,
  "nbformat_minor": 0,
  "metadata": {
    "colab": {
      "provenance": []
    },
    "kernelspec": {
      "name": "python3",
      "display_name": "Python 3"
    },
    "language_info": {
      "name": "python"
    }
  },
  "cells": [
    {
      "cell_type": "code",
      "execution_count": 4,
      "metadata": {
        "colab": {
          "base_uri": "https://localhost:8080/"
        },
        "id": "KN9M_-DhJvSO",
        "outputId": "5923c1f1-9789-4159-db90-d09392674cc2"
      },
      "outputs": [
        {
          "output_type": "stream",
          "name": "stdout",
          "text": [
            "Question 1: Calculate the product of first 10 natural numbers\n",
            "Product of first 10 natural numbers is: 3628800\n"
          ]
        }
      ],
      "source": [
        "# Question 1: Calculate the product of first 10 natural numbers\n",
        "\n",
        "print(\"Question 1: Calculate the product of first 10 natural numbers\")\n",
        "product = 1\n",
        "for i in range(1,11):\n",
        "  product = product * i\n",
        "print(\"Product of first 10 natural numbers is:\" , product)"
      ]
    },
    {
      "cell_type": "code",
      "source": [
        "# Question 2: Find the remainder when 156 is divided by 7\n",
        "\n",
        "print(\"\\nQuestion 2: Find the remainder when 156 is divided by 7\")\n",
        "remainder = 156 % 7\n",
        "print(\"Remainder:\", remainder)\n"
      ],
      "metadata": {
        "colab": {
          "base_uri": "https://localhost:8080/"
        },
        "id": "VducN4TWKd1O",
        "outputId": "f54b21db-e01c-48dc-bcb1-9a7a6b16f575"
      },
      "execution_count": 6,
      "outputs": [
        {
          "output_type": "stream",
          "name": "stdout",
          "text": [
            "\n",
            "Question 2: Find the remainder when 156 is divided by 7\n",
            "Remainder: 2\n"
          ]
        }
      ]
    },
    {
      "cell_type": "code",
      "source": [
        "# Question 3: Calculate the square of 25\n",
        "\n",
        "print(\"\\nQuestion 3: Calculate the square of 25\")\n",
        "print(\"Square:\",25**2)\n"
      ],
      "metadata": {
        "colab": {
          "base_uri": "https://localhost:8080/"
        },
        "id": "yq2Qc5KAKezO",
        "outputId": "101a5015-d2c1-468b-e241-51bf9d55d092"
      },
      "execution_count": 7,
      "outputs": [
        {
          "output_type": "stream",
          "name": "stdout",
          "text": [
            "\n",
            "Question 3: Calculate the square of 25\n",
            "Square: 625\n"
          ]
        }
      ]
    },
    {
      "cell_type": "code",
      "source": [
        "# Question 4: Find the cube root of 125\n",
        "\n",
        "print(\"\\nQuestion 4: Find the cube root of 125\")\n",
        "x=125\n",
        "cube_root = round(x ** (1/3))\n",
        "print(\"Cube root of 125 is:\", cube_root)\n"
      ],
      "metadata": {
        "colab": {
          "base_uri": "https://localhost:8080/"
        },
        "id": "boyn_eWIKi_K",
        "outputId": "2c897061-f35c-412c-81bc-ecb056bbe29d"
      },
      "execution_count": 8,
      "outputs": [
        {
          "output_type": "stream",
          "name": "stdout",
          "text": [
            "\n",
            "Question 4: Find the cube root of 125\n",
            "Cube root of 125 is: 5\n"
          ]
        }
      ]
    },
    {
      "cell_type": "code",
      "source": [
        "# Question 5: Calculate the sum of digits in number 12345\n",
        "\n",
        "print(\"\\nQuestion 5: Calculate the sum of digits in number 12345\")\n",
        "num = 12345\n",
        "digit_sum = sum(int(digit) for digit in str(num))\n",
        "print(\"Sum of digits:\", digit_sum)"
      ],
      "metadata": {
        "colab": {
          "base_uri": "https://localhost:8080/"
        },
        "id": "Lo4vj6mLKlfx",
        "outputId": "1987ea7c-db3b-4db5-df85-f4ee22e2e622"
      },
      "execution_count": 9,
      "outputs": [
        {
          "output_type": "stream",
          "name": "stdout",
          "text": [
            "\n",
            "Question 5: Calculate the sum of digits in number 12345\n",
            "Sum of digits: 15\n"
          ]
        }
      ]
    },
    {
      "cell_type": "code",
      "source": [
        "# Question 6: Check if 97 is a prime number\n",
        "\n",
        "print(\"\\nQuestion 6: Check if 97 is a prime number\")\n",
        "\n",
        "num = 97\n",
        "is_prime = True\n",
        "\n",
        "if num < 2:\n",
        "    is_prime = False\n",
        "else:\n",
        "    for i in range(2, int(num ** 0.5) + 1):  # check till sqrt(num)\n",
        "        if num % i == 0:\n",
        "            is_prime = False\n",
        "            break\n",
        "\n",
        "print(f\"{num} is prime:\", is_prime)"
      ],
      "metadata": {
        "colab": {
          "base_uri": "https://localhost:8080/"
        },
        "id": "h8YT7SzVKnci",
        "outputId": "44fcfc58-ee6f-407a-ae2b-5f3d27677b67"
      },
      "execution_count": 10,
      "outputs": [
        {
          "output_type": "stream",
          "name": "stdout",
          "text": [
            "\n",
            "Question 6: Check if 97 is a prime number\n",
            "97 is prime: True\n"
          ]
        }
      ]
    },
    {
      "cell_type": "code",
      "source": [
        "# Question 7: Find the factorial of 8\n",
        "\n",
        "print(\"\\nQuestion 7: Find the factorial of 8\")\n",
        "\n",
        "num = 8\n",
        "fact = 1\n",
        "for i in range(1, num + 1):\n",
        "    fact *= i\n",
        "\n",
        "print(\"Factorial of 8 is:\", fact)"
      ],
      "metadata": {
        "colab": {
          "base_uri": "https://localhost:8080/"
        },
        "id": "KnYP2GHXKpU8",
        "outputId": "fade5277-f17a-4e80-be1e-a768bfcb6d08"
      },
      "execution_count": 11,
      "outputs": [
        {
          "output_type": "stream",
          "name": "stdout",
          "text": [
            "\n",
            "Question 7: Find the factorial of 8\n",
            "Factorial of 8 is: 40320\n"
          ]
        }
      ]
    },
    {
      "cell_type": "code",
      "source": [
        "import math\n",
        "\n",
        "print(\"\\nQuestion 7: Find the factorial of 8\")\n",
        "print(\"Factorial of 8 is:\", math.factorial(8))"
      ],
      "metadata": {
        "colab": {
          "base_uri": "https://localhost:8080/"
        },
        "id": "_wRwD0X6Pz1s",
        "outputId": "9bd6b48d-4129-46ae-b1e2-5ae0acbf81cb"
      },
      "execution_count": 12,
      "outputs": [
        {
          "output_type": "stream",
          "name": "stdout",
          "text": [
            "\n",
            "Question 7: Find the factorial of 8\n",
            "Factorial of 8 is: 40320\n"
          ]
        }
      ]
    },
    {
      "cell_type": "code",
      "source": [
        "# Question 8: Calculate the average of numbers: 15, 23, 31, 42, 56\n",
        "\n",
        "print(\"\\nQuestion 8: Calculate the average of numbers: 15, 23, 31, 42, 56\")\n",
        "numbers = [15, 23, 31, 42, 56]\n",
        "average = sum(numbers) / len(numbers)\n",
        "\n",
        "print(\"Average is:\", average)"
      ],
      "metadata": {
        "colab": {
          "base_uri": "https://localhost:8080/"
        },
        "id": "hqXxqTVYKrlt",
        "outputId": "345ed72b-adee-4ef8-ab79-0028307108c0"
      },
      "execution_count": 13,
      "outputs": [
        {
          "output_type": "stream",
          "name": "stdout",
          "text": [
            "\n",
            "Question 8: Calculate the average of numbers: 15, 23, 31, 42, 56\n",
            "Average is: 33.4\n"
          ]
        }
      ]
    },
    {
      "cell_type": "code",
      "source": [
        "average = (15 + 23 + 31 + 42 + 56) / 5\n",
        "print(\"Average is:\", average)"
      ],
      "metadata": {
        "colab": {
          "base_uri": "https://localhost:8080/"
        },
        "id": "lEl5f-dWQQXq",
        "outputId": "c5b14e10-4e55-4aa6-cf47-73f58944ceb3"
      },
      "execution_count": 14,
      "outputs": [
        {
          "output_type": "stream",
          "name": "stdout",
          "text": [
            "Average is: 33.4\n"
          ]
        }
      ]
    },
    {
      "cell_type": "code",
      "source": [
        "# Question 9: Find the greatest common divisor (GCD) of 48 and 36\n",
        "\n",
        "print(\"\\nQuestion 9: Find the greatest common divisor (GCD) of 48 and 36\")\n",
        "import math\n",
        "\n",
        "print(\"GCD is:\", math.gcd(48, 36))\n"
      ],
      "metadata": {
        "colab": {
          "base_uri": "https://localhost:8080/"
        },
        "id": "rbaFPaY3KuDi",
        "outputId": "18475578-dead-4417-dde3-6c65c4c8ca02"
      },
      "execution_count": 15,
      "outputs": [
        {
          "output_type": "stream",
          "name": "stdout",
          "text": [
            "\n",
            "Question 9: Find the greatest common divisor (GCD) of 48 and 36\n",
            "GCD is: 12\n"
          ]
        }
      ]
    },
    {
      "cell_type": "code",
      "source": [
        "print(\"\\nQuestion 9: Find the greatest common divisor (GCD) of 48 and 36\")\n",
        "\n",
        "a, b = 48, 36\n",
        "while b != 0:\n",
        "    a, b = b, a % b\n",
        "\n",
        "print(\"GCD is:\", a)\n"
      ],
      "metadata": {
        "colab": {
          "base_uri": "https://localhost:8080/"
        },
        "id": "4mvAo_OKQ2mm",
        "outputId": "7f908ec9-6c72-4598-8b36-19e7164757cb"
      },
      "execution_count": 16,
      "outputs": [
        {
          "output_type": "stream",
          "name": "stdout",
          "text": [
            "\n",
            "Question 9: Find the greatest common divisor (GCD) of 48 and 36\n",
            "GCD is: 12\n"
          ]
        }
      ]
    },
    {
      "cell_type": "code",
      "source": [
        "# Question 10: Calculate the sum of first 20 odd numbers\n",
        "\n",
        "print(\"\\nQuestion 10: Calculate the sum of first 20 odd numbers\")\n",
        "\n",
        "sum_odd = 0\n",
        "for i in range(1, 41, 2):  # odd numbers up to 39\n",
        "    sum_odd += i\n",
        "\n",
        "print(\"Sum of first 20 odd numbers is:\", sum_odd)"
      ],
      "metadata": {
        "colab": {
          "base_uri": "https://localhost:8080/"
        },
        "id": "cvmuTw-YKwHP",
        "outputId": "1167f2c0-d5e0-482a-fe39-aacbe55c5129"
      },
      "execution_count": 18,
      "outputs": [
        {
          "output_type": "stream",
          "name": "stdout",
          "text": [
            "\n",
            "Question 10: Calculate the sum of first 20 odd numbers\n",
            "Sum of first 20 odd numbers is: 400\n"
          ]
        }
      ]
    }
  ]
}