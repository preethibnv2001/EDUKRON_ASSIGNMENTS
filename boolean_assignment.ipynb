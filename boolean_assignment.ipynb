{
  "nbformat": 4,
  "nbformat_minor": 0,
  "metadata": {
    "colab": {
      "provenance": []
    },
    "kernelspec": {
      "name": "python3",
      "display_name": "Python 3"
    },
    "language_info": {
      "name": "python"
    }
  },
  "cells": [
    {
      "cell_type": "code",
      "execution_count": 1,
      "metadata": {
        "colab": {
          "base_uri": "https://localhost:8080/"
        },
        "id": "cik6PK7gQUVt",
        "outputId": "c0e52d9e-c688-462b-b7d7-37231865decb"
      },
      "outputs": [
        {
          "output_type": "stream",
          "name": "stdout",
          "text": [
            "Check if a number is both even and greater than 10\n",
            "Number: 16\n",
            "Is even: True\n",
            "Is greater than 10: True\n",
            "Both conditions: True\n",
            "--------------------------------------------------\n"
          ]
        }
      ],
      "source": [
        "# BOOLEAN DATATYPE ASSIGNMENT\n",
        "\n",
        "# SOLVED EXAMPLE\n",
        "# --------------\n",
        "# Question: Check if a number is both even and greater than 10\n",
        "print(\"Check if a number is both even and greater than 10\")\n",
        "number = 16\n",
        "is_even = number % 2 == 0\n",
        "is_greater_than_10 = number > 10\n",
        "result = is_even and is_greater_than_10\n",
        "print(f\"Number: {number}\")\n",
        "print(f\"Is even: {is_even}\")\n",
        "print(f\"Is greater than 10: {is_greater_than_10}\")\n",
        "print(f\"Both conditions: {result}\")\n",
        "print(\"-\" * 50)"
      ]
    },
    {
      "cell_type": "code",
      "source": [
        "# Question 1: Check if 25 is greater than 20 and less than 30\n",
        "print(\"Question 1: Check if 25 is greater than 20 and less than 30\")\n",
        "# Your code here\n",
        "print(25 > 20 and 25 < 30)\n",
        "print(20 < 25 < 30)  # True"
      ],
      "metadata": {
        "colab": {
          "base_uri": "https://localhost:8080/"
        },
        "id": "JRusg55tQjA9",
        "outputId": "d891f20f-6052-41e9-bc02-9cbeea363be8"
      },
      "execution_count": 2,
      "outputs": [
        {
          "output_type": "stream",
          "name": "stdout",
          "text": [
            "Question 1: Check if 25 is greater than 20 and less than 30\n",
            "True\n",
            "True\n"
          ]
        }
      ]
    },
    {
      "cell_type": "code",
      "source": [
        "# Question 2: Check if string \"python\" is equal to \"Python\" (case sensitive)\n",
        "print(\"\\nQuestion 2: Check if string 'python' is equal to 'Python' (case sensitive)\")\n",
        "# Your code here\n",
        "print(\"python\" == \"Python\")\n"
      ],
      "metadata": {
        "colab": {
          "base_uri": "https://localhost:8080/"
        },
        "id": "xNnJWyJJVc_H",
        "outputId": "f618c6c1-ece6-4a8c-98df-89412e67011a"
      },
      "execution_count": 3,
      "outputs": [
        {
          "output_type": "stream",
          "name": "stdout",
          "text": [
            "\n",
            "Question 2: Check if string 'python' is equal to 'Python' (case sensitive)\n",
            "False\n"
          ]
        }
      ]
    },
    {
      "cell_type": "code",
      "source": [
        "# Question 3: Check if 15 is divisible by both 3 and 5\n",
        "print(\"\\nQuestion 3: Check if 15 is divisible by both 3 and 5\")\n",
        "# Your code here\n",
        "print(15 % 3 == 0 and 15 % 5 == 0)\n"
      ],
      "metadata": {
        "colab": {
          "base_uri": "https://localhost:8080/"
        },
        "id": "zH1Db0iJVcei",
        "outputId": "ed0754c2-e44f-4918-fea1-51c772c9a63c"
      },
      "execution_count": 4,
      "outputs": [
        {
          "output_type": "stream",
          "name": "stdout",
          "text": [
            "\n",
            "Question 3: Check if 15 is divisible by both 3 and 5\n",
            "True\n"
          ]
        }
      ]
    },
    {
      "cell_type": "code",
      "source": [
        "# Question 4: Check if 7 is not equal to 8\n",
        "print(\"\\nQuestion 4: Check if 7 is not equal to 8\")\n",
        "# Your code here\n",
        "print(7 != 8)\n"
      ],
      "metadata": {
        "colab": {
          "base_uri": "https://localhost:8080/"
        },
        "id": "9D83eTApVYB7",
        "outputId": "1336c42d-0971-4f86-e8b5-69f3926741f5"
      },
      "execution_count": 5,
      "outputs": [
        {
          "output_type": "stream",
          "name": "stdout",
          "text": [
            "\n",
            "Question 4: Check if 7 is not equal to 8\n",
            "True\n"
          ]
        }
      ]
    },
    {
      "cell_type": "code",
      "source": [
        "# Question 5: Check if 100 is greater than 50 or less than 25\n",
        "print(\"\\nQuestion 5: Check if 100 is greater than 50 or less than 25\")\n",
        "# Your code here\n",
        "print(100 > 50 or 100 < 25)\n",
        "##The result is True because the first condition (100 > 50) is true, so Python doesn’t even need to check the second part (100 < 25)."
      ],
      "metadata": {
        "colab": {
          "base_uri": "https://localhost:8080/"
        },
        "id": "4B6UnLGYVX05",
        "outputId": "914211ad-8a67-4f73-8f22-0446c5325db1"
      },
      "execution_count": 7,
      "outputs": [
        {
          "output_type": "stream",
          "name": "stdout",
          "text": [
            "\n",
            "Question 5: Check if 100 is greater than 50 or less than 25\n",
            "True\n"
          ]
        }
      ]
    },
    {
      "cell_type": "code",
      "source": [
        "# Question 6: Check if 0 is falsy in Python\n",
        "print(\"\\nQuestion 6: Check if 0 is falsy in Python\")\n",
        "# Your code here\n",
        "print(bool(0))\n"
      ],
      "metadata": {
        "colab": {
          "base_uri": "https://localhost:8080/"
        },
        "id": "ftDAgeVGVRWT",
        "outputId": "8c3e1874-a2de-48fd-ebf8-c2a81515606c"
      },
      "execution_count": 8,
      "outputs": [
        {
          "output_type": "stream",
          "name": "stdout",
          "text": [
            "\n",
            "Question 6: Check if 0 is falsy in Python\n",
            "False\n"
          ]
        }
      ]
    },
    {
      "cell_type": "code",
      "source": [
        "# Question 7: Check if empty string \"\" is falsy in Python\n",
        "print(\"\\nQuestion 7: Check if empty string '' is falsy in Python\")\n",
        "# Your code here\n",
        "print(bool(''))\n"
      ],
      "metadata": {
        "id": "37tVMOFoVRKG"
      },
      "execution_count": null,
      "outputs": []
    },
    {
      "cell_type": "code",
      "source": [
        "# Question 8: Check if 42 is truthy in Python\n",
        "print(\"\\nQuestion 8: Check if 42 is truthy in Python\")\n",
        "# Your code here\n",
        "print(bool(42)) #Any non-zero number is truthy in Python\n"
      ],
      "metadata": {
        "colab": {
          "base_uri": "https://localhost:8080/"
        },
        "id": "QQ2P9qYOVMrj",
        "outputId": "5c1db03a-fc0b-4be4-d0f7-a047cb76ea88"
      },
      "execution_count": 9,
      "outputs": [
        {
          "output_type": "stream",
          "name": "stdout",
          "text": [
            "\n",
            "Question 8: Check if 42 is truthy in Python\n",
            "True\n"
          ]
        }
      ]
    },
    {
      "cell_type": "code",
      "source": [
        "# Question 9: Check if 10 is between 5 and 15 (inclusive)\n",
        "print(\"\\nQuestion 9: Check if 10 is between 5 and 15 (inclusive)\")\n",
        "# Your code here\n",
        "print(5 <= 10 <= 15)\n"
      ],
      "metadata": {
        "colab": {
          "base_uri": "https://localhost:8080/"
        },
        "id": "x3ZLSL3FVMoI",
        "outputId": "275d0b80-4ec2-4acd-9fef-aed0e859e573"
      },
      "execution_count": 10,
      "outputs": [
        {
          "output_type": "stream",
          "name": "stdout",
          "text": [
            "\n",
            "Question 9: Check if 10 is between 5 and 15 (inclusive)\n",
            "True\n"
          ]
        }
      ]
    },
    {
      "cell_type": "code",
      "source": [
        "# Question 10: Check if 3.14 is greater than 3 and less than 4\n",
        "print(\"\\nQuestion 10: Check if 3.14 is greater than 3 and less than 4\")\n",
        "# Your code here\n",
        "print(3 < 3.14 < 4)\n"
      ],
      "metadata": {
        "colab": {
          "base_uri": "https://localhost:8080/"
        },
        "id": "ZD2o42gOVMkk",
        "outputId": "381a2ca9-2f55-43cb-bdef-76af509256e2"
      },
      "execution_count": 11,
      "outputs": [
        {
          "output_type": "stream",
          "name": "stdout",
          "text": [
            "\n",
            "Question 10: Check if 3.14 is greater than 3 and less than 4\n",
            "True\n"
          ]
        }
      ]
    }
  ]
}