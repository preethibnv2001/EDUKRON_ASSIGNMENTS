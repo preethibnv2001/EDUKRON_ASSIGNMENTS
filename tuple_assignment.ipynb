{
  "nbformat": 4,
  "nbformat_minor": 0,
  "metadata": {
    "colab": {
      "provenance": []
    },
    "kernelspec": {
      "name": "python3",
      "display_name": "Python 3"
    },
    "language_info": {
      "name": "python"
    }
  },
  "cells": [
    {
      "cell_type": "code",
      "execution_count": 4,
      "metadata": {
        "colab": {
          "base_uri": "https://localhost:8080/"
        },
        "id": "7SIViRJtDctX",
        "outputId": "3c099a67-4890-4775-f195-1eddec4d047c"
      },
      "outputs": [
        {
          "output_type": "stream",
          "name": "stdout",
          "text": [
            "Find the sum and product of all elements in a tuple\n",
            "Tuple: (2, 4, 6, 8, 10)\n",
            "Sum: 30\n",
            "Product: 3840\n",
            "--------------------------------------------------\n"
          ]
        }
      ],
      "source": [
        "# TUPLE DATATYPE ASSIGNMENT\n",
        "\n",
        "# SOLVED EXAMPLE\n",
        "# --------------\n",
        "# Question: Find the sum and product of all elements in a tuple\n",
        "print(\"Find the sum and product of all elements in a tuple\")\n",
        "numbers = (2, 4, 6, 8, 10)\n",
        "sum_tuple = sum(numbers)\n",
        "product = 1\n",
        "for num in numbers:\n",
        "    product *= num\n",
        "print(f\"Tuple: {numbers}\")\n",
        "print(f\"Sum: {sum_tuple}\")\n",
        "print(f\"Product: {product}\")\n",
        "print(\"-\" * 50)"
      ]
    },
    {
      "cell_type": "code",
      "source": [
        "# Question 1: Create a tuple of first 10 natural numbers\n",
        "print(\"Question 1: Create a tuple of first 10 natural numbers\")\n",
        "# Your code here\n",
        "\n",
        "numbers = tuple(range(1, 11))\n",
        "print(numbers)\n"
      ],
      "metadata": {
        "colab": {
          "base_uri": "https://localhost:8080/"
        },
        "id": "eDi1THp4DlNp",
        "outputId": "14fbe37a-8b1c-4635-fbb2-c7409fa3911e"
      },
      "execution_count": 5,
      "outputs": [
        {
          "output_type": "stream",
          "name": "stdout",
          "text": [
            "Question 1: Create a tuple of first 10 natural numbers\n",
            "(1, 2, 3, 4, 5, 6, 7, 8, 9, 10)\n"
          ]
        }
      ]
    },
    {
      "cell_type": "code",
      "source": [
        "# Question 1: Create a tuple of first 10 natural numbers\n",
        "print(\"Question 1: Create a tuple of first 10 natural numbers\")\n",
        "\n",
        "# Creating tuple manually\n",
        "numbers = (1, 2, 3, 4, 5, 6, 7, 8, 9, 10)\n",
        "print(numbers)\n"
      ],
      "metadata": {
        "colab": {
          "base_uri": "https://localhost:8080/"
        },
        "id": "7SAfwLrmF9oY",
        "outputId": "2b5a09d5-6a97-44fb-fab4-6840d338679d"
      },
      "execution_count": 6,
      "outputs": [
        {
          "output_type": "stream",
          "name": "stdout",
          "text": [
            "Question 1: Create a tuple of first 10 natural numbers\n",
            "(1, 2, 3, 4, 5, 6, 7, 8, 9, 10)\n"
          ]
        }
      ]
    },
    {
      "cell_type": "code",
      "source": [
        "# Question 2: Find the length of tuple (1, 2, 3, 4, 5, 6, 7, 8, 9, 10)\n",
        "print(\"\\nQuestion 2: Find the length of tuple (1, 2, 3, 4, 5, 6, 7, 8, 9, 10)\")\n",
        "# Your code here\n",
        "\n",
        "# Defining the tuple\n",
        "numbers = (1, 2, 3, 4, 5, 6, 7, 8, 9, 10)\n",
        "\n",
        "# Finding length\n",
        "print(len(numbers))\n"
      ],
      "metadata": {
        "colab": {
          "base_uri": "https://localhost:8080/"
        },
        "id": "wa0x6RFeD3yK",
        "outputId": "fb833047-8e12-4f30-f58f-a812b081a9c5"
      },
      "execution_count": 7,
      "outputs": [
        {
          "output_type": "stream",
          "name": "stdout",
          "text": [
            "\n",
            "Question 2: Find the length of tuple (1, 2, 3, 4, 5, 6, 7, 8, 9, 10)\n",
            "10\n"
          ]
        }
      ]
    },
    {
      "cell_type": "code",
      "source": [
        "# Question 3: Access the 3rd element from tuple ('a', 'b', 'c', 'd', 'e')\n",
        "print(\"\\nQuestion 3: Access the 3rd element from tuple ('a', 'b', 'c', 'd', 'e')\")\n",
        "# Your code here\n",
        "\n",
        "# Defining the tuple\n",
        "letters = ('a', 'b', 'c', 'd', 'e')\n",
        "\n",
        "# Accessing 3rd element (index 2)\n",
        "print(letters[2])\n"
      ],
      "metadata": {
        "colab": {
          "base_uri": "https://localhost:8080/"
        },
        "id": "8UNN_CqsD3j2",
        "outputId": "87e61dfc-aeed-407f-8ce3-31c8468ab733"
      },
      "execution_count": 8,
      "outputs": [
        {
          "output_type": "stream",
          "name": "stdout",
          "text": [
            "\n",
            "Question 3: Access the 3rd element from tuple ('a', 'b', 'c', 'd', 'e')\n",
            "c\n"
          ]
        }
      ]
    },
    {
      "cell_type": "code",
      "source": [
        "# Question 4: Find the maximum value in tuple (23, 45, 12, 67, 34, 89, 56)\n",
        "print(\"\\nQuestion 4: Find the maximum value in tuple (23, 45, 12, 67, 34, 89, 56)\")\n",
        "# Your code here\n",
        "# Defining the tuple\n",
        "numbers = (23, 45, 12, 67, 34, 89, 56)\n",
        "\n",
        "# Finding maximum\n",
        "print(max(numbers))"
      ],
      "metadata": {
        "colab": {
          "base_uri": "https://localhost:8080/"
        },
        "id": "6h9wtWvMD3Y3",
        "outputId": "7cbe9e0a-1b53-4013-82d7-398dc931ea0f"
      },
      "execution_count": 9,
      "outputs": [
        {
          "output_type": "stream",
          "name": "stdout",
          "text": [
            "\n",
            "Question 4: Find the maximum value in tuple (23, 45, 12, 67, 34, 89, 56)\n",
            "89\n"
          ]
        }
      ]
    },
    {
      "cell_type": "code",
      "source": [
        "# Question 5: Count how many times 5 appears in (1, 5, 2, 5, 3, 5, 4, 5, 6)\n",
        "print(\"\\nQuestion 5: Count how many times 5 appears in (1, 5, 2, 5, 3, 5, 4, 5, 6)\")\n",
        "# Your code here\n",
        "# Defining the tuple\n",
        "numbers = (1, 5, 2, 5, 3, 5, 4, 5, 6)\n",
        "\n",
        "# Counting occurrences of 5\n",
        "print(numbers.count(5))"
      ],
      "metadata": {
        "colab": {
          "base_uri": "https://localhost:8080/"
        },
        "id": "CUFSfnl3D3Nt",
        "outputId": "5976a2ae-6be5-4d55-964c-d86a92940edd"
      },
      "execution_count": 10,
      "outputs": [
        {
          "output_type": "stream",
          "name": "stdout",
          "text": [
            "\n",
            "Question 5: Count how many times 5 appears in (1, 5, 2, 5, 3, 5, 4, 5, 6)\n",
            "4\n"
          ]
        }
      ]
    },
    {
      "cell_type": "code",
      "source": [
        "# Question 6: Create a tuple of mixed data types (integer, float, string, boolean)\n",
        "print(\"\\nQuestion 6: Create a tuple of mixed data types (integer, float, string, boolean)\")\n",
        "# Your code here\n",
        "\n",
        "# Creating tuple with mixed data types\n",
        "mixed_tuple = (25, 3.14, \"Hello\", True)\n",
        "\n",
        "print(mixed_tuple)"
      ],
      "metadata": {
        "colab": {
          "base_uri": "https://localhost:8080/"
        },
        "id": "tma9JeEdEHj_",
        "outputId": "b094e1c3-8aee-4717-a673-00e91dc6d2cf"
      },
      "execution_count": 12,
      "outputs": [
        {
          "output_type": "stream",
          "name": "stdout",
          "text": [
            "\n",
            "Question 6: Create a tuple of mixed data types (integer, float, string, boolean)\n",
            "(25, 3.14, 'Hello', True)\n"
          ]
        }
      ]
    },
    {
      "cell_type": "code",
      "source": [
        "# Question 7: Find the index of element 'python' in ('java', 'python', 'c++', 'javascript')\n",
        "print(\"\\nQuestion 7: Find the index of element 'python' in ('java', 'python', 'c++', 'javascript')\")\n",
        "# Your code here\n",
        "\n",
        "# Defining the tuple\n",
        "languages = ('java', 'python', 'c++', 'javascript')\n",
        "\n",
        "# Finding index of 'python'\n",
        "print(languages.index('python'))"
      ],
      "metadata": {
        "colab": {
          "base_uri": "https://localhost:8080/"
        },
        "id": "BnqUNhsvD3CQ",
        "outputId": "78bdacb2-7cd2-4634-cd7e-dc44022a0a98"
      },
      "execution_count": 13,
      "outputs": [
        {
          "output_type": "stream",
          "name": "stdout",
          "text": [
            "\n",
            "Question 7: Find the index of element 'python' in ('java', 'python', 'c++', 'javascript')\n",
            "1\n"
          ]
        }
      ]
    },
    {
      "cell_type": "code",
      "source": [
        "# Question 8: Check if 25 exists in tuple (10, 20, 30, 40, 50)\n",
        "print(\"\\nQuestion 8: Check if 25 exists in tuple (10, 20, 30, 40, 50)\")\n",
        "# Your code here\n",
        "\n",
        "# Defining the tuple\n",
        "numbers = (10, 20, 30, 40, 50)\n",
        "\n",
        "# Checking if 25 exists\n",
        "print(25 in numbers)"
      ],
      "metadata": {
        "colab": {
          "base_uri": "https://localhost:8080/"
        },
        "id": "LHcWub7KD22y",
        "outputId": "feab1efe-117f-452c-f798-2ba7b69c9463"
      },
      "execution_count": 14,
      "outputs": [
        {
          "output_type": "stream",
          "name": "stdout",
          "text": [
            "\n",
            "Question 8: Check if 25 exists in tuple (10, 20, 30, 40, 50)\n",
            "False\n"
          ]
        }
      ]
    },
    {
      "cell_type": "code",
      "source": [
        "# Question 9: Create a tuple of first 5 even numbers\n",
        "print(\"\\nQuestion 9: Create a tuple of first 5 even numbers\")\n",
        "# Your code here\n",
        "# Method 1: Using range()\n",
        "even_numbers = tuple(range(2, 11, 2))\n",
        "print(even_numbers)\n",
        "\n",
        "# Method 2: Directly writing the tuple\n",
        "even_numbers_direct = (2, 4, 6, 8, 10)\n",
        "print(even_numbers_direct)"
      ],
      "metadata": {
        "colab": {
          "base_uri": "https://localhost:8080/"
        },
        "id": "HaQn43s4D2rE",
        "outputId": "864b0bdf-327e-450d-95b9-1b603cd7697e"
      },
      "execution_count": 15,
      "outputs": [
        {
          "output_type": "stream",
          "name": "stdout",
          "text": [
            "\n",
            "Question 9: Create a tuple of first 5 even numbers\n",
            "(2, 4, 6, 8, 10)\n",
            "(2, 4, 6, 8, 10)\n"
          ]
        }
      ]
    },
    {
      "cell_type": "code",
      "source": [
        "# Question 10: Find the average of numbers in tuple (15, 23, 31, 42, 56, 78)\n",
        "print(\"\\nQuestion 10: Find the average of numbers in tuple (15, 23, 31, 42, 56, 78)\")\n",
        "# Your code here\n",
        "# Defining the tuple\n",
        "numbers = (15, 23, 31, 42, 56, 78)\n",
        "\n",
        "# Calculating average\n",
        "average = sum(numbers) / len(numbers)\n",
        "print(average)"
      ],
      "metadata": {
        "colab": {
          "base_uri": "https://localhost:8080/"
        },
        "id": "SFyNnqJhD2a8",
        "outputId": "06b2e764-71ce-40f7-e953-a070f1e0f244"
      },
      "execution_count": 16,
      "outputs": [
        {
          "output_type": "stream",
          "name": "stdout",
          "text": [
            "\n",
            "Question 10: Find the average of numbers in tuple (15, 23, 31, 42, 56, 78)\n",
            "40.833333333333336\n"
          ]
        }
      ]
    }
  ]
}