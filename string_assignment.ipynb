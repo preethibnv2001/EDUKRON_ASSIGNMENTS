{
  "nbformat": 4,
  "nbformat_minor": 0,
  "metadata": {
    "colab": {
      "provenance": []
    },
    "kernelspec": {
      "name": "python3",
      "display_name": "Python 3"
    },
    "language_info": {
      "name": "python"
    }
  },
  "cells": [
    {
      "cell_type": "code",
      "execution_count": null,
      "metadata": {
        "colab": {
          "base_uri": "https://localhost:8080/"
        },
        "id": "ssEyruyUTAEe",
        "outputId": "fe140e97-80e8-4959-ae3f-440ac6760ea0"
      },
      "outputs": [
        {
          "output_type": "stream",
          "name": "stdout",
          "text": [
            "Calculate the sum of first 5 even numbers\n",
            "First 5 even numbers: [2, 4, 6, 8, 10]\n",
            "Sum: 30\n",
            "--------------------------------------------------\n"
          ]
        }
      ],
      "source": [
        "# INTEGER DATATYPE ASSIGNMENT\n",
        "\n",
        "# SOLVED EXAMPLE\n",
        "# Question: Calculate the sum of first 5 even numbers\n",
        "\n",
        "print(\"Calculate the sum of first 5 even numbers\")\n",
        "first_5_even = [2, 4, 6, 8, 10]\n",
        "sum_even = sum(first_5_even)\n",
        "print(f\"First 5 even numbers: {first_5_even}\")\n",
        "print(f\"Sum: {sum_even}\")\n",
        "print(\"-\" * 50)"
      ]
    },
    {
      "cell_type": "code",
      "source": [
        "# FLOAT DATATYPE ASSIGNMENT\n",
        "\n",
        "# SOLVED EXAMPLE\n",
        "# Question: Calculate the area of a circle with radius 5.5\n",
        "\n",
        "print(\"Calculate the area of a circle with radius 5.5\")\n",
        "import math\n",
        "radius = 5.5\n",
        "area = math.pi * radius ** 2\n",
        "print(f\"Radius: {radius}\")\n",
        "print(f\"Area: {area:.2f}\")\n",
        "print(\"-\" * 50)"
      ],
      "metadata": {
        "colab": {
          "base_uri": "https://localhost:8080/"
        },
        "id": "_h0y7z_1T34y",
        "outputId": "fde82453-aff6-4e1a-a6c9-9dba66f68136"
      },
      "execution_count": null,
      "outputs": [
        {
          "output_type": "stream",
          "name": "stdout",
          "text": [
            "Calculate the area of a circle with radius 5.5\n",
            "Radius: 5.5\n",
            "Area: 95.03\n",
            "--------------------------------------------------\n"
          ]
        }
      ]
    },
    {
      "cell_type": "code",
      "source": [
        "# STRING DATATYPE ASSIGNMENT - 50 QUESTIONS\n",
        "\n",
        "# SOLVED EXAMPLE\n",
        "# Question: Count vowels in the string \"Hello World\"\n",
        "print(\"Count vowels in the string 'Hello World'\")\n",
        "text = \"Hello World\"\n",
        "vowels = \"aeiouAEIOU\"\n",
        "count = sum(1 for char in text if char in vowels)\n",
        "print(f\"String: {text}\")\n",
        "print(f\"Number of vowels: {count}\")\n",
        "print(\"-\" * 50)"
      ],
      "metadata": {
        "colab": {
          "base_uri": "https://localhost:8080/"
        },
        "id": "8pod1VxfUEdO",
        "outputId": "8e5806b1-0872-4327-a216-445bc1d828fa"
      },
      "execution_count": null,
      "outputs": [
        {
          "output_type": "stream",
          "name": "stdout",
          "text": [
            "Count vowels in the string 'Hello World'\n",
            "String: Hello World\n",
            "Number of vowels: 3\n",
            "--------------------------------------------------\n"
          ]
        }
      ]
    },
    {
      "cell_type": "code",
      "source": [
        "# Question 1: Reverse the string \"Python Programming\"\n",
        "print(\"Question 1: Reverse the string 'Python Programming'\")\n",
        "# Your code here\n",
        "text = \"Python Programming\"\n",
        "reversed_text = text[::-1]\n",
        "print(reversed_text)"
      ],
      "metadata": {
        "id": "1tcaVzlxUWJj",
        "colab": {
          "base_uri": "https://localhost:8080/"
        },
        "outputId": "ead67840-0b25-45b0-daba-0a379d18d022"
      },
      "execution_count": 1,
      "outputs": [
        {
          "output_type": "stream",
          "name": "stdout",
          "text": [
            "Question 1: Reverse the string 'Python Programming'\n",
            "gnimmargorP nohtyP\n"
          ]
        }
      ]
    },
    {
      "cell_type": "code",
      "source": [
        "# Question 2: Check if \"racecar\" is a palindrome\n",
        "print(\"\\nQuestion 2: Check if 'racecar' is a palindrome\")\n",
        "# Your code here\n",
        "text = \"racecar\"\n",
        "if text == text[::-1]:\n",
        "    print(f\"'{text}' is a palindrome\")\n",
        "else:\n",
        "    print(f\"'{text}' is not a palindrome\")"
      ],
      "metadata": {
        "id": "QuDSc1PiUV7Y",
        "colab": {
          "base_uri": "https://localhost:8080/"
        },
        "outputId": "312e1c10-ef2f-47bc-a7f7-99e90e473acc"
      },
      "execution_count": 2,
      "outputs": [
        {
          "output_type": "stream",
          "name": "stdout",
          "text": [
            "\n",
            "Question 2: Check if 'racecar' is a palindrome\n",
            "'racecar' is a palindrome\n"
          ]
        }
      ]
    },
    {
      "cell_type": "code",
      "source": [
        "# Question 3: Count the number of words in \"Python is a great programming language\"\n",
        "print(\"\\nQuestion 3: Count the number of words in 'Python is a great programming language'\")\n",
        "# Your code here\n",
        "text = \"Python is a great programming language\"\n",
        "word_count = len(text.split())\n",
        "print(f\"Number of words: {word_count}\")"
      ],
      "metadata": {
        "id": "onY6tNomUVtG",
        "colab": {
          "base_uri": "https://localhost:8080/"
        },
        "outputId": "159e5efc-a6be-4003-e261-5d258cc8e115"
      },
      "execution_count": 3,
      "outputs": [
        {
          "output_type": "stream",
          "name": "stdout",
          "text": [
            "\n",
            "Question 3: Count the number of words in 'Python is a great programming language'\n",
            "Number of words: 6\n"
          ]
        }
      ]
    },
    {
      "cell_type": "code",
      "source": [
        "# Question 4: Convert \"hello world\" to title case\n",
        "print(\"\\nQuestion 4: Convert 'hello world' to title case\")\n",
        "# Your code here\n",
        "text = \"hello world\"\n",
        "title_text = text.title()\n",
        "print(title_text)"
      ],
      "metadata": {
        "id": "OoLU9SlfUVeh",
        "colab": {
          "base_uri": "https://localhost:8080/"
        },
        "outputId": "56e61a21-6651-4907-8157-6ae8b36ac3bd"
      },
      "execution_count": 4,
      "outputs": [
        {
          "output_type": "stream",
          "name": "stdout",
          "text": [
            "\n",
            "Question 4: Convert 'hello world' to title case\n",
            "Hello World\n"
          ]
        }
      ]
    },
    {
      "cell_type": "code",
      "source": [
        "# Question 5: Find the length of string \"Data Science\"\n",
        "print(\"\\nQuestion 5: Find the length of string 'Data Science'\")\n",
        "# Your code here\n",
        "text = \"Data Science\"\n",
        "length = len(text)\n",
        "print(f\"Length of the string: {length}\")"
      ],
      "metadata": {
        "id": "kroZfrJ7UVQ-",
        "colab": {
          "base_uri": "https://localhost:8080/"
        },
        "outputId": "3ff82e44-5fb3-40ff-8708-1745065f9c3f"
      },
      "execution_count": 5,
      "outputs": [
        {
          "output_type": "stream",
          "name": "stdout",
          "text": [
            "\n",
            "Question 5: Find the length of string 'Data Science'\n",
            "Length of the string: 12\n"
          ]
        }
      ]
    },
    {
      "cell_type": "code",
      "source": [
        "# Question 6: Replace all spaces with underscores in \"Machine Learning\"\n",
        "print(\"\\nQuestion 6: Replace all spaces with underscores in 'Machine Learning'\")\n",
        "# Your code here\n",
        "text = \"Machine Learning\"\n",
        "new_text = text.replace(\" \", \"_\")\n",
        "print(new_text)"
      ],
      "metadata": {
        "id": "5VgGP27MUVA5",
        "colab": {
          "base_uri": "https://localhost:8080/"
        },
        "outputId": "934522da-3b9a-4c05-cba3-125f4beae09a"
      },
      "execution_count": 6,
      "outputs": [
        {
          "output_type": "stream",
          "name": "stdout",
          "text": [
            "\n",
            "Question 6: Replace all spaces with underscores in 'Machine Learning'\n",
            "Machine_Learning\n"
          ]
        }
      ]
    },
    {
      "cell_type": "code",
      "source": [
        "# Question 7: Check if \"python\" is in \"Python Programming Language\"\n",
        "print(\"\\nQuestion 7: Check if 'python' is in 'Python Programming Language'\")\n",
        "# Your code here\n",
        "text = \"Python Programming Language\"\n",
        "word = \"python\"\n",
        "\n",
        "if word.lower() in text.lower():\n",
        "    print(f\"'{word}' is in '{text}'\")\n",
        "else:\n",
        "    print(f\"'{word}' is not in '{text}'\")"
      ],
      "metadata": {
        "id": "vpc4Y76XUUx9",
        "colab": {
          "base_uri": "https://localhost:8080/"
        },
        "outputId": "ae4f591d-55be-4811-f13c-94086cbe610b"
      },
      "execution_count": 7,
      "outputs": [
        {
          "output_type": "stream",
          "name": "stdout",
          "text": [
            "\n",
            "Question 7: Check if 'python' is in 'Python Programming Language'\n",
            "'python' is in 'Python Programming Language'\n"
          ]
        }
      ]
    },
    {
      "cell_type": "code",
      "source": [
        "# Question 8: Extract the first 5 characters from \"Artificial Intelligence\"\n",
        "print(\"\\nQuestion 8: Extract the first 5 characters from 'Artificial Intelligence'\")\n",
        "# Your code here\n",
        "text = \"Artificial Intelligence\"\n",
        "first_five = text[:5]\n",
        "print(first_five)"
      ],
      "metadata": {
        "id": "AqX_Sun0UT6F",
        "colab": {
          "base_uri": "https://localhost:8080/"
        },
        "outputId": "1aa489e3-a856-41ec-a278-4be9ecfa3962"
      },
      "execution_count": 8,
      "outputs": [
        {
          "output_type": "stream",
          "name": "stdout",
          "text": [
            "\n",
            "Question 8: Extract the first 5 characters from 'Artificial Intelligence'\n",
            "Artif\n"
          ]
        }
      ]
    },
    {
      "cell_type": "code",
      "source": [
        "# Question 9: Convert \"UPPERCASE\" to lowercase\n",
        "print(\"\\nQuestion 9: Convert 'UPPERCASE' to lowercase\")\n",
        "# Your code here\n",
        "text = \"UPPERCASE\"\n",
        "lower_text = text.lower()\n",
        "print(lower_text)"
      ],
      "metadata": {
        "id": "xOWfCMH4UTsM",
        "colab": {
          "base_uri": "https://localhost:8080/"
        },
        "outputId": "b349a4bb-8cca-4ee6-b2fb-3db80ce8ba8f"
      },
      "execution_count": 9,
      "outputs": [
        {
          "output_type": "stream",
          "name": "stdout",
          "text": [
            "\n",
            "Question 9: Convert 'UPPERCASE' to lowercase\n",
            "uppercase\n"
          ]
        }
      ]
    },
    {
      "cell_type": "code",
      "source": [
        "# Question 10: Remove all vowels from \"Computer Science\"\n",
        "print(\"\\nQuestion 10: Remove all vowels from 'Computer Science'\")\n",
        "# Your code here\n",
        "text = \"Computer Science\"\n",
        "vowels = \"aeiouAEIOU\"\n",
        "result = \"\"\n",
        "\n",
        "for char in text:\n",
        "    if char not in vowels:\n",
        "        result += char\n",
        "\n",
        "print(result)"
      ],
      "metadata": {
        "id": "KVTFE4SPUTZO",
        "colab": {
          "base_uri": "https://localhost:8080/"
        },
        "outputId": "ce77b8e0-9e4f-48ef-c6a4-8d93c6238485"
      },
      "execution_count": 10,
      "outputs": [
        {
          "output_type": "stream",
          "name": "stdout",
          "text": [
            "\n",
            "Question 10: Remove all vowels from 'Computer Science'\n",
            "Cmptr Scnc\n"
          ]
        }
      ]
    },
    {
      "cell_type": "code",
      "source": [
        "# Question 11: Find the most frequent character in \"mississippi\"\n",
        "print(\"\\nQuestion 11: Find the most frequent character in 'mississippi'\")\n",
        "# Your code here\n",
        "text = \"mississippi\"\n",
        "freq = {}\n",
        "\n",
        "for char in text:\n",
        "    freq[char] = freq.get(char, 0) + 1\n",
        "\n",
        "most_frequent = max(freq, key=freq.get)\n",
        "print(f\"Most frequent character: '{most_frequent}' with count {freq[most_frequent]}\")"
      ],
      "metadata": {
        "id": "ExBuKCWQUy8i",
        "colab": {
          "base_uri": "https://localhost:8080/"
        },
        "outputId": "d1581bed-bca3-45c4-f7c5-cf9fc492b110"
      },
      "execution_count": 11,
      "outputs": [
        {
          "output_type": "stream",
          "name": "stdout",
          "text": [
            "\n",
            "Question 11: Find the most frequent character in 'mississippi'\n",
            "Most frequent character: 'i' with count 4\n"
          ]
        }
      ]
    },
    {
      "cell_type": "code",
      "source": [
        "# Question 12: Check if two strings are anagrams: \"listen\" and \"silent\"\n",
        "print(\"\\nQuestion 12: Check if two strings are anagrams: 'listen' and 'silent'\")\n",
        "# Your code here\n",
        "\n",
        "str1 = \"listen\"\n",
        "str2 = \"silent\"\n",
        "\n",
        "if sorted(str1) == sorted(str2):\n",
        "    print(f\"'{str1}' and '{str2}' are anagrams\")\n",
        "else:\n",
        "    print(f\"'{str1}' and '{str2}' are not anagrams\")\n"
      ],
      "metadata": {
        "id": "kPYH2LIpUyxy",
        "colab": {
          "base_uri": "https://localhost:8080/"
        },
        "outputId": "d668945e-ca04-492a-c5f0-2d4f353b3019"
      },
      "execution_count": 12,
      "outputs": [
        {
          "output_type": "stream",
          "name": "stdout",
          "text": [
            "\n",
            "Question 12: Check if two strings are anagrams: 'listen' and 'silent'\n",
            "'listen' and 'silent' are anagrams\n"
          ]
        }
      ]
    },
    {
      "cell_type": "code",
      "source": [
        "# Question 13: Capitalize first letter of each word in \"python programming language\"\n",
        "print(\"\\nQuestion 13: Capitalize first letter of each word in 'python programming language'\")\n",
        "# Your code here\n",
        "\n",
        "text = \"python programming language\"\n",
        "capitalized_text = text.title()\n",
        "print(capitalized_text)\n"
      ],
      "metadata": {
        "id": "g6yC4QtDUyoJ",
        "colab": {
          "base_uri": "https://localhost:8080/"
        },
        "outputId": "320d9317-e5f6-4359-c82c-4b35e33abade"
      },
      "execution_count": 13,
      "outputs": [
        {
          "output_type": "stream",
          "name": "stdout",
          "text": [
            "\n",
            "Question 13: Capitalize first letter of each word in 'python programming language'\n",
            "Python Programming Language\n"
          ]
        }
      ]
    },
    {
      "cell_type": "code",
      "source": [
        "# Question 14: Count consonants in \"Hello World\"\n",
        "print(\"\\nQuestion 14: Count consonants in 'Hello World'\")\n",
        "# Your code here\n",
        "\n",
        "text = \"Hello World\"\n",
        "vowels = \"aeiouAEIOU\"\n",
        "consonant_count = 0\n",
        "\n",
        "for char in text:\n",
        "    if char.isalpha() and char not in vowels:\n",
        "        consonant_count += 1\n",
        "\n",
        "print(f\"Number of consonants: {consonant_count}\")\n"
      ],
      "metadata": {
        "id": "AyfND9nAUyeH",
        "colab": {
          "base_uri": "https://localhost:8080/"
        },
        "outputId": "5f11e562-b025-4d76-d602-59a0f9afd939"
      },
      "execution_count": 14,
      "outputs": [
        {
          "output_type": "stream",
          "name": "stdout",
          "text": [
            "\n",
            "Question 14: Count consonants in 'Hello World'\n",
            "Number of consonants: 7\n"
          ]
        }
      ]
    },
    {
      "cell_type": "code",
      "source": [
        "# Question 15: Find the longest word in \"Python is a programming language\"\n",
        "print(\"\\nQuestion 15: Find the longest word in 'Python is a programming language'\")\n",
        "# Your code here\n",
        "\n",
        "text = \"Python is a programming language\"\n",
        "words = text.split()\n",
        "longest_word = max(words, key=len)\n",
        "print(f\"Longest word: '{longest_word}' with length {len(longest_word)}\")\n"
      ],
      "metadata": {
        "id": "jrmGzqkLUySa",
        "colab": {
          "base_uri": "https://localhost:8080/"
        },
        "outputId": "13cce50f-bdff-4262-8104-cc580c6dd4ec"
      },
      "execution_count": 15,
      "outputs": [
        {
          "output_type": "stream",
          "name": "stdout",
          "text": [
            "\n",
            "Question 15: Find the longest word in 'Python is a programming language'\n",
            "Longest word: 'programming' with length 11\n"
          ]
        }
      ]
    },
    {
      "cell_type": "code",
      "source": [
        "# Question 16: Remove all punctuation from \"Hello, World! How are you?\"\n",
        "print(\"\\nQuestion 16: Remove all punctuation from 'Hello, World! How are you?'\")\n",
        "# Your code here\n",
        "\n",
        "import string\n",
        "\n",
        "text = \"Hello, World! How are you?\"\n",
        "cleaned_text = \"\".join(char for char in text if char not in string.punctuation)\n",
        "print(cleaned_text)\n"
      ],
      "metadata": {
        "id": "8wpRsUktUyIT",
        "colab": {
          "base_uri": "https://localhost:8080/"
        },
        "outputId": "c2f702ad-82e7-4398-dc13-aaad602837b6"
      },
      "execution_count": 16,
      "outputs": [
        {
          "output_type": "stream",
          "name": "stdout",
          "text": [
            "\n",
            "Question 16: Remove all punctuation from 'Hello, World! How are you?'\n",
            "Hello World How are you\n"
          ]
        }
      ]
    },
    {
      "cell_type": "code",
      "source": [
        "# Question 17: Check if string starts with \"Python\"\n",
        "print(\"\\nQuestion 17: Check if string starts with 'Python'\")\n",
        "# Your code here\n",
        "\n",
        "text = \"Python Programming Language\"\n",
        "\n",
        "if text.startswith(\"Python\"):\n",
        "    print(f\"The string starts with 'Python'\")\n",
        "else:\n",
        "    print(f\"The string does not start with 'Python'\")\n"
      ],
      "metadata": {
        "id": "QpoEpP46Ux9C",
        "colab": {
          "base_uri": "https://localhost:8080/"
        },
        "outputId": "52feda1e-a264-4887-c606-5922984b3af7"
      },
      "execution_count": 17,
      "outputs": [
        {
          "output_type": "stream",
          "name": "stdout",
          "text": [
            "\n",
            "Question 17: Check if string starts with 'Python'\n",
            "The string starts with 'Python'\n"
          ]
        }
      ]
    },
    {
      "cell_type": "code",
      "source": [
        "# Question 18: Find the index of first occurrence of 'o' in \"Hello World\"\n",
        "print(\"\\nQuestion 18: Find the index of first occurrence of 'o' in 'Hello World'\")\n",
        "# Your code here\n",
        "\n",
        "text = \"Hello World\"\n",
        "index = text.find(\"o\")\n",
        "print(f\"First occurrence of 'o' is at index {index}\")\n"
      ],
      "metadata": {
        "id": "IV8mA0_dUxwU",
        "colab": {
          "base_uri": "https://localhost:8080/"
        },
        "outputId": "83c35dd4-c48a-4ddf-c845-ea3ca46a932e"
      },
      "execution_count": 18,
      "outputs": [
        {
          "output_type": "stream",
          "name": "stdout",
          "text": [
            "\n",
            "Question 18: Find the index of first occurrence of 'o' in 'Hello World'\n",
            "First occurrence of 'o' is at index 4\n"
          ]
        }
      ]
    },
    {
      "cell_type": "code",
      "source": [
        "# Question 19: Split string \"apple,banana,orange\" by comma\n",
        "print(\"\\nQuestion 19: Split string 'apple,banana,orange' by comma\")\n",
        "# Your code here\n",
        "\n",
        "text = \"apple,banana,orange\"\n",
        "fruits = text.split(\",\")\n",
        "print(fruits)\n"
      ],
      "metadata": {
        "id": "PEvgb-VAUxeX",
        "colab": {
          "base_uri": "https://localhost:8080/"
        },
        "outputId": "eeb59f9f-6901-4daf-8ed4-0ef19a920f5f"
      },
      "execution_count": 19,
      "outputs": [
        {
          "output_type": "stream",
          "name": "stdout",
          "text": [
            "\n",
            "Question 19: Split string 'apple,banana,orange' by comma\n",
            "['apple', 'banana', 'orange']\n"
          ]
        }
      ]
    },
    {
      "cell_type": "code",
      "source": [
        "# Question 20: Join list ['Python', 'is', 'awesome'] with spaces\n",
        "print(\"\\nQuestion 20: Join list ['Python', 'is', 'awesome'] with spaces\")\n",
        "# Your code here\n",
        "\n",
        "words = ['Python', 'is', 'awesome']\n",
        "sentence = \" \".join(words)\n",
        "print(sentence)\n"
      ],
      "metadata": {
        "id": "In831gTbUxEm",
        "colab": {
          "base_uri": "https://localhost:8080/"
        },
        "outputId": "d782e619-f552-4079-8c80-523e85572279"
      },
      "execution_count": 20,
      "outputs": [
        {
          "output_type": "stream",
          "name": "stdout",
          "text": [
            "\n",
            "Question 20: Join list ['Python', 'is', 'awesome'] with spaces\n",
            "Python is awesome\n"
          ]
        }
      ]
    },
    {
      "cell_type": "code",
      "source": [
        "# Question 21: Check if string contains only digits: \"12345\"\n",
        "print(\"\\nQuestion 21: Check if string contains only digits: '12345'\")\n",
        "# Your code here\n",
        "\n",
        "text = \"12345\"\n",
        "if text.isdigit():\n",
        "    print(f\"'{text}' contains only digits\")\n",
        "else:\n",
        "    print(f\"'{text}' does not contain only digits\")\n"
      ],
      "metadata": {
        "id": "8mhjOXkfYUpR",
        "colab": {
          "base_uri": "https://localhost:8080/"
        },
        "outputId": "e84a1c76-c60b-40ee-ba62-234fa842d88c"
      },
      "execution_count": 21,
      "outputs": [
        {
          "output_type": "stream",
          "name": "stdout",
          "text": [
            "\n",
            "Question 21: Check if string contains only digits: '12345'\n",
            "'12345' contains only digits\n"
          ]
        }
      ]
    },
    {
      "cell_type": "code",
      "source": [
        "# Question 22: Check if string contains only letters: \"HelloWorld\"\n",
        "print(\"\\nQuestion 22: Check if string contains only letters: 'HelloWorld'\")\n",
        "# Your code here\n",
        "\n",
        "text = \"HelloWorld\"\n",
        "if text.isalpha():\n",
        "    print(f\"'{text}' contains only letters\")\n",
        "else:\n",
        "    print(f\"'{text}' does not contain only letters\")\n"
      ],
      "metadata": {
        "id": "0ZTOrupzYUcb",
        "colab": {
          "base_uri": "https://localhost:8080/"
        },
        "outputId": "eddc6bc0-fb3f-4096-f2f2-76fa0f3760bb"
      },
      "execution_count": 22,
      "outputs": [
        {
          "output_type": "stream",
          "name": "stdout",
          "text": [
            "\n",
            "Question 22: Check if string contains only letters: 'HelloWorld'\n",
            "'HelloWorld' contains only letters\n"
          ]
        }
      ]
    },
    {
      "cell_type": "code",
      "source": [
        "# Question 23: Convert \"hello world\" to \"hElLo WoRlD\" (alternating case)\n",
        "print(\"\\nQuestion 23: Convert 'hello world' to 'hElLo WoRlD' (alternating case)\")\n",
        "# Your code here\n",
        "\n",
        "text = \"hello world\"\n",
        "result = \"\"\n",
        "\n",
        "for i, char in enumerate(text):\n",
        "    if i % 2 == 0:\n",
        "        result += char.lower()\n",
        "    else:\n",
        "        result += char.upper()\n",
        "\n",
        "print(result)\n"
      ],
      "metadata": {
        "id": "7mmgDxThYUPR",
        "colab": {
          "base_uri": "https://localhost:8080/"
        },
        "outputId": "1a5671fa-eae0-443a-986f-82f54036d19b"
      },
      "execution_count": 23,
      "outputs": [
        {
          "output_type": "stream",
          "name": "stdout",
          "text": [
            "\n",
            "Question 23: Convert 'hello world' to 'hElLo WoRlD' (alternating case)\n",
            "hElLo wOrLd\n"
          ]
        }
      ]
    },
    {
      "cell_type": "code",
      "source": [
        "# Question 24: Find all positions of 'a' in \"banana\"\n",
        "print(\"\\nQuestion 24: Find all positions of 'a' in 'banana'\")\n",
        "# Your code here\n",
        "\n",
        "text = \"banana\"\n",
        "positions = [i for i, char in enumerate(text) if char == 'a']\n",
        "print(f\"Positions of 'a': {positions}\")\n"
      ],
      "metadata": {
        "id": "6MOwCkqzYUCM",
        "colab": {
          "base_uri": "https://localhost:8080/"
        },
        "outputId": "48b75680-2313-467a-ef51-3dc05d25537b"
      },
      "execution_count": 24,
      "outputs": [
        {
          "output_type": "stream",
          "name": "stdout",
          "text": [
            "\n",
            "Question 24: Find all positions of 'a' in 'banana'\n",
            "Positions of 'a': [1, 3, 5]\n"
          ]
        }
      ]
    },
    {
      "cell_type": "code",
      "source": [
        "# Question 25: Remove leading and trailing whitespace from \"  Hello World  \"\n",
        "print(\"\\nQuestion 25: Remove leading and trailing whitespace from '  Hello World  '\")\n",
        "# Your code here\n",
        "\n",
        "text = \"  Hello World  \"\n",
        "cleaned_text = text.strip()\n",
        "print(f\"'{cleaned_text}'\")\n"
      ],
      "metadata": {
        "id": "H16UFjGoYT2-",
        "colab": {
          "base_uri": "https://localhost:8080/"
        },
        "outputId": "0a29a5f3-6a96-47b6-fbb9-d80e05eb86ee"
      },
      "execution_count": 25,
      "outputs": [
        {
          "output_type": "stream",
          "name": "stdout",
          "text": [
            "\n",
            "Question 25: Remove leading and trailing whitespace from '  Hello World  '\n",
            "'Hello World'\n"
          ]
        }
      ]
    },
    {
      "cell_type": "code",
      "source": [
        "# Question 26: Check if string ends with \"ing\": \"programming\"\n",
        "print(\"\\nQuestion 26: Check if string ends with 'ing': 'programming'\")\n",
        "# Your code here\n",
        "\n",
        "text = \"programming\"\n",
        "if text.endswith(\"ing\"):\n",
        "    print(f\"'{text}' ends with 'ing'\")\n",
        "else:\n",
        "    print(f\"'{text}' does not end with 'ing'\")\n"
      ],
      "metadata": {
        "id": "QO6Khe4KYTmC",
        "colab": {
          "base_uri": "https://localhost:8080/"
        },
        "outputId": "c5c4d173-6f9f-4486-8c68-6ecd5d4ed99d"
      },
      "execution_count": 26,
      "outputs": [
        {
          "output_type": "stream",
          "name": "stdout",
          "text": [
            "\n",
            "Question 26: Check if string ends with 'ing': 'programming'\n",
            "'programming' ends with 'ing'\n"
          ]
        }
      ]
    },
    {
      "cell_type": "code",
      "source": [
        "# Question 27: Replace first occurrence of 'o' with '0' in \"Hello World\"\n",
        "print(\"\\nQuestion 27: Replace first occurrence of 'o' with '0' in 'Hello World'\")\n",
        "# Your code here\n",
        "\n",
        "text = \"Hello World\"\n",
        "new_text = text.replace(\"o\", \"0\", 1)  # 1 means replace only the first occurrence\n",
        "print(new_text)\n"
      ],
      "metadata": {
        "id": "OO78B7xCYTaj",
        "colab": {
          "base_uri": "https://localhost:8080/"
        },
        "outputId": "b873125d-a79c-4463-97c4-ac526f4c01bf"
      },
      "execution_count": 27,
      "outputs": [
        {
          "output_type": "stream",
          "name": "stdout",
          "text": [
            "\n",
            "Question 27: Replace first occurrence of 'o' with '0' in 'Hello World'\n",
            "Hell0 World\n"
          ]
        }
      ]
    },
    {
      "cell_type": "code",
      "source": [
        "# Question 28: Find the shortest word in \"Python is a programming language\"\n",
        "print(\"\\nQuestion 28: Find the shortest word in 'Python is a programming language'\")\n",
        "# Your code here\n",
        "text = \"Python is a programming language\"\n",
        "words = text.split()\n",
        "shortest_word = min(words, key=len)\n",
        "print(f\"Shortest word: '{shortest_word}' with length {len(shortest_word)}\")\n"
      ],
      "metadata": {
        "id": "Z7DVKlfJYTQP",
        "colab": {
          "base_uri": "https://localhost:8080/"
        },
        "outputId": "8aa3bb8c-93b4-4e7a-c8ea-aeaa64aeee08"
      },
      "execution_count": 28,
      "outputs": [
        {
          "output_type": "stream",
          "name": "stdout",
          "text": [
            "\n",
            "Question 28: Find the shortest word in 'Python is a programming language'\n",
            "Shortest word: 'a' with length 1\n"
          ]
        }
      ]
    },
    {
      "cell_type": "code",
      "source": [
        "# Question 29: Count words that start with 'p' in \"Python programming is powerful\"\n",
        "print(\"\\nQuestion 29: Count words that start with 'p' in 'Python programming is powerful'\")\n",
        "# Your code here\n",
        "\n",
        "text = \"Python programming is powerful\"\n",
        "words = text.split()\n",
        "count = sum(1 for word in words if word.lower().startswith(\"p\"))\n",
        "print(f\"Number of words starting with 'p': {count}\")\n"
      ],
      "metadata": {
        "id": "Y4qv-0B9YTFP",
        "colab": {
          "base_uri": "https://localhost:8080/"
        },
        "outputId": "9dc9322c-b46b-4799-ab3b-bc0ae13ccbaf"
      },
      "execution_count": 29,
      "outputs": [
        {
          "output_type": "stream",
          "name": "stdout",
          "text": [
            "\n",
            "Question 29: Count words that start with 'p' in 'Python programming is powerful'\n",
            "Number of words starting with 'p': 3\n"
          ]
        }
      ]
    },
    {
      "cell_type": "code",
      "source": [
        "# Question 30: Reverse words in \"Hello World Python\"\n",
        "print(\"\\nQuestion 30: Reverse words in 'Hello World Python'\")\n",
        "# Your code here\n",
        "\n",
        "text = \"Hello World Python\"\n",
        "reversed_words = \" \".join(text.split()[::-1])\n",
        "print(reversed_words)\n"
      ],
      "metadata": {
        "id": "lFWzpGLfYS73",
        "colab": {
          "base_uri": "https://localhost:8080/"
        },
        "outputId": "02339e71-3153-44f3-ddab-32589a56ccc6"
      },
      "execution_count": 30,
      "outputs": [
        {
          "output_type": "stream",
          "name": "stdout",
          "text": [
            "\n",
            "Question 30: Reverse words in 'Hello World Python'\n",
            "Python World Hello\n"
          ]
        }
      ]
    },
    {
      "cell_type": "code",
      "source": [
        "# Question 31: Check if string is a valid email format: \"user@example.com\"\n",
        "print(\"\\nQuestion 31: Check if string is a valid email format: 'user@example.com'\")\n",
        "# Your code here\n",
        "\n",
        "import re\n",
        "\n",
        "text = \"user@example.com\"\n",
        "pattern = r'^[\\w\\.-]+@[\\w\\.-]+\\.\\w+$'\n",
        "\n",
        "if re.match(pattern, text):\n",
        "    print(f\"'{text}' is a valid email format\")\n",
        "else:\n",
        "    print(f\"'{text}' is not a valid email format\")\n"
      ],
      "metadata": {
        "id": "YwCwq7FfZve7",
        "colab": {
          "base_uri": "https://localhost:8080/"
        },
        "outputId": "7cdb1039-e272-4647-b1f4-70b20e2e505c"
      },
      "execution_count": 31,
      "outputs": [
        {
          "output_type": "stream",
          "name": "stdout",
          "text": [
            "\n",
            "Question 31: Check if string is a valid email format: 'user@example.com'\n",
            "'user@example.com' is a valid email format\n"
          ]
        }
      ]
    },
    {
      "cell_type": "code",
      "source": [
        "# Question 32: Extract domain from \"https://www.example.com/path\"\n",
        "print(\"\\nQuestion 32: Extract domain from 'https://www.example.com/path'\")\n",
        "# Your code here\n",
        "\n",
        "from urllib.parse import urlparse\n",
        "\n",
        "url = \"https://www.example.com/path\"\n",
        "domain = urlparse(url).netloc\n",
        "print(f\"Domain: {domain}\")\n"
      ],
      "metadata": {
        "id": "MAr6bK2jZvXQ",
        "colab": {
          "base_uri": "https://localhost:8080/"
        },
        "outputId": "e1727e5c-9d8c-4917-af32-91b93ec5e149"
      },
      "execution_count": 32,
      "outputs": [
        {
          "output_type": "stream",
          "name": "stdout",
          "text": [
            "\n",
            "Question 32: Extract domain from 'https://www.example.com/path'\n",
            "Domain: www.example.com\n"
          ]
        }
      ]
    },
    {
      "cell_type": "code",
      "source": [
        "# Question 33: Count lines in multi-line string\n",
        "print(\"\\nQuestion 33: Count lines in multi-line string\")\n",
        "# Your code here\n",
        "\n",
        "text = \"\"\"Python is fun\n",
        "It is powerful\n",
        "And widely used\"\"\"\n",
        "\n",
        "line_count = len(text.splitlines())\n",
        "print(f\"Number of lines: {line_count}\")\n"
      ],
      "metadata": {
        "id": "5aLM3JnuZvOq",
        "colab": {
          "base_uri": "https://localhost:8080/"
        },
        "outputId": "97b79829-d11b-4b7d-95a4-cc013b7fa83a"
      },
      "execution_count": 33,
      "outputs": [
        {
          "output_type": "stream",
          "name": "stdout",
          "text": [
            "\n",
            "Question 33: Count lines in multi-line string\n",
            "Number of lines: 3\n"
          ]
        }
      ]
    },
    {
      "cell_type": "code",
      "source": [
        "# Question 34: Find common characters between \"hello\" and \"world\"\n",
        "print(\"\\nQuestion 34: Find common characters between 'hello' and 'world'\")\n",
        "# Your code here\n",
        "\n",
        "str1 = \"hello\"\n",
        "str2 = \"world\"\n",
        "\n",
        "common = set(str1) & set(str2)\n",
        "print(f\"Common characters: {common}\")\n"
      ],
      "metadata": {
        "id": "naTRvC4xZvGT",
        "colab": {
          "base_uri": "https://localhost:8080/"
        },
        "outputId": "ff545352-8a64-47e1-8d3d-1825be9697a4"
      },
      "execution_count": 34,
      "outputs": [
        {
          "output_type": "stream",
          "name": "stdout",
          "text": [
            "\n",
            "Question 34: Find common characters between 'hello' and 'world'\n",
            "Common characters: {'l', 'o'}\n"
          ]
        }
      ]
    },
    {
      "cell_type": "code",
      "source": [
        "# Question 35: Check if string is a valid phone number: \"+1-555-123-4567\"\n",
        "print(\"\\nQuestion 35: Check if string is a valid phone number: '+1-555-123-4567'\")\n",
        "# Your code here\n",
        "\n",
        "import re\n",
        "\n",
        "text = \"+1-555-123-4567\"\n",
        "pattern = r'^\\+?\\d{1,3}-\\d{3}-\\d{3}-\\d{4}$'\n",
        "\n",
        "if re.match(pattern, text):\n",
        "    print(f\"'{text}' is a valid phone number format\")\n",
        "else:\n",
        "    print(f\"'{text}' is not a valid phone number format\")\n"
      ],
      "metadata": {
        "id": "_F0Pv-afZu8i",
        "colab": {
          "base_uri": "https://localhost:8080/"
        },
        "outputId": "677d0e64-b735-4dd5-ca87-07f8658e07a7"
      },
      "execution_count": 35,
      "outputs": [
        {
          "output_type": "stream",
          "name": "stdout",
          "text": [
            "\n",
            "Question 35: Check if string is a valid phone number: '+1-555-123-4567'\n",
            "'+1-555-123-4567' is a valid phone number format\n"
          ]
        }
      ]
    },
    {
      "cell_type": "code",
      "source": [
        "# Question 36: Extract numbers from \"abc123def456ghi789\"\n",
        "print(\"\\nQuestion 36: Extract numbers from 'abc123def456ghi789'\")\n",
        "# Your code here\n",
        "\n",
        "import re\n",
        "\n",
        "text = \"abc123def456ghi789\"\n",
        "numbers = re.findall(r'\\d+', text)\n",
        "print(f\"Extracted numbers: {numbers}\")\n"
      ],
      "metadata": {
        "id": "xE7iMUkdZuLE",
        "colab": {
          "base_uri": "https://localhost:8080/"
        },
        "outputId": "6c3e0074-017d-430d-a394-7aa78392e1f0"
      },
      "execution_count": 36,
      "outputs": [
        {
          "output_type": "stream",
          "name": "stdout",
          "text": [
            "\n",
            "Question 36: Extract numbers from 'abc123def456ghi789'\n",
            "Extracted numbers: ['123', '456', '789']\n"
          ]
        }
      ]
    },
    {
      "cell_type": "code",
      "source": [
        "# Question 37: Convert \"snake_case\" to \"camelCase\"\n",
        "print(\"\\nQuestion 37: Convert 'snake_case' to 'camelCase'\")\n",
        "# Your code here\n",
        "\n",
        "text = \"snake_case\"\n",
        "parts = text.split(\"_\")\n",
        "camel_case = parts[0] + \"\".join(word.capitalize() for word in parts[1:])\n",
        "print(camel_case)\n"
      ],
      "metadata": {
        "id": "fH4ORBw5Zt-V",
        "colab": {
          "base_uri": "https://localhost:8080/"
        },
        "outputId": "10545ccb-1248-42fe-fac1-171a90085ff5"
      },
      "execution_count": 37,
      "outputs": [
        {
          "output_type": "stream",
          "name": "stdout",
          "text": [
            "\n",
            "Question 37: Convert 'snake_case' to 'camelCase'\n",
            "snakeCase\n"
          ]
        }
      ]
    },
    {
      "cell_type": "code",
      "source": [
        "# Question 38: Check if string is a valid palindrome ignoring case: \"A man a plan a canal Panama\"\n",
        "print(\"\\nQuestion 38: Check if string is a valid palindrome ignoring case: 'A man a plan a canal Panama'\")\n",
        "# Your code here\n",
        "\n",
        "text = \"A man a plan a canal Panama\"\n",
        "cleaned = \"\".join(c.lower() for c in text if c.isalnum())\n",
        "\n",
        "if cleaned == cleaned[::-1]:\n",
        "    print(f\"'{text}' is a palindrome (ignoring case and spaces)\")\n",
        "else:\n",
        "    print(f\"'{text}' is not a palindrome\")\n"
      ],
      "metadata": {
        "id": "AbASuMjBZtyW",
        "colab": {
          "base_uri": "https://localhost:8080/"
        },
        "outputId": "898ac7c2-0aef-41fc-e543-cf09b8a61dce"
      },
      "execution_count": 38,
      "outputs": [
        {
          "output_type": "stream",
          "name": "stdout",
          "text": [
            "\n",
            "Question 38: Check if string is a valid palindrome ignoring case: 'A man a plan a canal Panama'\n",
            "'A man a plan a canal Panama' is a palindrome (ignoring case and spaces)\n"
          ]
        }
      ]
    },
    {
      "cell_type": "code",
      "source": [
        "# Question 39: Find the most common word in \"the quick brown fox jumps over the lazy dog\"\n",
        "print(\"\\nQuestion 39: Find the most common word in 'the quick brown fox jumps over the lazy dog'\")\n",
        "# Your code here\n",
        "\n",
        "from collections import Counter\n",
        "\n",
        "text = \"the quick brown fox jumps over the lazy dog\"\n",
        "words = text.split()\n",
        "most_common_word, count = Counter(words).most_common(1)[0]\n",
        "print(f\"Most common word: '{most_common_word}' (appears {count} times)\")\n"
      ],
      "metadata": {
        "id": "YTC2kRSTZtm1",
        "colab": {
          "base_uri": "https://localhost:8080/"
        },
        "outputId": "7ad3a0ba-fa73-42b8-c632-9624ff5e2799"
      },
      "execution_count": 39,
      "outputs": [
        {
          "output_type": "stream",
          "name": "stdout",
          "text": [
            "\n",
            "Question 39: Find the most common word in 'the quick brown fox jumps over the lazy dog'\n",
            "Most common word: 'the' (appears 2 times)\n"
          ]
        }
      ]
    },
    {
      "cell_type": "code",
      "source": [
        "# Question 40: Generate acronym from \"National Aeronautics and Space Administration\"\n",
        "print(\"\\nQuestion 40: Generate acronym from 'National Aeronautics and Space Administration'\")\n",
        "# Your code here\n",
        "\n",
        "text = \"National Aeronautics and Space Administration\"\n",
        "words = text.split()\n",
        "acronym = \"\".join(word[0].upper() for word in words if word.lower() not in [\"and\", \"of\", \"the\"])\n",
        "print(acronym)\n"
      ],
      "metadata": {
        "id": "j1ZCfI6RZtX9",
        "colab": {
          "base_uri": "https://localhost:8080/"
        },
        "outputId": "1858fd6c-12d7-4c69-bb4a-8832ec99fc04"
      },
      "execution_count": 40,
      "outputs": [
        {
          "output_type": "stream",
          "name": "stdout",
          "text": [
            "\n",
            "Question 40: Generate acronym from 'National Aeronautics and Space Administration'\n",
            "NASA\n"
          ]
        }
      ]
    },
    {
      "cell_type": "code",
      "source": [
        "# Question 41: Check if string contains balanced parentheses: \"((()))\"\n",
        "print(\"\\nQuestion 41: Check if string contains balanced parentheses: '((()))'\")\n",
        "# Your code here\n",
        "\n",
        "text = \"((()))\"\n",
        "stack = []\n",
        "\n",
        "balanced = True\n",
        "for char in text:\n",
        "    if char == \"(\":\n",
        "        stack.append(char)\n",
        "    elif char == \")\":\n",
        "        if not stack:\n",
        "            balanced = False\n",
        "            break\n",
        "        stack.pop()\n",
        "\n",
        "if balanced and not stack:\n",
        "    print(f\"'{text}' has balanced parentheses\")\n",
        "else:\n",
        "    print(f\"'{text}' does not have balanced parentheses\")\n"
      ],
      "metadata": {
        "id": "meHelPOxaz3O",
        "colab": {
          "base_uri": "https://localhost:8080/"
        },
        "outputId": "4c8ab838-73fb-4b44-a7ff-0069501b5547"
      },
      "execution_count": 41,
      "outputs": [
        {
          "output_type": "stream",
          "name": "stdout",
          "text": [
            "\n",
            "Question 41: Check if string contains balanced parentheses: '((()))'\n",
            "'((()))' has balanced parentheses\n"
          ]
        }
      ]
    },
    {
      "cell_type": "code",
      "source": [
        "# Question 42: Convert \"hello world\" to Morse code\n",
        "print(\"\\nQuestion 42: Convert 'hello world' to Morse code\")\n",
        "# Your code here\n",
        "\n",
        "morse_code_dict = {\n",
        "    'a': '.-', 'b': '-...', 'c': '-.-.', 'd': '-..', 'e': '.', 'f': '..-.',\n",
        "    'g': '--.', 'h': '....', 'i': '..', 'j': '.---', 'k': '-.-', 'l': '.-..',\n",
        "    'm': '--', 'n': '-.', 'o': '---', 'p': '.--.', 'q': '--.-', 'r': '.-.',\n",
        "    's': '...', 't': '-', 'u': '..-', 'v': '...-', 'w': '.--', 'x': '-..-',\n",
        "    'y': '-.--', 'z': '--..', ' ': ' / '\n",
        "}\n",
        "\n",
        "text = \"hello world\".lower()\n",
        "morse = \" \".join(morse_code_dict[char] for char in text)\n",
        "print(morse)\n"
      ],
      "metadata": {
        "id": "xILz39Geazum",
        "colab": {
          "base_uri": "https://localhost:8080/"
        },
        "outputId": "5a44921d-ea33-46e7-b73f-3a8698e538fc"
      },
      "execution_count": 43,
      "outputs": [
        {
          "output_type": "stream",
          "name": "stdout",
          "text": [
            "\n",
            "Question 42: Convert 'hello world' to Morse code\n",
            ".... . .-.. .-.. ---  /  .-- --- .-. .-.. -..\n"
          ]
        }
      ]
    },
    {
      "cell_type": "code",
      "source": [
        "# Question 43: Find the longest common substring between \"programming\" and \"grammar\"\n",
        "print(\"\\nQuestion 43: Find the longest common substring between 'programming' and 'grammar'\")\n",
        "# Your code here\n",
        "\n",
        "def longest_common_substring(s1, s2):\n",
        "    m, n = len(s1), len(s2)\n",
        "    dp = [[0] * (n + 1) for _ in range(m + 1)]\n",
        "    longest = 0\n",
        "    end_index = 0\n",
        "\n",
        "    for i in range(1, m + 1):\n",
        "        for j in range(1, n + 1):\n",
        "            if s1[i - 1] == s2[j - 1]:\n",
        "                dp[i][j] = dp[i - 1][j - 1] + 1\n",
        "                if dp[i][j] > longest:\n",
        "                    longest = dp[i][j]\n",
        "                    end_index = i\n",
        "    return s1[end_index - longest:end_index]\n",
        "\n",
        "s1 = \"programming\"\n",
        "s2 = \"grammar\"\n",
        "result = longest_common_substring(s1, s2)\n",
        "print(f\"Longest common substring: '{result}'\")\n"
      ],
      "metadata": {
        "id": "YcPf9wTIazmS",
        "colab": {
          "base_uri": "https://localhost:8080/"
        },
        "outputId": "929003a7-d3b9-4ec3-ebf9-ed16d7dc34a6"
      },
      "execution_count": 44,
      "outputs": [
        {
          "output_type": "stream",
          "name": "stdout",
          "text": [
            "\n",
            "Question 43: Find the longest common substring between 'programming' and 'grammar'\n",
            "Longest common substring: 'gramm'\n"
          ]
        }
      ]
    },
    {
      "cell_type": "code",
      "source": [
        "# Question 44: Check if string is a valid URL: \"https://www.google.com\"\n",
        "print(\"\\nQuestion 44: Check if string is a valid URL: 'https://www.google.com'\")\n",
        "# Your code here\n",
        "\n",
        "import re\n",
        "\n",
        "text = \"https://www.google.com\"\n",
        "pattern = re.compile(\n",
        "    r'^(https?://)?'        # http:// or https:// (optional)\n",
        "    r'([\\w.-]+)'            # domain name\n",
        "    r'(\\.[a-zA-Z]{2,})+'    # top-level domain\n",
        "    r'(/[\\w./-]*)*$',       # path (optional)\n",
        "    re.IGNORECASE\n",
        ")\n",
        "\n",
        "if re.match(pattern, text):\n",
        "    print(f\"'{text}' is a valid URL format\")\n",
        "else:\n",
        "    print(f\"'{text}' is not a valid URL format\")\n",
        "\n"
      ],
      "metadata": {
        "id": "niKvna4Mazd8",
        "colab": {
          "base_uri": "https://localhost:8080/"
        },
        "outputId": "cd55c03a-eaed-4c3a-9170-a207d604574e"
      },
      "execution_count": 45,
      "outputs": [
        {
          "output_type": "stream",
          "name": "stdout",
          "text": [
            "\n",
            "Question 44: Check if string is a valid URL: 'https://www.google.com'\n",
            "'https://www.google.com' is a valid URL format\n"
          ]
        }
      ]
    },
    {
      "cell_type": "code",
      "source": [
        "# Question 45: Extract all words with length > 5 from \"Python programming is amazing and powerful\"\n",
        "print(\"\\nQuestion 45: Extract all words with length > 5 from 'Python programming is amazing and powerful'\")\n",
        "# Your code here\n",
        "\n",
        "text = \"Python programming is amazing and powerful\"\n",
        "words = text.split()\n",
        "long_words = [word for word in words if len(word) > 5]\n",
        "print(f\"Words with length > 5: {long_words}\")\n"
      ],
      "metadata": {
        "id": "Al5MojA7azVs",
        "colab": {
          "base_uri": "https://localhost:8080/"
        },
        "outputId": "23d4c729-328b-442b-eba9-f04f77068e41"
      },
      "execution_count": 46,
      "outputs": [
        {
          "output_type": "stream",
          "name": "stdout",
          "text": [
            "\n",
            "Question 45: Extract all words with length > 5 from 'Python programming is amazing and powerful'\n",
            "Words with length > 5: ['Python', 'programming', 'amazing', 'powerful']\n"
          ]
        }
      ]
    },
    {
      "cell_type": "code",
      "source": [
        "# Question 46: Convert \"hello world\" to Pig Latin\n",
        "print(\"\\nQuestion 46: Convert 'hello world' to Pig Latin\")\n",
        "# Your code here\n",
        "##Rule:\n",
        "\n",
        "#If a word starts with a consonant → move the first letter to the end + \"ay\".\n",
        "\n",
        "#If a word starts with a vowel → just add \"way\" to the end.\n",
        "\n",
        "def to_pig_latin(word):\n",
        "    vowels = \"aeiou\"\n",
        "    if word[0].lower() in vowels:\n",
        "        return word + \"way\"\n",
        "    else:\n",
        "        return word[1:] + word[0] + \"ay\"\n",
        "\n",
        "text = \"hello world\"\n",
        "pig_latin = \" \".join(to_pig_latin(word) for word in text.split())\n",
        "print(pig_latin)\n"
      ],
      "metadata": {
        "id": "wuTgKCpfazCW",
        "colab": {
          "base_uri": "https://localhost:8080/"
        },
        "outputId": "7cead949-19f2-4dbc-80b3-7b6ff836a7e7"
      },
      "execution_count": 47,
      "outputs": [
        {
          "output_type": "stream",
          "name": "stdout",
          "text": [
            "\n",
            "Question 46: Convert 'hello world' to Pig Latin\n",
            "ellohay orldway\n"
          ]
        }
      ]
    },
    {
      "cell_type": "code",
      "source": [
        "# Question 47: Check if string is a valid IPv4 address: \"192.168.1.1\"\n",
        "print(\"\\nQuestion 47: Check if string is a valid IPv4 address: '192.168.1.1'\")\n",
        "# Your code here\n",
        "\n",
        "import re\n",
        "\n",
        "text = \"192.168.1.1\"\n",
        "pattern = r\"^(25[0-5]|2[0-4]\\d|1\\d\\d|[1-9]?\\d)\" \\\n",
        "          r\"(\\.(25[0-5]|2[0-4]\\d|1\\d\\d|[1-9]?\\d)){3}$\"\n",
        "\n",
        "if re.match(pattern, text):\n",
        "    print(f\"'{text}' is a valid IPv4 address\")\n",
        "else:\n",
        "    print(f\"'{text}' is not a valid IPv4 address\")\n"
      ],
      "metadata": {
        "id": "v2K5wL3Oay1V",
        "colab": {
          "base_uri": "https://localhost:8080/"
        },
        "outputId": "c04f25b7-eac5-4bb6-aa37-7224e7019cfe"
      },
      "execution_count": 48,
      "outputs": [
        {
          "output_type": "stream",
          "name": "stdout",
          "text": [
            "\n",
            "Question 47: Check if string is a valid IPv4 address: '192.168.1.1'\n",
            "'192.168.1.1' is a valid IPv4 address\n"
          ]
        }
      ]
    },
    {
      "cell_type": "code",
      "source": [
        "# Question 48: Find all substrings of \"abc\"\n",
        "print(\"\\nQuestion 48: Find all substrings of 'abc'\")\n",
        "# Your code here\n",
        "\n",
        "text = \"abc\"\n",
        "substrings = [text[i:j] for i in range(len(text)) for j in range(i + 1, len(text) + 1)]\n",
        "print(substrings)\n"
      ],
      "metadata": {
        "id": "zir42UASaynG",
        "colab": {
          "base_uri": "https://localhost:8080/"
        },
        "outputId": "fdfe88a2-66d3-4c66-ce61-0b3b832f1bf4"
      },
      "execution_count": 49,
      "outputs": [
        {
          "output_type": "stream",
          "name": "stdout",
          "text": [
            "\n",
            "Question 48: Find all substrings of 'abc'\n",
            "['a', 'ab', 'abc', 'b', 'bc', 'c']\n"
          ]
        }
      ]
    },
    {
      "cell_type": "code",
      "source": [
        "# Question 49: Convert \"hello world\" to ROT13 encoding\n",
        "print(\"\\nQuestion 49: Convert 'hello world' to ROT13 encoding\")\n",
        "# Your code here\n",
        "\n",
        "import codecs\n",
        "\n",
        "text = \"hello world\"\n",
        "rot13_text = codecs.encode(text, \"rot_13\")\n",
        "print(rot13_text)\n"
      ],
      "metadata": {
        "id": "3NmHoKQ-ayZq",
        "colab": {
          "base_uri": "https://localhost:8080/"
        },
        "outputId": "075e6b2e-844c-4f87-c09c-efd96b7141ef"
      },
      "execution_count": 50,
      "outputs": [
        {
          "output_type": "stream",
          "name": "stdout",
          "text": [
            "\n",
            "Question 49: Convert 'hello world' to ROT13 encoding\n",
            "uryyb jbeyq\n"
          ]
        }
      ]
    },
    {
      "cell_type": "code",
      "source": [
        "# Question 50: Check if string is a valid credit card number: \"4532015112830366\"\n",
        "print(\"\\nQuestion 50: Check if string is a valid credit card number: '4532015112830366'\")\n",
        "# Your code here\n",
        "\n",
        "def is_valid_credit_card(number):\n",
        "    if not number.isdigit():\n",
        "        return False\n",
        "\n",
        "    digits = [int(d) for d in number]\n",
        "    checksum = 0\n",
        "\n",
        "    # Luhn algorithm\n",
        "    for i, d in enumerate(digits[::-1]):\n",
        "        if i % 2 == 1:  # double every second digit\n",
        "            d *= 2\n",
        "            if d > 9:\n",
        "                d -= 9\n",
        "        checksum += d\n",
        "\n",
        "    return checksum % 10 == 0\n",
        "\n",
        "text = \"4532015112830366\"\n",
        "if is_valid_credit_card(text):\n",
        "    print(f\"'{text}' is a valid credit card number\")\n",
        "else:\n",
        "    print(f\"'{text}' is not a valid credit card number\")\n"
      ],
      "metadata": {
        "id": "hFLfIz9iayMd",
        "colab": {
          "base_uri": "https://localhost:8080/"
        },
        "outputId": "9cbb16fb-a503-46c2-c354-d38ca75c36a2"
      },
      "execution_count": 52,
      "outputs": [
        {
          "output_type": "stream",
          "name": "stdout",
          "text": [
            "\n",
            "Question 50: Check if string is a valid credit card number: '4532015112830366'\n",
            "'4532015112830366' is a valid credit card number\n"
          ]
        }
      ]
    }
  ]
}