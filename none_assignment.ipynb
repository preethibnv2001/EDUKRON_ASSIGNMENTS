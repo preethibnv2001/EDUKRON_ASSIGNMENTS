{
  "nbformat": 4,
  "nbformat_minor": 0,
  "metadata": {
    "colab": {
      "provenance": []
    },
    "kernelspec": {
      "name": "python3",
      "display_name": "Python 3"
    },
    "language_info": {
      "name": "python"
    }
  },
  "cells": [
    {
      "cell_type": "code",
      "execution_count": 1,
      "metadata": {
        "colab": {
          "base_uri": "https://localhost:8080/"
        },
        "id": "VfoJVPEgjxT6",
        "outputId": "f7f696a9-fbff-4e93-c77f-adbc7eaa82e3"
      },
      "outputs": [
        {
          "output_type": "stream",
          "name": "stdout",
          "text": [
            "Check if a variable is None\n",
            "Variable: None\n",
            "Is None: True\n",
            "--------------------------------------------------\n"
          ]
        }
      ],
      "source": [
        "# NONE DATATYPE ASSIGNMENT\n",
        "\n",
        "# SOLVED EXAMPLE\n",
        "# --------------\n",
        "# Question: Check if a variable is None\n",
        "print(\"Check if a variable is None\")\n",
        "variable = None\n",
        "is_none = variable is None\n",
        "print(f\"Variable: {variable}\")\n",
        "print(f\"Is None: {is_none}\")\n",
        "print(\"-\" * 50)"
      ]
    },
    {
      "cell_type": "code",
      "source": [
        "# Question 1: Create a variable and assign None to it\n",
        "print(\"Question 1: Create a variable and assign None to it\")\n",
        "# Your code here\n",
        "variable_none = None\n",
        "is_none1= variable_none is None\n",
        "print(\"Variable: \", variable_none)\n",
        "print(\"Is None: \" ,is_none1)\n",
        "\n"
      ],
      "metadata": {
        "colab": {
          "base_uri": "https://localhost:8080/"
        },
        "id": "acqX1VQHkN02",
        "outputId": "0a0efedd-05ce-4fbe-86d0-f37d5bcaf647"
      },
      "execution_count": 4,
      "outputs": [
        {
          "output_type": "stream",
          "name": "stdout",
          "text": [
            "Question 1: Create a variable and assign None to it\n",
            "Variable:  None\n",
            "Is None:  True\n"
          ]
        }
      ]
    },
    {
      "cell_type": "code",
      "source": [
        "# Question 1: Create a variable and assign None to it\n",
        "my_var = None\n",
        "\n",
        "print(\"The value of my_var is:\", my_var)\n",
        "print(\"The type of my_var is:\", type(my_var))\n"
      ],
      "metadata": {
        "colab": {
          "base_uri": "https://localhost:8080/"
        },
        "id": "3Yeci3irllLO",
        "outputId": "da139f48-d14d-4046-c2e7-430295ad203f"
      },
      "execution_count": 5,
      "outputs": [
        {
          "output_type": "stream",
          "name": "stdout",
          "text": [
            "The value of my_var is: None\n",
            "The type of my_var is: <class 'NoneType'>\n"
          ]
        }
      ]
    },
    {
      "cell_type": "code",
      "source": [
        "# Question 2: Check if None equals None\n",
        "print(\"\\nQuestion 2: Check if None equals None\")\n",
        "# Your code here\n",
        "result = (None == None)\n",
        "print(\"Does None equal None?\", result)"
      ],
      "metadata": {
        "colab": {
          "base_uri": "https://localhost:8080/"
        },
        "id": "T6qVPg29kaIk",
        "outputId": "8d51f6ba-6615-49e1-c9cd-f45121ae7a75"
      },
      "execution_count": 6,
      "outputs": [
        {
          "output_type": "stream",
          "name": "stdout",
          "text": [
            "\n",
            "Question 2: Check if None equals None\n",
            "Does None equal None? True\n"
          ]
        }
      ]
    },
    {
      "cell_type": "code",
      "source": [
        "# Question 3: Check if None is None\n",
        "print(\"\\nQuestion 3: Check if None is None\")\n",
        "# Your code here\n",
        "result = (None is None)\n",
        "print(\"Does None 'is' None?\", result)"
      ],
      "metadata": {
        "colab": {
          "base_uri": "https://localhost:8080/"
        },
        "id": "AEl1gxMFkaAh",
        "outputId": "9f29473a-97c2-49cf-f964-46dca3735217"
      },
      "execution_count": 7,
      "outputs": [
        {
          "output_type": "stream",
          "name": "stdout",
          "text": [
            "\n",
            "Question 3: Check if None is None\n",
            "Does None 'is' None? True\n"
          ]
        }
      ]
    },
    {
      "cell_type": "code",
      "source": [
        "# Question 4: Check if 0 is None\n",
        "print(\"\\nQuestion 4: Check if 0 is None\")\n",
        "# Your code here\n",
        "result = (0 == None)\n",
        "print(\"Does 0 'is' None?\", result)"
      ],
      "metadata": {
        "colab": {
          "base_uri": "https://localhost:8080/"
        },
        "id": "rCDCuuYAkZ0r",
        "outputId": "f785d629-b985-42af-cdb1-392b7c9d7947"
      },
      "execution_count": 12,
      "outputs": [
        {
          "output_type": "stream",
          "name": "stdout",
          "text": [
            "\n",
            "Question 4: Check if 0 is None\n",
            "Does 0 'is' None? False\n"
          ]
        }
      ]
    },
    {
      "cell_type": "code",
      "source": [
        "# Question 5: Check if empty string is None\n",
        "print(\"\\nQuestion 5: Check if empty string is None\")\n",
        "# Your code here\n",
        "result = (\"\" == None)\n",
        "print(\"Does empty string '' is None?\", result)\n"
      ],
      "metadata": {
        "colab": {
          "base_uri": "https://localhost:8080/"
        },
        "id": "6m4Qu7a1kZp8",
        "outputId": "25b4e188-00c2-419e-9e23-a253929a531a"
      },
      "execution_count": 14,
      "outputs": [
        {
          "output_type": "stream",
          "name": "stdout",
          "text": [
            "\n",
            "Question 5: Check if empty string is None\n",
            "Does empty string '' is None? False\n"
          ]
        }
      ]
    },
    {
      "cell_type": "code",
      "source": [
        "print(\"\" == None)   # False, but safer syntax for values\n",
        "print(\"\" == None)   # False, but raises a warning"
      ],
      "metadata": {
        "colab": {
          "base_uri": "https://localhost:8080/"
        },
        "id": "sw3UiJIBnEIs",
        "outputId": "b26ac4c0-06bc-4d1f-b31e-604133100212"
      },
      "execution_count": 16,
      "outputs": [
        {
          "output_type": "stream",
          "name": "stdout",
          "text": [
            "False\n",
            "False\n"
          ]
        }
      ]
    },
    {
      "cell_type": "code",
      "source": [
        "# Question 6: Check if False is None\n",
        "print(\"\\nQuestion 6: Check if False is None\")\n",
        "# Your code here\n",
        "result = (False is None)\n",
        "print(\"Does False 'is' None?\", result)"
      ],
      "metadata": {
        "colab": {
          "base_uri": "https://localhost:8080/"
        },
        "id": "PYc0u19PkPd0",
        "outputId": "7d00429e-345a-4d88-a79e-12c2d239084b"
      },
      "execution_count": 17,
      "outputs": [
        {
          "output_type": "stream",
          "name": "stdout",
          "text": [
            "\n",
            "Question 6: Check if False is None\n",
            "Does False 'is' None? False\n"
          ]
        }
      ]
    },
    {
      "cell_type": "code",
      "source": [
        "print(False == None)   # False\n",
        "print(False is None)   # False (but warns)\n"
      ],
      "metadata": {
        "colab": {
          "base_uri": "https://localhost:8080/"
        },
        "id": "m0VCzMufnbO6",
        "outputId": "0f96c9c3-437d-4280-c9fa-b7f1e0d37c3b"
      },
      "execution_count": 18,
      "outputs": [
        {
          "output_type": "stream",
          "name": "stdout",
          "text": [
            "False\n",
            "False\n"
          ]
        }
      ]
    },
    {
      "cell_type": "code",
      "source": [
        "# Question 7: Check if empty list is None\n",
        "print(\"\\nQuestion 7: Check if empty list is None\")\n",
        "# Your code here\n",
        "result = ([] is None)\n",
        "print(\"Does [] 'is' None?\", result)"
      ],
      "metadata": {
        "colab": {
          "base_uri": "https://localhost:8080/"
        },
        "id": "WhUlomWvkPTr",
        "outputId": "06113263-1aac-4515-a34d-cb7836ce7263"
      },
      "execution_count": 19,
      "outputs": [
        {
          "output_type": "stream",
          "name": "stdout",
          "text": [
            "\n",
            "Question 7: Check if empty list is None\n",
            "Does [] 'is' None? False\n"
          ]
        }
      ]
    },
    {
      "cell_type": "code",
      "source": [
        "# Question 8: Check if empty dictionary is None\n",
        "print(\"\\nQuestion 8: Check if empty dictionary is None\")\n",
        "# Your code here\n",
        "result = ({} is None)\n",
        "print(\"Does {} 'is' None?\", result)"
      ],
      "metadata": {
        "colab": {
          "base_uri": "https://localhost:8080/"
        },
        "id": "8WhlHLn3kPIs",
        "outputId": "860a92d0-e19c-4c2f-e97a-1098aac546bb"
      },
      "execution_count": 21,
      "outputs": [
        {
          "output_type": "stream",
          "name": "stdout",
          "text": [
            "\n",
            "Question 8: Check if empty dictionary is None\n",
            "Does {} 'is' None? False\n"
          ]
        }
      ]
    },
    {
      "cell_type": "code",
      "source": [
        "# Question 9: Check if empty tuple is None\n",
        "print(\"\\nQuestion 9: Check if empty tuple is None\")\n",
        "# Your code here\n",
        "result = (() == None)\n",
        "print(\"Does () 'is' None?\", result)"
      ],
      "metadata": {
        "colab": {
          "base_uri": "https://localhost:8080/"
        },
        "id": "49-_1Q5tkO-R",
        "outputId": "14ff759b-1c6a-4678-ff24-aa88afedfda2"
      },
      "execution_count": 23,
      "outputs": [
        {
          "output_type": "stream",
          "name": "stdout",
          "text": [
            "\n",
            "Question 9: Check if empty tuple is None\n",
            "Does () 'is' None? False\n"
          ]
        }
      ]
    },
    {
      "cell_type": "code",
      "source": [
        "print(() == None)   # False\n"
      ],
      "metadata": {
        "colab": {
          "base_uri": "https://localhost:8080/"
        },
        "id": "7aqXhgcyoCsi",
        "outputId": "d83f2ebf-c5ad-4c65-c05c-4729bf1654d4"
      },
      "execution_count": 24,
      "outputs": [
        {
          "output_type": "stream",
          "name": "stdout",
          "text": [
            "False\n"
          ]
        }
      ]
    },
    {
      "cell_type": "code",
      "source": [
        "# Question 10: Check if empty set is None\n",
        "print(\"\\nQuestion 10: Check if empty set is None\")\n",
        "# Your code here\n",
        "result = (set() is None)\n",
        "print(\"Does set() 'is' None?\", result)"
      ],
      "metadata": {
        "colab": {
          "base_uri": "https://localhost:8080/"
        },
        "id": "c1OebiSXkO1u",
        "outputId": "a2b8aa83-956c-4cb2-cfd6-ae90c5ce82b3"
      },
      "execution_count": 25,
      "outputs": [
        {
          "output_type": "stream",
          "name": "stdout",
          "text": [
            "\n",
            "Question 10: Check if empty set is None\n",
            "Does set() 'is' None? False\n"
          ]
        }
      ]
    }
  ]
}