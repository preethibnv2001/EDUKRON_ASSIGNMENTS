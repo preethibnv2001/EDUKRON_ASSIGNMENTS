{
  "nbformat": 4,
  "nbformat_minor": 0,
  "metadata": {
    "colab": {
      "provenance": []
    },
    "kernelspec": {
      "name": "python3",
      "display_name": "Python 3"
    },
    "language_info": {
      "name": "python"
    }
  },
  "cells": [
    {
      "cell_type": "code",
      "execution_count": 1,
      "metadata": {
        "colab": {
          "base_uri": "https://localhost:8080/"
        },
        "id": "v7egmJl9K7-w",
        "outputId": "42cc05f0-4f53-42d1-bd74-86fdbad89315"
      },
      "outputs": [
        {
          "output_type": "stream",
          "name": "stdout",
          "text": [
            "Find the union of two sets\n",
            "Set 1: {1, 2, 3, 4, 5}\n",
            "Set 2: {4, 5, 6, 7, 8}\n",
            "Union: {1, 2, 3, 4, 5, 6, 7, 8}\n",
            "--------------------------------------------------\n"
          ]
        }
      ],
      "source": [
        "# SET DATATYPE ASSIGNMENT\n",
        "\n",
        "# SOLVED EXAMPLE\n",
        "# --------------\n",
        "# Question: Find the union of two sets\n",
        "print(\"Find the union of two sets\")\n",
        "set1 = {1, 2, 3, 4, 5}\n",
        "set2 = {4, 5, 6, 7, 8}\n",
        "union_set = set1.union(set2)\n",
        "print(f\"Set 1: {set1}\")\n",
        "print(f\"Set 2: {set2}\")\n",
        "print(f\"Union: {union_set}\")\n",
        "print(\"-\" * 50)"
      ]
    },
    {
      "cell_type": "code",
      "source": [
        "# Question 1: Create a set of first 10 natural numbers\n",
        "print(\"Question 1: Create a set of first 10 natural numbers\")\n",
        "# Your code here\n",
        "natural_numbers = set(range(1, 11))\n",
        "print(natural_numbers)"
      ],
      "metadata": {
        "colab": {
          "base_uri": "https://localhost:8080/"
        },
        "id": "aQDznipKLlEy",
        "outputId": "14033a4c-6d95-4633-8086-6d5a8bdd01e6"
      },
      "execution_count": 2,
      "outputs": [
        {
          "output_type": "stream",
          "name": "stdout",
          "text": [
            "Question 1: Create a set of first 10 natural numbers\n",
            "{1, 2, 3, 4, 5, 6, 7, 8, 9, 10}\n"
          ]
        }
      ]
    },
    {
      "cell_type": "code",
      "source": [
        "# Question 2: Add element 11 to set {1, 2, 3, 4, 5}\n",
        "print(\"\\nQuestion 2: Add element 11 to set {1, 2, 3, 4, 5}\")\n",
        "# Your code here\n",
        "numbers = {1, 2, 3, 4, 5}\n",
        "numbers.add(11)\n",
        "print(numbers)"
      ],
      "metadata": {
        "colab": {
          "base_uri": "https://localhost:8080/"
        },
        "id": "Ws1tcWGcL7DV",
        "outputId": "4ab1fb75-c479-464c-a5ed-9c5bc89f8eef"
      },
      "execution_count": 4,
      "outputs": [
        {
          "output_type": "stream",
          "name": "stdout",
          "text": [
            "\n",
            "Question 2: Add element 11 to set {1, 2, 3, 4, 5}\n",
            "{1, 2, 3, 4, 5, 11}\n"
          ]
        }
      ]
    },
    {
      "cell_type": "code",
      "source": [
        "# Question 3: Remove element 3 from set {1, 2, 3, 4, 5, 6}\n",
        "print(\"\\nQuestion 3: Remove element 3 from set {1, 2, 3, 4, 5, 6}\")\n",
        "# Your code here\n",
        "numbers = {1, 2, 3, 4, 5, 6}\n",
        "numbers.remove(3)\n",
        "print(numbers)\n",
        "\n",
        "numbers = {1, 2, 3, 4, 5, 6}\n",
        "numbers.discard(3)\n",
        "print(numbers)\n"
      ],
      "metadata": {
        "colab": {
          "base_uri": "https://localhost:8080/"
        },
        "id": "qDATnYPAL6x5",
        "outputId": "e4de486e-abde-41cf-979b-6a9e6b7af8a9"
      },
      "execution_count": 6,
      "outputs": [
        {
          "output_type": "stream",
          "name": "stdout",
          "text": [
            "\n",
            "Question 3: Remove element 3 from set {1, 2, 3, 4, 5, 6}\n",
            "{1, 2, 4, 5, 6}\n",
            "{1, 2, 4, 5, 6}\n"
          ]
        }
      ]
    },
    {
      "cell_type": "code",
      "source": [
        "# Question 4: Find the intersection of {1, 2, 3, 4, 5} and {4, 5, 6, 7, 8}\n",
        "print(\"\\nQuestion 4: Find the intersection of {1, 2, 3, 4, 5} and {4, 5, 6, 7, 8}\")\n",
        "# Your code here\n",
        "\n",
        "set1 = {1, 2, 3, 4, 5}\n",
        "set2 = {4, 5, 6, 7, 8}\n",
        "\n",
        "intersection = set1.intersection(set2)\n",
        "print(intersection)\n",
        "\n",
        "print(set1 & set2)  # Output: {4, 5}"
      ],
      "metadata": {
        "colab": {
          "base_uri": "https://localhost:8080/"
        },
        "id": "4B1eiPDAL6jq",
        "outputId": "c5fe856d-6c96-429e-d9f5-a93e8388f3ec"
      },
      "execution_count": 8,
      "outputs": [
        {
          "output_type": "stream",
          "name": "stdout",
          "text": [
            "\n",
            "Question 4: Find the intersection of {1, 2, 3, 4, 5} and {4, 5, 6, 7, 8}\n",
            "{4, 5}\n",
            "{4, 5}\n"
          ]
        }
      ]
    },
    {
      "cell_type": "code",
      "source": [
        "# Question 5: Find the difference between {1, 2, 3, 4, 5} and {4, 5, 6, 7, 8}\n",
        "print(\"\\nQuestion 5: Find the difference between {1, 2, 3, 4, 5} and {4, 5, 6, 7, 8}\")\n",
        "# Your code here\n",
        "set1 = {1, 2, 3, 4, 5}\n",
        "set2 = {4, 5, 6, 7, 8}\n",
        "\n",
        "difference = set1.difference(set2)\n",
        "print(difference)\n",
        "print(set1 - set2)  # Output: {1, 2, 3}"
      ],
      "metadata": {
        "colab": {
          "base_uri": "https://localhost:8080/"
        },
        "id": "LZBnK1r4L1pa",
        "outputId": "2a3c343f-410b-4d74-d643-ed8493cf1f4d"
      },
      "execution_count": 10,
      "outputs": [
        {
          "output_type": "stream",
          "name": "stdout",
          "text": [
            "\n",
            "Question 5: Find the difference between {1, 2, 3, 4, 5} and {4, 5, 6, 7, 8}\n",
            "{1, 2, 3}\n",
            "{1, 2, 3}\n"
          ]
        }
      ]
    },
    {
      "cell_type": "code",
      "source": [
        "# Question 6: Check if 5 is in set {1, 2, 3, 4, 6, 7, 8}\n",
        "print(\"\\nQuestion 6: Check if 5 is in set {1, 2, 3, 4, 6, 7, 8}\")\n",
        "# Your code here\n",
        "numbers = {1, 2, 3, 4, 6, 7, 8}\n",
        "\n",
        "print(5 in numbers)"
      ],
      "metadata": {
        "colab": {
          "base_uri": "https://localhost:8080/"
        },
        "id": "NUuRdK6CL1a_",
        "outputId": "5063fc9e-41f7-40f0-bd88-c00f4dccda5b"
      },
      "execution_count": 11,
      "outputs": [
        {
          "output_type": "stream",
          "name": "stdout",
          "text": [
            "\n",
            "Question 6: Check if 5 is in set {1, 2, 3, 4, 6, 7, 8}\n",
            "False\n"
          ]
        }
      ]
    },
    {
      "cell_type": "code",
      "source": [
        "# Question 7: Find the length of set {'a', 'b', 'c', 'd', 'e'}\n",
        "print(\"\\nQuestion 7: Find the length of set {'a', 'b', 'c', 'd', 'e'}\")\n",
        "# Your code here\n",
        "letters = {'a', 'b', 'c', 'd', 'e'}\n",
        "\n",
        "print(len(letters))"
      ],
      "metadata": {
        "colab": {
          "base_uri": "https://localhost:8080/"
        },
        "id": "lsaLiNpELrz-",
        "outputId": "4a8cb2e0-21a8-45bd-9cc1-a9da52f0a258"
      },
      "execution_count": 12,
      "outputs": [
        {
          "output_type": "stream",
          "name": "stdout",
          "text": [
            "\n",
            "Question 7: Find the length of set {'a', 'b', 'c', 'd', 'e'}\n",
            "5\n"
          ]
        }
      ]
    },
    {
      "cell_type": "code",
      "source": [
        "# Question 8: Create a set of vowels from string \"hello world\"\n",
        "print(\"\\nQuestion 8: Create a set of vowels from string 'hello world'\")\n",
        "# Your code here\n",
        "string = \"hello world\"\n",
        "vowels = {'a', 'e', 'i', 'o', 'u'}\n",
        "\n",
        "vowel_set = set(ch for ch in string if ch in vowels)\n",
        "print(vowel_set)"
      ],
      "metadata": {
        "colab": {
          "base_uri": "https://localhost:8080/"
        },
        "id": "b0bBTNrNLrwh",
        "outputId": "cd876013-c2a6-4162-c62e-50aa54bb9026"
      },
      "execution_count": 13,
      "outputs": [
        {
          "output_type": "stream",
          "name": "stdout",
          "text": [
            "\n",
            "Question 8: Create a set of vowels from string 'hello world'\n",
            "{'e', 'o'}\n"
          ]
        }
      ]
    },
    {
      "cell_type": "code",
      "source": [
        "# Question 9: Remove duplicates from list [1, 2, 2, 3, 4, 4, 5, 6, 6, 7] using set\n",
        "print(\"\\nQuestion 9: Remove duplicates from list [1, 2, 2, 3, 4, 4, 5, 6, 6, 7] using set\")\n",
        "# Your code here\n",
        "numbers = [1, 2, 2, 3, 4, 4, 5, 6, 6, 7]\n",
        "\n",
        "unique_numbers = set(numbers)\n",
        "print(unique_numbers)"
      ],
      "metadata": {
        "colab": {
          "base_uri": "https://localhost:8080/"
        },
        "id": "Mwqt1nd1LrjF",
        "outputId": "ba558d02-07ee-4809-8fe4-2d7ab6bbef2b"
      },
      "execution_count": 14,
      "outputs": [
        {
          "output_type": "stream",
          "name": "stdout",
          "text": [
            "\n",
            "Question 9: Remove duplicates from list [1, 2, 2, 3, 4, 4, 5, 6, 6, 7] using set\n",
            "{1, 2, 3, 4, 5, 6, 7}\n"
          ]
        }
      ]
    },
    {
      "cell_type": "code",
      "source": [
        "unique_numbers_ordered = list(dict.fromkeys(numbers))\n",
        "print(unique_numbers_ordered)\n"
      ],
      "metadata": {
        "colab": {
          "base_uri": "https://localhost:8080/"
        },
        "id": "MgHkcgFuPiuF",
        "outputId": "fd9a21a4-e3c4-484a-b55e-4ff22df57f33"
      },
      "execution_count": 15,
      "outputs": [
        {
          "output_type": "stream",
          "name": "stdout",
          "text": [
            "[1, 2, 3, 4, 5, 6, 7]\n"
          ]
        }
      ]
    },
    {
      "cell_type": "code",
      "source": [
        "# Question 10: Check if {1, 2, 3} is a subset of {1, 2, 3, 4, 5, 6}\n",
        "print(\"\\nQuestion 10: Check if {1, 2, 3} is a subset of {1, 2, 3, 4, 5, 6}\")\n",
        "# Your code here\n",
        "set1 = {1, 2, 3}\n",
        "set2 = {1, 2, 3, 4, 5, 6}\n",
        "\n",
        "print(set1.issubset(set2))   # Method 1\n",
        "print(set1 <= set2)          # Method 2 (operator form)"
      ],
      "metadata": {
        "colab": {
          "base_uri": "https://localhost:8080/"
        },
        "id": "kxVdjxCeLrVA",
        "outputId": "83e2e638-5567-4391-e885-909a8d785264"
      },
      "execution_count": 16,
      "outputs": [
        {
          "output_type": "stream",
          "name": "stdout",
          "text": [
            "\n",
            "Question 10: Check if {1, 2, 3} is a subset of {1, 2, 3, 4, 5, 6}\n",
            "True\n",
            "True\n"
          ]
        }
      ]
    }
  ]
}