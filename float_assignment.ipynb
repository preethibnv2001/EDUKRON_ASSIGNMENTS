{
  "nbformat": 4,
  "nbformat_minor": 0,
  "metadata": {
    "colab": {
      "provenance": []
    },
    "kernelspec": {
      "name": "python3",
      "display_name": "Python 3"
    },
    "language_info": {
      "name": "python"
    }
  },
  "cells": [
    {
      "cell_type": "code",
      "execution_count": 1,
      "metadata": {
        "id": "0EyXSAkHPpII",
        "colab": {
          "base_uri": "https://localhost:8080/"
        },
        "outputId": "5baf84a0-3639-46f2-82f4-28ef20ca48fa"
      },
      "outputs": [
        {
          "output_type": "stream",
          "name": "stdout",
          "text": [
            "Question 1: Calculate the average of 3.14, 2.718, 1.618, 0.577\n",
            "Average = 2.01325\n"
          ]
        }
      ],
      "source": [
        "# Question 1: Calculate the average of 3.14, 2.718, 1.618, 0.577\n",
        "print(\"Question 1: Calculate the average of 3.14, 2.718, 1.618, 0.577\")\n",
        "\n",
        "numbers = [3.14, 2.718, 1.618, 0.577]\n",
        "average = sum(numbers) / len(numbers)\n",
        "print(\"Average =\", average)\n"
      ]
    },
    {
      "cell_type": "code",
      "source": [
        "# Question 2: Convert 98.6 Fahrenheit to Celsius (F = C * 9/5 + 32)\n",
        "print(\"\\nQuestion 2: Convert 98.6 Fahrenheit to Celsius\")\n",
        "\n",
        "fahrenheit = 98.6\n",
        "celsius = (fahrenheit - 32) * 5/9\n",
        "print(\"Celsius =\", celsius)\n"
      ],
      "metadata": {
        "id": "INXnE_ZZPyXK",
        "colab": {
          "base_uri": "https://localhost:8080/"
        },
        "outputId": "dbaf4253-177c-43c9-f127-1f919e642916"
      },
      "execution_count": 2,
      "outputs": [
        {
          "output_type": "stream",
          "name": "stdout",
          "text": [
            "\n",
            "Question 2: Convert 98.6 Fahrenheit to Celsius\n",
            "Celsius = 37.0\n"
          ]
        }
      ]
    },
    {
      "cell_type": "code",
      "source": [
        "# Question 3: Calculate the compound interest on $1000 at 5.5% for 3 years\n",
        "print(\"\\nQuestion 3: Calculate compound interest on $1000 at 5.5% for 3 years\")\n",
        "\n",
        "principal = 1000\n",
        "rate = 5.5 / 100   # converting percentage to decimal\n",
        "time = 3\n",
        "\n",
        "amount = principal * (1 + rate) ** time\n",
        "compound_interest = amount - principal\n",
        "\n",
        "print(\"Compound Interest =\", compound_interest)\n",
        "print(\"Total Amount =\", amount)\n"
      ],
      "metadata": {
        "id": "V82_L5JZPyNR",
        "colab": {
          "base_uri": "https://localhost:8080/"
        },
        "outputId": "682d3903-2560-425d-a967-c6a437ea39b7"
      },
      "execution_count": 3,
      "outputs": [
        {
          "output_type": "stream",
          "name": "stdout",
          "text": [
            "\n",
            "Question 3: Calculate compound interest on $1000 at 5.5% for 3 years\n",
            "Compound Interest = 174.24137499999983\n",
            "Total Amount = 1174.2413749999998\n"
          ]
        }
      ]
    },
    {
      "cell_type": "code",
      "source": [
        "# Question 4: Find the hypotenuse of a right triangle with sides 3.5 and 4.2\n",
        "print(\"\\nQuestion 4: Find the hypotenuse of a right triangle with sides 3.5 and 4.2\")\n",
        "\n",
        "import math\n",
        "\n",
        "a = 3.5\n",
        "b = 4.2\n",
        "hypotenuse = math.sqrt(a**2 + b**2) #3.5*3.5 + 4.2*4.2\n",
        "print(\"Hypotenuse =\", hypotenuse)"
      ],
      "metadata": {
        "id": "_cVcjH8pPyEP",
        "colab": {
          "base_uri": "https://localhost:8080/"
        },
        "outputId": "aff46b4e-cce6-4d85-b92b-b818d3d9da0a"
      },
      "execution_count": 5,
      "outputs": [
        {
          "output_type": "stream",
          "name": "stdout",
          "text": [
            "\n",
            "Question 4: Find the hypotenuse of a right triangle with sides 3.5 and 4.2\n",
            "Hypotenuse = 5.4671747731346585\n"
          ]
        }
      ]
    },
    {
      "cell_type": "code",
      "source": [
        "# Question 5: Calculate the volume of a sphere with radius 7.8\n",
        "print(\"\\nQuestion 5: Calculate the volume of a sphere with radius 7.8\")\n",
        "\n",
        "import math\n",
        "\n",
        "radius = 7.8\n",
        "volume = (4/3) * math.pi * radius**3 # v = 4/3 pi r cube\n",
        "\n",
        "print(\"Volume =\", volume)"
      ],
      "metadata": {
        "id": "4AND-hcgPx6Y",
        "colab": {
          "base_uri": "https://localhost:8080/"
        },
        "outputId": "934864c9-3be1-4f5a-fb15-22cf4ad58302"
      },
      "execution_count": 6,
      "outputs": [
        {
          "output_type": "stream",
          "name": "stdout",
          "text": [
            "\n",
            "Question 5: Calculate the volume of a sphere with radius 7.8\n",
            "Volume = 1987.798769261791\n"
          ]
        }
      ]
    },
    {
      "cell_type": "code",
      "source": [
        "# Question 6: Round 3.14159 to 3 decimal places\n",
        "print(\"\\nQuestion 6: Round 3.14159 to 3 decimal places\")\n",
        "\n",
        "number = 3.14159\n",
        "rounded = round(number, 3)\n",
        "\n",
        "print(\"Rounded =\", rounded)"
      ],
      "metadata": {
        "id": "_uweROJZPxs0",
        "colab": {
          "base_uri": "https://localhost:8080/"
        },
        "outputId": "20c80e3f-6453-4665-c48c-82d622e8507b"
      },
      "execution_count": 7,
      "outputs": [
        {
          "output_type": "stream",
          "name": "stdout",
          "text": [
            "\n",
            "Question 6: Round 3.14159 to 3 decimal places\n",
            "Rounded = 3.142\n"
          ]
        }
      ]
    },
    {
      "cell_type": "code",
      "source": [
        "# Question 7: Calculate the percentage: 45 out of 67\n",
        "print(\"\\nQuestion 7: Calculate the percentage: 45 out of 67\")\n",
        "\n",
        "obtained = 45\n",
        "total = 67\n",
        "percentage = (obtained / total) * 100\n",
        "\n",
        "print(\"Percentage =\", percentage, \"%\")"
      ],
      "metadata": {
        "id": "o56pJorGPxhA",
        "colab": {
          "base_uri": "https://localhost:8080/"
        },
        "outputId": "c9b7961b-e933-4af0-81a7-786288bfe619"
      },
      "execution_count": 8,
      "outputs": [
        {
          "output_type": "stream",
          "name": "stdout",
          "text": [
            "\n",
            "Question 7: Calculate the percentage: 45 out of 67\n",
            "Percentage = 67.16417910447761 %\n"
          ]
        }
      ]
    },
    {
      "cell_type": "code",
      "source": [
        "# Question 8: Find the square root of 23.456\n",
        "print(\"\\nQuestion 8: Find the square root of 23.456\")\n",
        "\n",
        "import math\n",
        "\n",
        "number = 23.456\n",
        "sqrt_value = math.sqrt(number)\n",
        "\n",
        "print(\"Square Root =\", sqrt_value)\n"
      ],
      "metadata": {
        "id": "1_fU0XJFPxTJ",
        "colab": {
          "base_uri": "https://localhost:8080/"
        },
        "outputId": "b6153e55-e563-4c6d-a65a-e675248122a3"
      },
      "execution_count": 9,
      "outputs": [
        {
          "output_type": "stream",
          "name": "stdout",
          "text": [
            "\n",
            "Question 8: Find the square root of 23.456\n",
            "Square Root = 4.843139477652899\n"
          ]
        }
      ]
    },
    {
      "cell_type": "code",
      "source": [
        "# Question 9: Calculate the simple interest: Principal=2500, Rate=6.5%, Time=2.5 years\n",
        "print(\"\\nQuestion 9: Calculate simple interest: Principal=2500, Rate=6.5%, Time=2.5 years\")\n",
        "\n",
        "principal = 2500\n",
        "rate = 6.5 / 100   # convert to decimal\n",
        "time = 2.5\n",
        "\n",
        "simple_interest = principal * rate * time\n",
        "\n",
        "print(\"Simple Interest =\", simple_interest)\n"
      ],
      "metadata": {
        "id": "RBTLjWguPw1I",
        "colab": {
          "base_uri": "https://localhost:8080/"
        },
        "outputId": "218f2e38-2eee-4d52-c8f5-a2f5332ff409"
      },
      "execution_count": 10,
      "outputs": [
        {
          "output_type": "stream",
          "name": "stdout",
          "text": [
            "\n",
            "Question 9: Calculate simple interest: Principal=2500, Rate=6.5%, Time=2.5 years\n",
            "Simple Interest = 406.25\n"
          ]
        }
      ]
    },
    {
      "cell_type": "code",
      "source": [
        "# Question 10: Convert 45.7 degrees to radians\n",
        "print(\"\\nQuestion 10: Convert 45.7 degrees to radians\")\n",
        "\n",
        "import math\n",
        "\n",
        "degrees = 45.7\n",
        "radians = math.radians(degrees)\n",
        "\n",
        "print(\"Radians =\", radians)\n"
      ],
      "metadata": {
        "id": "NhLTnAT3Pwnv",
        "colab": {
          "base_uri": "https://localhost:8080/"
        },
        "outputId": "597734c1-cac3-494d-d0db-c4548b248411"
      },
      "execution_count": 11,
      "outputs": [
        {
          "output_type": "stream",
          "name": "stdout",
          "text": [
            "\n",
            "Question 10: Convert 45.7 degrees to radians\n",
            "Radians = 0.7976154681614086\n"
          ]
        }
      ]
    }
  ]
}