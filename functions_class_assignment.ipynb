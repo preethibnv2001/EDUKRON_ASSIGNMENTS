{
  "nbformat": 4,
  "nbformat_minor": 0,
  "metadata": {
    "colab": {
      "provenance": []
    },
    "kernelspec": {
      "name": "python3",
      "display_name": "Python 3"
    },
    "language_info": {
      "name": "python"
    }
  },
  "cells": [
    {
      "cell_type": "code",
      "execution_count": null,
      "metadata": {
        "id": "pS5yCVdwOEtS"
      },
      "outputs": [],
      "source": [
        "def sum_all(*args):\n",
        "  return sum(args)\n"
      ]
    },
    {
      "cell_type": "code",
      "source": [
        "sum_all(1,2,3)"
      ],
      "metadata": {
        "colab": {
          "base_uri": "https://localhost:8080/"
        },
        "id": "M7O-vlIhOu3k",
        "outputId": "cb39d09b-f91e-411d-f12e-1ef3311ee724"
      },
      "execution_count": null,
      "outputs": [
        {
          "output_type": "execute_result",
          "data": {
            "text/plain": [
              "6"
            ]
          },
          "metadata": {},
          "execution_count": 2
        }
      ]
    },
    {
      "cell_type": "code",
      "source": [
        "def sum_all(*args):\n",
        "    total = 0\n",
        "    for num in args:\n",
        "        total += num\n",
        "    return total"
      ],
      "metadata": {
        "id": "tKhrs-fzUOWM"
      },
      "execution_count": 1,
      "outputs": []
    },
    {
      "cell_type": "code",
      "source": [
        "print(sum_all(1, 2, 3, 4))\n",
        "print(sum_all(5, 10))\n",
        "print(sum_all())"
      ],
      "metadata": {
        "colab": {
          "base_uri": "https://localhost:8080/"
        },
        "id": "fmHRwIIlweat",
        "outputId": "17fdf440-0b49-4e5b-cf0a-60a3217f9403"
      },
      "execution_count": 2,
      "outputs": [
        {
          "output_type": "stream",
          "name": "stdout",
          "text": [
            "10\n",
            "15\n",
            "0\n"
          ]
        }
      ]
    },
    {
      "cell_type": "code",
      "source": [
        "def concat_strings(*args):\n",
        "    result = \"\"\n",
        "    for arg in args:\n",
        "        if isinstance(arg, str):\n",
        "            result += arg\n",
        "    return result"
      ],
      "metadata": {
        "id": "LI6-wX0_PdRS"
      },
      "execution_count": 3,
      "outputs": []
    },
    {
      "cell_type": "code",
      "source": [
        "print(concat_strings(\"Hello\", \" \", \"World\", \"!\"))\n",
        "print(concat_strings(\"Python\", \"3.10\"))\n",
        "print(concat_strings(123, \"abc\", None, \"xyz\"))\n",
        "print(concat_strings())"
      ],
      "metadata": {
        "colab": {
          "base_uri": "https://localhost:8080/"
        },
        "id": "d0iZb2C2wuzW",
        "outputId": "3108d23c-4ba2-476a-b2a8-3a055df67879"
      },
      "execution_count": 4,
      "outputs": [
        {
          "output_type": "stream",
          "name": "stdout",
          "text": [
            "Hello World!\n",
            "Python3.10\n",
            "abcxyz\n",
            "\n"
          ]
        }
      ]
    },
    {
      "cell_type": "code",
      "source": [
        "def max_number(*args):\n",
        "    if not args:  # no arguments provided\n",
        "        return None\n",
        "\n",
        "    maximum = args[0]\n",
        "    for num in args[1:]:\n",
        "        if num > maximum:\n",
        "            maximum = num\n",
        "    return maximum"
      ],
      "metadata": {
        "id": "xNbN0oZ5P743"
      },
      "execution_count": 6,
      "outputs": []
    },
    {
      "cell_type": "code",
      "source": [
        "print(max_number(1, 5, 3, 9, 2))\n",
        "print(max_number(-10, -20, -5))\n",
        "print(max_number(42))\n",
        "print(max_number())"
      ],
      "metadata": {
        "colab": {
          "base_uri": "https://localhost:8080/"
        },
        "id": "MN8BTnrYw5Pz",
        "outputId": "c7449186-a06f-4ad8-f731-16927287c325"
      },
      "execution_count": 7,
      "outputs": [
        {
          "output_type": "stream",
          "name": "stdout",
          "text": [
            "9\n",
            "-5\n",
            "42\n",
            "None\n"
          ]
        }
      ]
    },
    {
      "cell_type": "code",
      "source": [
        "def unpack_args(*args):\n",
        "    result = []\n",
        "\n",
        "    def flatten(item):\n",
        "        if isinstance(item, (list, tuple)):\n",
        "            for sub in item:\n",
        "                flatten(sub)  # recurse into nested structure\n",
        "        else:\n",
        "            result.append(item)\n",
        "\n",
        "    for arg in args:\n",
        "        flatten(arg)\n",
        "\n",
        "    return result"
      ],
      "metadata": {
        "id": "sJbVLtXVQcau"
      },
      "execution_count": 8,
      "outputs": []
    },
    {
      "cell_type": "code",
      "source": [
        "print(unpack_args(1, 2, (3, 4), [5, [6, 7]], ((8,), 9)))\n",
        "\n",
        "print(unpack_args([[\"a\", \"b\"], \"c\"], (\"d\", [\"e\", (\"f\",)])))\n",
        "\n",
        "print(unpack_args(10, 20, 30))\n",
        "\n",
        "print(unpack_args())\n"
      ],
      "metadata": {
        "colab": {
          "base_uri": "https://localhost:8080/"
        },
        "id": "vepzyQnaxF7t",
        "outputId": "763ed826-0402-453d-a4ea-bb88a464a4bc"
      },
      "execution_count": 9,
      "outputs": [
        {
          "output_type": "stream",
          "name": "stdout",
          "text": [
            "[1, 2, 3, 4, 5, 6, 7, 8, 9]\n",
            "['a', 'b', 'c', 'd', 'e', 'f']\n",
            "[10, 20, 30]\n",
            "[]\n"
          ]
        }
      ]
    },
    {
      "cell_type": "code",
      "source": [
        "def demo_args(*args):\n",
        "    print(\"args:\", args)\n",
        "    print(\"Type of args:\", type(args))\n",
        "    print()\n",
        "\n",
        "# Case 1: Passing a list directly\n",
        "demo_args([1, 2, 3])\n",
        "\n",
        "# Case 2: Passing with unpacking (*list)\n",
        "demo_args(*[1, 2, 3])\n",
        "\n",
        "\n",
        "#Explanation:\n",
        "\n",
        "#Case 1 (demo_args([1,2,3]))\n",
        "\n",
        "#The entire list is treated as a single argument.\n",
        "\n",
        "#Inside the function, args becomes a tuple containing that one list: ([1, 2, 3],).\n",
        "\n",
        "#Case 2 (demo_args(*[1,2,3]))\n",
        "\n",
        "#The * unpacks the list into separate arguments.\n",
        "\n",
        "#So the function receives 1, 2, 3 as three separate arguments.\n",
        "\n",
        "#Inside, args becomes (1, 2, 3)."
      ],
      "metadata": {
        "colab": {
          "base_uri": "https://localhost:8080/"
        },
        "id": "oMEJTAUlVM4g",
        "outputId": "f533b383-6738-48a6-ff89-9dc9f3824981"
      },
      "execution_count": null,
      "outputs": [
        {
          "output_type": "stream",
          "name": "stdout",
          "text": [
            "args: ([1, 2, 3],)\n",
            "Type of args: <class 'tuple'>\n",
            "\n",
            "args: (1, 2, 3)\n",
            "Type of args: <class 'tuple'>\n",
            "\n"
          ]
        }
      ]
    },
    {
      "cell_type": "code",
      "source": [
        "def reverse_args(*args):\n",
        "    if not args:  # base case: no arguments\n",
        "        return\n",
        "    print(args[-1])  # print the last argument\n",
        "    reverse_args(*args[:-1])  # recurse on the rest"
      ],
      "metadata": {
        "id": "a3g2ccB5VfFj"
      },
      "execution_count": 10,
      "outputs": []
    },
    {
      "cell_type": "code",
      "source": [
        "reverse_args(1, 2, 3, 4, 5)\n",
        "\n",
        "reverse_args(\"a\", \"b\", \"c\")\n",
        "\n",
        "reverse_args()"
      ],
      "metadata": {
        "colab": {
          "base_uri": "https://localhost:8080/"
        },
        "id": "yPSMt2U2xP7P",
        "outputId": "e4487051-aff1-4902-b4c2-e011db975ed9"
      },
      "execution_count": 11,
      "outputs": [
        {
          "output_type": "stream",
          "name": "stdout",
          "text": [
            "5\n",
            "4\n",
            "3\n",
            "2\n",
            "1\n",
            "c\n",
            "b\n",
            "a\n"
          ]
        }
      ]
    }
  ]
}