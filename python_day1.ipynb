{
  "nbformat": 4,
  "nbformat_minor": 0,
  "metadata": {
    "colab": {
      "provenance": []
    },
    "kernelspec": {
      "name": "python3",
      "display_name": "Python 3"
    },
    "language_info": {
      "name": "python"
    }
  },
  "cells": [
    {
      "cell_type": "code",
      "execution_count": null,
      "metadata": {
        "id": "iaQsKCrz0-pp"
      },
      "outputs": [],
      "source": []
    },
    {
      "cell_type": "markdown",
      "source": [
        "int(Integer)\n"
      ],
      "metadata": {
        "id": "VtIl-Xkg1DIA"
      }
    },
    {
      "cell_type": "code",
      "source": [
        "#Addition ( + )\n",
        "\n",
        "#Adding new students to the total\n",
        "new_students_batch1 = 120\n",
        "total_students = 1500\n",
        "total_students = total_students + new_students_batch1\n",
        "print(f\"Total students after batch 1: {total_students}\")"
      ],
      "metadata": {
        "colab": {
          "base_uri": "https://localhost:8080/"
        },
        "id": "N2PPTpbQ1Mtg",
        "outputId": "2670bca5-ce0d-44c3-c036-56e0b09c9b43"
      },
      "execution_count": null,
      "outputs": [
        {
          "output_type": "stream",
          "name": "stdout",
          "text": [
            "Total students after batch 1: 1620\n"
          ]
        }
      ]
    },
    {
      "cell_type": "code",
      "source": [
        "#Adding total modules in two courses\n",
        "ds_modules = 15\n",
        "de_modules = 18\n",
        "total_modules = ds_modules + de_modules\n",
        "print(f\"Total modules in DS & DE :{total_modules}\")"
      ],
      "metadata": {
        "colab": {
          "base_uri": "https://localhost:8080/"
        },
        "id": "jqG-WNX92am8",
        "outputId": "d04bdac4-6474-4a49-b6cb-48b0f6aefd71"
      },
      "execution_count": null,
      "outputs": [
        {
          "output_type": "stream",
          "name": "stdout",
          "text": [
            "Total modules in DS & DE :33\n"
          ]
        }
      ]
    },
    {
      "cell_type": "code",
      "source": [
        "# Summing batch sizes\n",
        "batch_size_1 = 50\n",
        "batch_size_2 = 45\n",
        "combined_batch_size = batch_size_1 + batch_size_2\n",
        "print(f\"Combined size of two batches : {combined_batch_size}\")"
      ],
      "metadata": {
        "colab": {
          "base_uri": "https://localhost:8080/"
        },
        "id": "wr3LCm39Hsz3",
        "outputId": "f4326df5-fb38-4417-cf31-2339e96b7df8"
      },
      "execution_count": null,
      "outputs": [
        {
          "output_type": "stream",
          "name": "stdout",
          "text": [
            "Combined size of two batches : 95\n"
          ]
        }
      ]
    },
    {
      "cell_type": "code",
      "source": [
        "# combining positive and negative changes\n",
        "student_change = 50 + (-10) +30\n",
        "print(f\"Net student change: {student_change}\")"
      ],
      "metadata": {
        "colab": {
          "base_uri": "https://localhost:8080/"
        },
        "id": "UHSxGK1yPvsk",
        "outputId": "2a87bab1-2f7c-4e3e-d517-f9d9f411b64b"
      },
      "execution_count": null,
      "outputs": [
        {
          "output_type": "stream",
          "name": "stdout",
          "text": [
            "Net student change: 70\n"
          ]
        }
      ]
    },
    {
      "cell_type": "code",
      "source": [],
      "metadata": {
        "id": "dLL3sCUTPgxO"
      },
      "execution_count": null,
      "outputs": []
    },
    {
      "cell_type": "code",
      "source": [
        "# Subtraction ( - )\n",
        "\n",
        "#calculating remaining seats\n",
        "batch_capacity = 60\n",
        "enrolled = 55\n",
        "remaining_seats =batch_capacity - enrolled\n",
        "print(f\" Remaining seats : {remaining_seats}\")"
      ],
      "metadata": {
        "colab": {
          "base_uri": "https://localhost:8080/"
        },
        "id": "XT4PnCrOPgc1",
        "outputId": "71213ed6-f4b6-4256-8785-8fcb7bd32a01"
      },
      "execution_count": null,
      "outputs": [
        {
          "output_type": "stream",
          "name": "stdout",
          "text": [
            " Remaining seats : 5\n"
          ]
        }
      ]
    },
    {
      "cell_type": "code",
      "source": [
        "#calculating student dropouts\n",
        "\n",
        "initial_students=1500\n",
        "final_students=1485\n",
        "dropouts=initial_students - final_students\n",
        "print(f\"Number of dropouts : {dropouts}\")"
      ],
      "metadata": {
        "colab": {
          "base_uri": "https://localhost:8080/"
        },
        "id": "sRgFF-BUQ1Y_",
        "outputId": "22dde9a2-7f1a-4e4b-b7e1-8df8b05bc328"
      },
      "execution_count": null,
      "outputs": [
        {
          "output_type": "stream",
          "name": "stdout",
          "text": [
            "Number of dropouts : 15\n"
          ]
        }
      ]
    },
    {
      "cell_type": "code",
      "source": [
        "#Subtracting Zero\n",
        "\n",
        "revenue = 50000\n",
        "revenue_after_discount = revenue -0\n",
        "print(f\"Revenue after zero discount : {revenue_after_discount}\")"
      ],
      "metadata": {
        "colab": {
          "base_uri": "https://localhost:8080/"
        },
        "id": "zrji24-dRdGQ",
        "outputId": "1a390a9f-85cd-4709-fbad-a5ea7cb6eaab"
      },
      "execution_count": null,
      "outputs": [
        {
          "output_type": "stream",
          "name": "stdout",
          "text": [
            "Revenue after zero discount : 50000\n"
          ]
        }
      ]
    },
    {
      "cell_type": "code",
      "source": [
        "#Days remaining in a course\n",
        "\n",
        "total_days =90\n",
        "days_passed = 30\n",
        "days_remaining = total_days - days_passed\n",
        "print(f\"Days remaining: {days_remaining}\")"
      ],
      "metadata": {
        "colab": {
          "base_uri": "https://localhost:8080/"
        },
        "id": "rVnd8iWdRa1s",
        "outputId": "8458e84d-d6e9-4ecb-935a-10958070e45a"
      },
      "execution_count": null,
      "outputs": [
        {
          "output_type": "stream",
          "name": "stdout",
          "text": [
            "Days remaining: 60\n"
          ]
        }
      ]
    },
    {
      "cell_type": "code",
      "source": [],
      "metadata": {
        "id": "zsSCHgKpSi22"
      },
      "execution_count": null,
      "outputs": []
    },
    {
      "cell_type": "code",
      "source": [
        "#Multiplication ( * )\n",
        "\n",
        "#Calculating total revenue\n",
        "\n",
        "total_students = 1500\n",
        "course_fee = 500\n",
        "total_revenue = total_students * course_fee\n",
        "print(f\"Total potential revenue: ${total_revenue}\")"
      ],
      "metadata": {
        "colab": {
          "base_uri": "https://localhost:8080/"
        },
        "id": "Vjri7OIKSlFc",
        "outputId": "42afc1de-28a2-4517-fd4b-cf25b7bbf312"
      },
      "execution_count": null,
      "outputs": [
        {
          "output_type": "stream",
          "name": "stdout",
          "text": [
            "Total potential revenue: $750000\n"
          ]
        }
      ]
    },
    {
      "cell_type": "code",
      "source": [
        "#calculating total hours for a course\n",
        "\n",
        "modules = 15\n",
        "hours_per_module = 4\n",
        "total_hours = modules * hours_per_module\n",
        "print(f\"Total course hours : {total_hours}\")"
      ],
      "metadata": {
        "colab": {
          "base_uri": "https://localhost:8080/"
        },
        "id": "_9s7Mtt9TaTX",
        "outputId": "09d8f1f5-c076-4bab-f46e-13d56df6b1dd"
      },
      "execution_count": null,
      "outputs": [
        {
          "output_type": "stream",
          "name": "stdout",
          "text": [
            "Total course hours : 60\n"
          ]
        }
      ]
    },
    {
      "cell_type": "code",
      "source": [
        "#multiplying by zero\n",
        "\n",
        "zero_enrollment_batches = 0\n",
        "students_per_batch = 50\n",
        "total_from_zero_batches = zero_enrollment_batches * students_per_batch\n",
        "print(f\"Students from zero batches : {total_from_zero_batches}\")"
      ],
      "metadata": {
        "colab": {
          "base_uri": "https://localhost:8080/"
        },
        "id": "buRuQegZUlMH",
        "outputId": "4602bca4-aa3e-49ad-b1fd-e5078600cb0a"
      },
      "execution_count": null,
      "outputs": [
        {
          "output_type": "stream",
          "name": "stdout",
          "text": [
            "Students from zero batches : 0\n"
          ]
        }
      ]
    },
    {
      "cell_type": "code",
      "source": [
        "#Multiplying by a negative number\n",
        "\n",
        "profit_per_student = 100\n",
        "refunds = -5       #Representing 5 refunds\n",
        "impact_on_profit = refunds * profit_per_student\n",
        "print(f\"Profit impact from refunds : {impact_on_profit}\")\n"
      ],
      "metadata": {
        "colab": {
          "base_uri": "https://localhost:8080/"
        },
        "id": "n8JA6zwDVRxy",
        "outputId": "31d87230-b1e2-4aca-f0f8-5f6ef0d1e619"
      },
      "execution_count": null,
      "outputs": [
        {
          "output_type": "stream",
          "name": "stdout",
          "text": [
            "Profit impact from refunds : -500\n"
          ]
        }
      ]
    },
    {
      "cell_type": "code",
      "source": [],
      "metadata": {
        "id": "gfJX3lT_aovz"
      },
      "execution_count": null,
      "outputs": []
    },
    {
      "cell_type": "code",
      "source": [
        "# Floor divison (//)\n",
        "\n"
      ],
      "metadata": {
        "id": "uuaTUXHEanxG"
      },
      "execution_count": null,
      "outputs": []
    }
  ]
}