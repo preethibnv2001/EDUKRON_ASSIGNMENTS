{
  "nbformat": 4,
  "nbformat_minor": 0,
  "metadata": {
    "colab": {
      "provenance": []
    },
    "kernelspec": {
      "name": "python3",
      "display_name": "Python 3"
    },
    "language_info": {
      "name": "python"
    }
  },
  "cells": [
    {
      "cell_type": "code",
      "execution_count": 1,
      "metadata": {
        "colab": {
          "base_uri": "https://localhost:8080/"
        },
        "id": "qfRYDIIgXh3E",
        "outputId": "67be92b3-ec75-4806-dbb7-07ff6d26d0b8"
      },
      "outputs": [
        {
          "output_type": "stream",
          "name": "stdout",
          "text": [
            "Create a complex number and find its conjugate\n",
            "Complex number: (3+4j)\n",
            "Conjugate: (3-4j)\n",
            "Magnitude: 5.0\n",
            "--------------------------------------------------\n"
          ]
        }
      ],
      "source": [
        "# COMPLEX DATATYPE ASSIGNMENT\n",
        "\n",
        "# SOLVED EXAMPLE\n",
        "# --------------\n",
        "# Question: Create a complex number and find its conjugate\n",
        "print(\"Create a complex number and find its conjugate\")\n",
        "z = 3 + 4j\n",
        "conjugate = z.conjugate()\n",
        "magnitude = abs(z)\n",
        "print(f\"Complex number: {z}\")\n",
        "print(f\"Conjugate: {conjugate}\")\n",
        "print(f\"Magnitude: {magnitude}\")\n",
        "print(\"-\" * 50)"
      ]
    },
    {
      "cell_type": "code",
      "source": [
        "# Question 1: Create complex number 5 + 3j\n",
        "print(\"Question 1: Create complex number 5 + 3j\")\n",
        "# Your code here\n",
        "# Creating a complex number\n",
        "z = 5 + 3j\n",
        "# Accessing real and imaginary parts\n",
        "print(\"Real part:\", z.real)\n",
        "print(\"Imaginary part:\", z.imag)\n"
      ],
      "metadata": {
        "colab": {
          "base_uri": "https://localhost:8080/"
        },
        "id": "m2wg6hjPYQeb",
        "outputId": "60c8a2de-ad9f-4a91-d993-7d934de996c5"
      },
      "execution_count": 3,
      "outputs": [
        {
          "output_type": "stream",
          "name": "stdout",
          "text": [
            "Question 1: Create complex number 5 + 3j\n",
            "Real part: 5.0\n",
            "Imaginary part: 3.0\n"
          ]
        }
      ]
    },
    {
      "cell_type": "code",
      "source": [
        "# Question 2: Find the real part of complex number 7 - 2j\n",
        "print(\"\\nQuestion 2: Find the real part of complex number 7 - 2j\")\n",
        "# Your code here\n",
        "\n",
        "# Creating the complex number\n",
        "z = 7 - 2j\n",
        "\n",
        "# Printing the real part\n",
        "print(\"Real part of complex number\", z.real)\n"
      ],
      "metadata": {
        "colab": {
          "base_uri": "https://localhost:8080/"
        },
        "id": "fuLt-F5zYfe_",
        "outputId": "263def4a-9ba4-4e5b-e129-6dd79d1e9286"
      },
      "execution_count": 5,
      "outputs": [
        {
          "output_type": "stream",
          "name": "stdout",
          "text": [
            "\n",
            "Question 2: Find the real part of complex number 7 - 2j\n",
            "Real part of complex number 7.0\n"
          ]
        }
      ]
    },
    {
      "cell_type": "code",
      "source": [
        "# Question 3: Find the imaginary part of complex number 4 + 6j\n",
        "print(\"\\nQuestion 3: Find the imaginary part of complex number 4 + 6j\")\n",
        "# Your code here\n",
        "# Creating the complex number\n",
        "z = 4 + 6j\n",
        "\n",
        "# Printing the imaginary part\n",
        "print(\"Imaginary part of complex number\", z.imag)\n"
      ],
      "metadata": {
        "colab": {
          "base_uri": "https://localhost:8080/"
        },
        "id": "51ZvGB57YfUk",
        "outputId": "35c55e45-9872-4431-a260-a150a78d86e3"
      },
      "execution_count": 6,
      "outputs": [
        {
          "output_type": "stream",
          "name": "stdout",
          "text": [
            "\n",
            "Question 3: Find the imaginary part of complex number 4 + 6j\n",
            "Imaginary part of complex number 6.0\n"
          ]
        }
      ]
    },
    {
      "cell_type": "code",
      "source": [
        "# Question 4: Add two complex numbers: (3 + 2j) and (1 + 4j)\n",
        "print(\"\\nQuestion 4: Add two complex numbers: (3 + 2j) and (1 + 4j)\")\n",
        "# Your code here\n",
        "\n",
        "# Creating two complex numbers\n",
        "z1 = 3 + 2j\n",
        "z2 = 1 + 4j\n",
        "\n",
        "# Adding the complex numbers\n",
        "result = z1 + z2\n",
        "\n",
        "# Printing the result\n",
        "print(\"Adding two complex numbers:\", result)"
      ],
      "metadata": {
        "colab": {
          "base_uri": "https://localhost:8080/"
        },
        "id": "uMmRePvQYfJo",
        "outputId": "13ad314a-235c-488a-98c4-1c61bdd19c1c"
      },
      "execution_count": 7,
      "outputs": [
        {
          "output_type": "stream",
          "name": "stdout",
          "text": [
            "\n",
            "Question 4: Add two complex numbers: (3 + 2j) and (1 + 4j)\n",
            "Adding two complex numbers: (4+6j)\n"
          ]
        }
      ]
    },
    {
      "cell_type": "code",
      "source": [
        "# Question 5: Multiply two complex numbers: (2 + 3j) and (1 + 2j)\n",
        "print(\"\\nQuestion 5: Multiply two complex numbers: (2 + 3j) and (1 + 2j)\")\n",
        "# Your code here\n",
        "# Creating two complex numbers\n",
        "z1 = 2 + 3j\n",
        "z2 = 1 + 2j\n",
        "\n",
        "# Multiplying the complex numbers\n",
        "result = z1 * z2\n",
        "\n",
        "# Printing the result\n",
        "print(\"Multiply two complex numbers:\", result)\n"
      ],
      "metadata": {
        "colab": {
          "base_uri": "https://localhost:8080/"
        },
        "id": "KCw9sVy_Ye-b",
        "outputId": "6db148bc-0f91-4b0b-d499-c25bf6d8b673"
      },
      "execution_count": 8,
      "outputs": [
        {
          "output_type": "stream",
          "name": "stdout",
          "text": [
            "\n",
            "Question 5: Multiply two complex numbers: (2 + 3j) and (1 + 2j)\n",
            "Multiply two complex numbers: (-4+7j)\n"
          ]
        }
      ]
    },
    {
      "cell_type": "code",
      "source": [
        "# Question 6: Find the magnitude of complex number 6 + 8j\n",
        "print(\"\\nQuestion 6: Find the magnitude of complex number 6 + 8j\")\n",
        "# Your code here\n",
        "# Creating the complex number\n",
        "z = 6 + 8j\n",
        "\n",
        "# Finding the magnitude\n",
        "magnitude = abs(z) # ∣6+8j∣ = 62+82 = 36+64 = 100 = 10\n",
        "\n",
        "# Printing the result\n",
        "print(\"Magnitude of complex number:\", magnitude)\n"
      ],
      "metadata": {
        "colab": {
          "base_uri": "https://localhost:8080/"
        },
        "id": "plJvuy3rYezP",
        "outputId": "afd12f6f-f706-498d-c5d9-7bbb56ddaae5"
      },
      "execution_count": 10,
      "outputs": [
        {
          "output_type": "stream",
          "name": "stdout",
          "text": [
            "\n",
            "Question 6: Find the magnitude of complex number 6 + 8j\n",
            "Magnitude of complex number: 10.0\n"
          ]
        }
      ]
    },
    {
      "cell_type": "code",
      "source": [
        "# Question 7: Find the conjugate of complex number 5 - 7j\n",
        "print(\"\\nQuestion 7: Find the conjugate of complex number 5 - 7j\")\n",
        "# Your code here\n",
        "# Creating the complex number\n",
        "z = 5 - 7j\n",
        "\n",
        "# Finding the conjugate\n",
        "conjugate = z.conjugate()\n",
        "\n",
        "# Printing the result\n",
        "print(\"\\nConjugate of complex number:\", conjugate)\n"
      ],
      "metadata": {
        "colab": {
          "base_uri": "https://localhost:8080/"
        },
        "id": "eySWRiK1YXHZ",
        "outputId": "319a6b50-cd15-4c03-d48a-b3014ad446c5"
      },
      "execution_count": 11,
      "outputs": [
        {
          "output_type": "stream",
          "name": "stdout",
          "text": [
            "\n",
            "Question 7: Find the conjugate of complex number 5 - 7j\n",
            "\n",
            "Conjugate of complex number: (5+7j)\n"
          ]
        }
      ]
    },
    {
      "cell_type": "code",
      "source": [
        "# Question 8: Subtract complex numbers: (10 + 5j) - (3 + 2j)\n",
        "print(\"\\nQuestion 8: Subtract complex numbers: (10 + 5j) - (3 + 2j)\")\n",
        "# Your code here\n",
        "# Creating two complex numbers\n",
        "z1 = 10 + 5j\n",
        "z2 = 3 + 2j\n",
        "\n",
        "# Subtracting the complex numbers\n",
        "result = z1 - z2 #(10+5j)−(3+2j) = (10−3)+(5−2)j = 7+3j\n",
        "\n",
        "# Printing the result\n",
        "print(\"\\nSubtract complex numbers:\", result)\n"
      ],
      "metadata": {
        "colab": {
          "base_uri": "https://localhost:8080/"
        },
        "id": "StDkwVXYYW5C",
        "outputId": "f52727ad-8a71-4e94-8e97-f0a237c485e2"
      },
      "execution_count": 12,
      "outputs": [
        {
          "output_type": "stream",
          "name": "stdout",
          "text": [
            "\n",
            "Question 8: Subtract complex numbers: (10 + 5j) - (3 + 2j)\n",
            "\n",
            "Subtract complex numbers: (7+3j)\n"
          ]
        }
      ]
    },
    {
      "cell_type": "code",
      "source": [
        "# Question 9: Divide complex numbers: (8 + 6j) / (2 + 1j)\n",
        "print(\"\\nQuestion 9: Divide complex numbers: (8 + 6j) / (2 + 1j)\")\n",
        "# Your code here\n",
        "# Creating two complex numbers\n",
        "z1 = 8 + 6j\n",
        "z2 = 2 + 1j\n",
        "\n",
        "# Dividing the complex numbers\n",
        "result = z1 / z2\n",
        "\n",
        "# Printing the result\n",
        "print(\"\\nDividing complex numbers:\", result)\n"
      ],
      "metadata": {
        "colab": {
          "base_uri": "https://localhost:8080/"
        },
        "id": "RXhGMwRdYWuW",
        "outputId": "36948366-3af4-4fc5-cd0c-6881eca8180a"
      },
      "execution_count": 13,
      "outputs": [
        {
          "output_type": "stream",
          "name": "stdout",
          "text": [
            "\n",
            "Question 9: Divide complex numbers: (8 + 6j) / (2 + 1j)\n",
            "\n",
            "Dividing complex numbers: (4.4+0.8j)\n"
          ]
        }
      ]
    },
    {
      "cell_type": "code",
      "source": [
        "# Question 10: Find the phase angle of complex number 1 + 1j\n",
        "print(\"\\nQuestion 10: Find the phase angle of complex number 1 + 1j\")\n",
        "# Your code here\n",
        "import cmath\n",
        "\n",
        "# Creating the complex number\n",
        "z = 1 + 1j\n",
        "\n",
        "# Finding the phase angle\n",
        "phase_angle = cmath.phase(z)\n",
        "\n",
        "# Printing the result\n",
        "print(\"\\nPhase angle of complex number:\", phase_angle)\n"
      ],
      "metadata": {
        "colab": {
          "base_uri": "https://localhost:8080/"
        },
        "id": "PapUf1nqYWZP",
        "outputId": "56d490da-758a-48f1-e216-99330f26207b"
      },
      "execution_count": 14,
      "outputs": [
        {
          "output_type": "stream",
          "name": "stdout",
          "text": [
            "\n",
            "Question 10: Find the phase angle of complex number 1 + 1j\n",
            "\n",
            "Phase angle of complex number: 0.7853981633974483\n"
          ]
        }
      ]
    }
  ]
}