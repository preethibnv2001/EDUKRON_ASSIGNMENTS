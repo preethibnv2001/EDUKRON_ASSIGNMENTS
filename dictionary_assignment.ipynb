{
  "nbformat": 4,
  "nbformat_minor": 0,
  "metadata": {
    "colab": {
      "provenance": []
    },
    "kernelspec": {
      "name": "python3",
      "display_name": "Python 3"
    },
    "language_info": {
      "name": "python"
    }
  },
  "cells": [
    {
      "cell_type": "code",
      "execution_count": null,
      "metadata": {
        "colab": {
          "base_uri": "https://localhost:8080/"
        },
        "id": "tZw_KSev0uRU",
        "outputId": "776a9dd2-fb9a-4b4e-880a-c47c0f3cbc89"
      },
      "outputs": [
        {
          "output_type": "stream",
          "name": "stdout",
          "text": [
            "Find the key with maximum value in a dictionary\n",
            "Dictionary: {'Alice': 85, 'Bob': 92, 'Charlie': 78, 'Diana': 95, 'Eve': 88}\n",
            "Key with maximum value: Diana\n",
            "Maximum value: 95\n",
            "--------------------------------------------------\n"
          ]
        }
      ],
      "source": [
        "# DICTIONARY DATATYPE ASSIGNMENT - 50 QUESTIONS\n",
        "\n",
        "# SOLVED EXAMPLE\n",
        "# Question: Find the key with maximum value in a dictionary\n",
        "print(\"Find the key with maximum value in a dictionary\")\n",
        "scores = {'Alice': 85, 'Bob': 92, 'Charlie': 78, 'Diana': 95, 'Eve': 88}\n",
        "max_key = max(scores, key=scores.get)\n",
        "max_value = scores[max_key]\n",
        "print(f\"Dictionary: {scores}\")\n",
        "print(f\"Key with maximum value: {max_key}\")\n",
        "print(f\"Maximum value: {max_value}\")\n",
        "print(\"-\" * 50)"
      ]
    },
    {
      "cell_type": "code",
      "source": [
        "# ASSIGNMENT QUESTIONS (50 QUESTIONS)\n",
        "# ==================================\n",
        "\n",
        "# Question 1: Create a dictionary of student names and their ages\n",
        "print(\"Question 1: Create a dictionary of student names and their ages\")\n",
        "# Your code here\n",
        "\n",
        "# Dictionary of student names and ages\n",
        "students = {\n",
        "    \"Alice\": 20,\n",
        "    \"Bob\": 22,\n",
        "    \"Charlie\": 19,\n",
        "    \"David\": 21,\n",
        "    \"Emma\": 20\n",
        "}\n",
        "\n",
        "print(students)\n"
      ],
      "metadata": {
        "id": "f74G6Cn-1PJX",
        "colab": {
          "base_uri": "https://localhost:8080/"
        },
        "outputId": "75dc5a97-8c49-41b4-cbac-de3c9c0746e9"
      },
      "execution_count": 1,
      "outputs": [
        {
          "output_type": "stream",
          "name": "stdout",
          "text": [
            "Question 1: Create a dictionary of student names and their ages\n",
            "{'Alice': 20, 'Bob': 22, 'Charlie': 19, 'David': 21, 'Emma': 20}\n"
          ]
        }
      ]
    },
    {
      "cell_type": "code",
      "source": [
        "# Create an empty dictionary\n",
        "students = {}\n",
        "\n",
        "# Ask how many students to add\n",
        "n = int(input(\"Enter the number of students: \"))\n",
        "\n",
        "# Loop to add students dynamically\n",
        "for i in range(n):\n",
        "    name = input(f\"Enter the name of student {i+1}: \")\n",
        "    age = int(input(f\"Enter the age of {name}: \"))\n",
        "    students[name] = age\n",
        "\n",
        "# Display the dictionary\n",
        "print(\"\\nDictionary of students and ages:\")\n",
        "print(students)\n"
      ],
      "metadata": {
        "colab": {
          "base_uri": "https://localhost:8080/"
        },
        "id": "7uBcelvm9bxr",
        "outputId": "75edf0fe-2c4d-4740-cea0-f60ba9c6cd5a"
      },
      "execution_count": 3,
      "outputs": [
        {
          "output_type": "stream",
          "name": "stdout",
          "text": [
            "Enter the number of students: 2\n",
            "Enter the name of student 1: Preethi\n",
            "Enter the age of Preethi: 24\n",
            "Enter the name of student 2: Supriya\n",
            "Enter the age of Supriya: 24\n",
            "\n",
            "Dictionary of students and ages:\n",
            "{'Preethi': 24, 'Supriya': 24}\n"
          ]
        }
      ]
    },
    {
      "cell_type": "code",
      "source": [
        "# Question 2: Add a new key-value pair to dictionary {'a': 1, 'b': 2, 'c': 3}\n",
        "print(\"\\nQuestion 2: Add a new key-value pair to dictionary {'a': 1, 'b': 2, 'c': 3}\")\n",
        "# Your code here\n",
        "# Original dictionary\n",
        "my_dict = {'a': 1, 'b': 2, 'c': 3}\n",
        "\n",
        "# Add a new key-value pair\n",
        "my_dict['d'] = 4\n",
        "\n",
        "# Display updated dictionary\n",
        "print(my_dict)\n"
      ],
      "metadata": {
        "colab": {
          "base_uri": "https://localhost:8080/"
        },
        "id": "nLOhlmynpoYb",
        "outputId": "7e425048-a6e7-45c8-c433-d2d0c0dfee2b"
      },
      "execution_count": 4,
      "outputs": [
        {
          "output_type": "stream",
          "name": "stdout",
          "text": [
            "\n",
            "Question 2: Add a new key-value pair to dictionary {'a': 1, 'b': 2, 'c': 3}\n",
            "{'a': 1, 'b': 2, 'c': 3, 'd': 4}\n"
          ]
        }
      ]
    },
    {
      "cell_type": "code",
      "source": [
        "# Question 3: Get all keys from dictionary {'name': 'John', 'age': 25, 'city': 'New York'}\n",
        "print(\"\\nQuestion 3: Get all keys from dictionary {'name': 'John', 'age': 25, 'city': 'New York'}\")\n",
        "# Your code here\n",
        "\n",
        "# Given dictionary\n",
        "person = {'name': 'John', 'age': 25, 'city': 'New York'}\n",
        "\n",
        "# Get all keys\n",
        "keys = person.keys()\n",
        "\n",
        "# Display keys\n",
        "print(keys)\n",
        "print(list(person.keys()))\n"
      ],
      "metadata": {
        "colab": {
          "base_uri": "https://localhost:8080/"
        },
        "id": "oEgo-Qy6poLX",
        "outputId": "c281bafc-5d9a-473b-ccee-ee085066b2bc"
      },
      "execution_count": 6,
      "outputs": [
        {
          "output_type": "stream",
          "name": "stdout",
          "text": [
            "\n",
            "Question 3: Get all keys from dictionary {'name': 'John', 'age': 25, 'city': 'New York'}\n",
            "dict_keys(['name', 'age', 'city'])\n",
            "['name', 'age', 'city']\n"
          ]
        }
      ]
    },
    {
      "cell_type": "code",
      "source": [
        "# Question 4: Get all values from dictionary {'python': 3, 'java': 2, 'c++': 1}\n",
        "print(\"\\nQuestion 4: Get all values from dictionary {'python': 3, 'java': 2, 'c++': 1}\")\n",
        "# Your code here\n",
        "\n",
        "# Given dictionary\n",
        "languages = {'python': 3, 'java': 2, 'c++': 1}\n",
        "\n",
        "# Get all values\n",
        "values = languages.values()\n",
        "\n",
        "# Display values\n",
        "print(values)\n",
        "print(list(languages.values()))\n"
      ],
      "metadata": {
        "colab": {
          "base_uri": "https://localhost:8080/"
        },
        "id": "qI_v5vaVpn8L",
        "outputId": "440e0b97-0112-47b5-e2c5-47f497c5407f"
      },
      "execution_count": 7,
      "outputs": [
        {
          "output_type": "stream",
          "name": "stdout",
          "text": [
            "\n",
            "Question 4: Get all values from dictionary {'python': 3, 'java': 2, 'c++': 1}\n",
            "dict_values([3, 2, 1])\n",
            "[3, 2, 1]\n"
          ]
        }
      ]
    },
    {
      "cell_type": "code",
      "source": [
        "# Question 5: Check if key 'age' exists in {'name': 'Alice', 'age': 30, 'city': 'London'}\n",
        "print(\"\\nQuestion 5: Check if key 'age' exists in {'name': 'Alice', 'age': 30, 'city': 'London'}\")\n",
        "# Your code here\n",
        "\n",
        "# Given dictionary\n",
        "person = {'name': 'Alice', 'age': 30, 'city': 'London'}\n",
        "\n",
        "# Check if 'age' exists\n",
        "if 'age' in person:\n",
        "    print(\"Key 'age' exists in the dictionary\")\n",
        "else:\n",
        "    print(\"Key 'age' does not exist in the dictionary\")\n"
      ],
      "metadata": {
        "colab": {
          "base_uri": "https://localhost:8080/"
        },
        "id": "zE4mqgDEpk27",
        "outputId": "88293b57-4c69-42ea-e5de-7a7c8b092131"
      },
      "execution_count": 8,
      "outputs": [
        {
          "output_type": "stream",
          "name": "stdout",
          "text": [
            "\n",
            "Question 5: Check if key 'age' exists in {'name': 'Alice', 'age': 30, 'city': 'London'}\n",
            "Key 'age' exists in the dictionary\n"
          ]
        }
      ]
    },
    {
      "cell_type": "code",
      "source": [
        "if person.get('age') is not None:\n",
        "    print(\"Key 'age' exists\")\n",
        "else:\n",
        "    print(\"Key 'age' does not exist\")\n"
      ],
      "metadata": {
        "colab": {
          "base_uri": "https://localhost:8080/"
        },
        "id": "RRZKLPO3-0QV",
        "outputId": "3bdefb26-9231-4886-be2e-fa791aacdf42"
      },
      "execution_count": 9,
      "outputs": [
        {
          "output_type": "stream",
          "name": "stdout",
          "text": [
            "Key 'age' exists\n"
          ]
        }
      ]
    },
    {
      "cell_type": "code",
      "source": [
        "# Question 6: Remove key 'temp' from {'a': 1, 'b': 2, 'temp': 3, 'c': 4}\n",
        "print(\"\\nQuestion 6: Remove key 'temp' from {'a': 1, 'b': 2, 'temp': 3, 'c': 4}\")\n",
        "# Your code here\n",
        "\n",
        "# Given dictionary\n",
        "my_dict = {'a': 1, 'b': 2, 'temp': 3, 'c': 4}\n",
        "\n",
        "# Remove 'temp' using pop()\n",
        "my_dict.pop('temp')\n",
        "\n",
        "print(my_dict)"
      ],
      "metadata": {
        "colab": {
          "base_uri": "https://localhost:8080/"
        },
        "id": "KS8umgAVpkqO",
        "outputId": "49095b18-544a-4336-cf02-0fd640d94973"
      },
      "execution_count": 11,
      "outputs": [
        {
          "output_type": "stream",
          "name": "stdout",
          "text": [
            "\n",
            "Question 6: Remove key 'temp' from {'a': 1, 'b': 2, 'temp': 3, 'c': 4}\n",
            "{'a': 1, 'b': 2, 'c': 4}\n"
          ]
        }
      ]
    },
    {
      "cell_type": "code",
      "source": [
        "# Given dictionary\n",
        "my_dict = {'a': 1, 'b': 2, 'temp': 3, 'c': 4}\n",
        "\n",
        "#another way del\n",
        "del my_dict['temp']\n",
        "print(my_dict)\n"
      ],
      "metadata": {
        "colab": {
          "base_uri": "https://localhost:8080/"
        },
        "id": "TvcrgK3q_OIG",
        "outputId": "80382861-8e2a-4b3e-ad0f-ed2edeaa5337"
      },
      "execution_count": 12,
      "outputs": [
        {
          "output_type": "stream",
          "name": "stdout",
          "text": [
            "{'a': 1, 'b': 2, 'c': 4}\n"
          ]
        }
      ]
    },
    {
      "cell_type": "code",
      "source": [
        "# Question 7: Find the sum of all values in {'math': 85, 'science': 92, 'english': 78}\n",
        "print(\"\\nQuestion 7: Find the sum of all values in {'math': 85, 'science': 92, 'english': 78}\")\n",
        "# Your code here\n",
        "\n",
        "# Given dictionary\n",
        "marks = {'math': 85, 'science': 92, 'english': 78}\n",
        "\n",
        "# Find sum of values\n",
        "total = sum(marks.values())\n",
        "\n",
        "print(\"Sum of all values:\", total)\n"
      ],
      "metadata": {
        "colab": {
          "base_uri": "https://localhost:8080/"
        },
        "id": "lR-GFYILpf1H",
        "outputId": "3c8ea8dc-3723-4523-a1a2-5d4c1347d741"
      },
      "execution_count": 13,
      "outputs": [
        {
          "output_type": "stream",
          "name": "stdout",
          "text": [
            "\n",
            "Question 7: Find the sum of all values in {'math': 85, 'science': 92, 'english': 78}\n",
            "Sum of all values: 255\n"
          ]
        }
      ]
    },
    {
      "cell_type": "code",
      "source": [
        "# Question 8: Create a dictionary with squares of numbers 1 to 5\n",
        "print(\"\\nQuestion 8: Create a dictionary with squares of numbers 1 to 5\")\n",
        "# Your code here\n",
        "\n",
        "# Dictionary with squares of numbers 1 to 5\n",
        "squares = {x: x**2 for x in range(1, 6)}\n",
        "\n",
        "print(squares)\n"
      ],
      "metadata": {
        "colab": {
          "base_uri": "https://localhost:8080/"
        },
        "id": "VcJTYyOnpftv",
        "outputId": "d5829b2e-7288-4d5c-af94-8c6a8e7cd4e8"
      },
      "execution_count": 14,
      "outputs": [
        {
          "output_type": "stream",
          "name": "stdout",
          "text": [
            "\n",
            "Question 8: Create a dictionary with squares of numbers 1 to 5\n",
            "{1: 1, 2: 4, 3: 9, 4: 16, 5: 25}\n"
          ]
        }
      ]
    },
    {
      "cell_type": "code",
      "source": [
        "# Question 9: Count frequency of each character in string \"hello\"\n",
        "print(\"\\nQuestion 9: Count frequency of each character in string 'hello'\")\n",
        "# Your code here\n",
        "\n",
        "# Given string\n",
        "text = \"hello\"\n",
        "\n",
        "# Create empty dictionary\n",
        "freq = {}\n",
        "\n",
        "# Loop through each character\n",
        "for char in text:\n",
        "    freq[char] = freq.get(char, 0) + 1\n",
        "\n",
        "print(freq)"
      ],
      "metadata": {
        "colab": {
          "base_uri": "https://localhost:8080/"
        },
        "id": "OM3BH3RHpcdI",
        "outputId": "bc8610ea-645b-46d9-de7f-9cf8eabc99ff"
      },
      "execution_count": 15,
      "outputs": [
        {
          "output_type": "stream",
          "name": "stdout",
          "text": [
            "\n",
            "Question 9: Count frequency of each character in string 'hello'\n",
            "{'h': 1, 'e': 1, 'l': 2, 'o': 1}\n"
          ]
        }
      ]
    },
    {
      "cell_type": "code",
      "source": [
        "from collections import Counter\n",
        "\n",
        "text = \"hello\"\n",
        "freq = Counter(text)\n",
        "\n",
        "print(dict(freq))\n"
      ],
      "metadata": {
        "colab": {
          "base_uri": "https://localhost:8080/"
        },
        "id": "yBma2n2n_1LB",
        "outputId": "8628f8a4-c511-435b-82b7-c831817c0ab4"
      },
      "execution_count": 16,
      "outputs": [
        {
          "output_type": "stream",
          "name": "stdout",
          "text": [
            "{'h': 1, 'e': 1, 'l': 2, 'o': 1}\n"
          ]
        }
      ]
    },
    {
      "cell_type": "code",
      "source": [
        "# Question 10: Merge two dictionaries {'a': 1, 'b': 2} and {'c': 3, 'd': 4}\n",
        "print(\"\\nQuestion 10: Merge two dictionaries {'a': 1, 'b': 2} and {'c': 3, 'd': 4}\")\n",
        "# Your code here\n",
        "\n",
        "dict1 = {'a': 1, 'b': 2}\n",
        "dict2 = {'c': 3, 'd': 4}\n",
        "\n",
        "merged_dict = dict1 | dict2\n",
        "\n",
        "print(merged_dict)"
      ],
      "metadata": {
        "colab": {
          "base_uri": "https://localhost:8080/"
        },
        "id": "lNXMrvMrpcPu",
        "outputId": "7a451814-cd89-44b4-b0ca-8238e60e032a"
      },
      "execution_count": 17,
      "outputs": [
        {
          "output_type": "stream",
          "name": "stdout",
          "text": [
            "\n",
            "Question 10: Merge two dictionaries {'a': 1, 'b': 2} and {'c': 3, 'd': 4}\n",
            "{'a': 1, 'b': 2, 'c': 3, 'd': 4}\n"
          ]
        }
      ]
    },
    {
      "cell_type": "code",
      "source": [
        "# Question 11: Create a nested dictionary: {'person': {'name': 'Alice', 'age': 25}}\n",
        "print(\"\\nQuestion 11: Create a nested dictionary: {'person': {'name': 'Alice', 'age': 25}}\")\n",
        "# Your code here\n",
        "\n",
        "# Nested dictionary\n",
        "nested_dict = {\n",
        "    'person': {\n",
        "        'name': 'Alice',\n",
        "        'age': 25\n",
        "    }\n",
        "}\n",
        "\n",
        "print(nested_dict)\n"
      ],
      "metadata": {
        "colab": {
          "base_uri": "https://localhost:8080/"
        },
        "id": "j-VyWpmipXyz",
        "outputId": "3624f816-f90e-4e8e-fdfd-f342d045d5b8"
      },
      "execution_count": 18,
      "outputs": [
        {
          "output_type": "stream",
          "name": "stdout",
          "text": [
            "\n",
            "Question 11: Create a nested dictionary: {'person': {'name': 'Alice', 'age': 25}}\n",
            "{'person': {'name': 'Alice', 'age': 25}}\n"
          ]
        }
      ]
    },
    {
      "cell_type": "code",
      "source": [
        "# Question 12: Access nested value 'name' from {'person': {'name': 'Alice', 'age': 25}}\n",
        "print(\"\\nQuestion 12: Access nested value 'name' from {'person': {'name': 'Alice', 'age': 25}}\")\n",
        "# Your code here\n",
        "\n",
        "# Nested dictionary\n",
        "nested_dict = {'person': {'name': 'Alice', 'age': 25}}\n",
        "\n",
        "# Access the nested value\n",
        "name = nested_dict['person']['name']\n",
        "\n",
        "print(name)\n"
      ],
      "metadata": {
        "colab": {
          "base_uri": "https://localhost:8080/"
        },
        "id": "Pwxj-Q_0pXlk",
        "outputId": "3413f770-e5ed-4f91-bc1e-3cc77e51955c"
      },
      "execution_count": 19,
      "outputs": [
        {
          "output_type": "stream",
          "name": "stdout",
          "text": [
            "\n",
            "Question 12: Access nested value 'name' from {'person': {'name': 'Alice', 'age': 25}}\n",
            "Alice\n"
          ]
        }
      ]
    },
    {
      "cell_type": "code",
      "source": [
        "# Question 13: Create a dictionary with list values: {'fruits': ['apple', 'banana'], 'colors': ['red', 'blue']}\n",
        "print(\"\\nQuestion 13: Create a dictionary with list values: {'fruits': ['apple', 'banana'], 'colors': ['red', 'blue']}\")\n",
        "# Your code here\n",
        "\n",
        "# Dictionary with list values\n",
        "my_dict = {\n",
        "    'fruits': ['apple', 'banana'],\n",
        "    'colors': ['red', 'blue']\n",
        "}\n",
        "\n",
        "print(my_dict)\n"
      ],
      "metadata": {
        "colab": {
          "base_uri": "https://localhost:8080/"
        },
        "id": "XcHO43tUpRvY",
        "outputId": "1912652d-8240-47da-a160-b027a9da52ee"
      },
      "execution_count": 20,
      "outputs": [
        {
          "output_type": "stream",
          "name": "stdout",
          "text": [
            "\n",
            "Question 13: Create a dictionary with list values: {'fruits': ['apple', 'banana'], 'colors': ['red', 'blue']}\n",
            "{'fruits': ['apple', 'banana'], 'colors': ['red', 'blue']}\n"
          ]
        }
      ]
    },
    {
      "cell_type": "code",
      "source": [
        "# Question 14: Add 'orange' to the 'fruits' list in nested dictionary\n",
        "print(\"\\nQuestion 14: Add 'orange' to the 'fruits' list in nested dictionary\")\n",
        "# Your code here\n",
        "\n",
        "# Existing dictionary with list values\n",
        "my_dict = {\n",
        "    'fruits': ['apple', 'banana'],\n",
        "    'colors': ['red', 'blue']\n",
        "}\n",
        "\n",
        "# Add 'orange' to the 'fruits' list\n",
        "my_dict['fruits'].append('orange')\n",
        "\n",
        "print(my_dict)\n"
      ],
      "metadata": {
        "colab": {
          "base_uri": "https://localhost:8080/"
        },
        "id": "0Rn8rCscpRhl",
        "outputId": "7d42a172-a26d-43c3-9901-3c81f3833dc8"
      },
      "execution_count": 21,
      "outputs": [
        {
          "output_type": "stream",
          "name": "stdout",
          "text": [
            "\n",
            "Question 14: Add 'orange' to the 'fruits' list in nested dictionary\n",
            "{'fruits': ['apple', 'banana', 'orange'], 'colors': ['red', 'blue']}\n"
          ]
        }
      ]
    },
    {
      "cell_type": "code",
      "source": [
        "# Question 15: Create a dictionary with tuple values: {'coordinates': (10, 20), 'rgb': (255, 0, 0)}\n",
        "print(\"\\nQuestion 15: Create a dictionary with tuple values: {'coordinates': (10, 20), 'rgb': (255, 0, 0)}\")\n",
        "# Your code here\n",
        "\n",
        "# Dictionary with tuple values\n",
        "my_dict = {\n",
        "    'coordinates': (10, 20),\n",
        "    'rgb': (255, 0, 0)\n",
        "}\n",
        "\n",
        "print(my_dict)\n"
      ],
      "metadata": {
        "colab": {
          "base_uri": "https://localhost:8080/"
        },
        "id": "dhVaDqe_pRUR",
        "outputId": "2f53f465-73e0-4ab0-a685-933ee1331b9f"
      },
      "execution_count": 22,
      "outputs": [
        {
          "output_type": "stream",
          "name": "stdout",
          "text": [
            "\n",
            "Question 15: Create a dictionary with tuple values: {'coordinates': (10, 20), 'rgb': (255, 0, 0)}\n",
            "{'coordinates': (10, 20), 'rgb': (255, 0, 0)}\n"
          ]
        }
      ]
    },
    {
      "cell_type": "code",
      "source": [
        "# Question 16: Extract first coordinate from nested tuple\n",
        "print(\"\\nQuestion 16: Extract first coordinate from nested tuple\")\n",
        "# Your code here\n",
        "\n",
        "# Dictionary with tuple values\n",
        "my_dict = {\n",
        "    'coordinates': (10, 20),\n",
        "    'rgb': (255, 0, 0)\n",
        "}\n",
        "\n",
        "# Extract the first coordinate\n",
        "first_coord = my_dict['coordinates'][0]\n",
        "\n",
        "print(first_coord)\n"
      ],
      "metadata": {
        "colab": {
          "base_uri": "https://localhost:8080/"
        },
        "id": "DQ_bFXM2pOQa",
        "outputId": "f1a4b938-63ff-4b5f-e053-95e9df2160f0"
      },
      "execution_count": 23,
      "outputs": [
        {
          "output_type": "stream",
          "name": "stdout",
          "text": [
            "\n",
            "Question 16: Extract first coordinate from nested tuple\n",
            "10\n"
          ]
        }
      ]
    },
    {
      "cell_type": "code",
      "source": [
        "# Nested tuple\n",
        "nested_tuple = ((10, 20), (30, 40), (50, 60))\n",
        "\n",
        "# Extract first coordinate of the first inner tuple\n",
        "first_coord = nested_tuple[0][0]\n",
        "\n",
        "print(first_coord)\n"
      ],
      "metadata": {
        "colab": {
          "base_uri": "https://localhost:8080/"
        },
        "id": "El1reEM1Cy3t",
        "outputId": "d16ad428-7c46-4931-cb0b-3506d7cf48dd"
      },
      "execution_count": 24,
      "outputs": [
        {
          "output_type": "stream",
          "name": "stdout",
          "text": [
            "10\n"
          ]
        }
      ]
    },
    {
      "cell_type": "code",
      "source": [
        "# Question 17: Create a dictionary with set values: {'vowels': {'a', 'e', 'i'}, 'consonants': {'b', 'c', 'd'}}\n",
        "print(\"\\nQuestion 17: Create a dictionary with set values: {'vowels': {'a', 'e', 'i'}, 'consonants': {'b', 'c', 'd'}}\")\n",
        "# Your code here\n",
        "\n",
        "# Dictionary with set values\n",
        "my_dict = {\n",
        "    'vowels': {'a', 'e', 'i'},\n",
        "    'consonants': {'b', 'c', 'd'}\n",
        "}\n",
        "\n",
        "print(my_dict)\n"
      ],
      "metadata": {
        "colab": {
          "base_uri": "https://localhost:8080/"
        },
        "id": "zdElbj6FpLwh",
        "outputId": "e78e8534-9663-4470-e7de-722f6a9acdbd"
      },
      "execution_count": 25,
      "outputs": [
        {
          "output_type": "stream",
          "name": "stdout",
          "text": [
            "\n",
            "Question 17: Create a dictionary with set values: {'vowels': {'a', 'e', 'i'}, 'consonants': {'b', 'c', 'd'}}\n",
            "{'vowels': {'a', 'e', 'i'}, 'consonants': {'d', 'b', 'c'}}\n"
          ]
        }
      ]
    },
    {
      "cell_type": "code",
      "source": [
        "# Question 18: Add 'o' to vowels set in nested dictionary\n",
        "print(\"\\nQuestion 18: Add 'o' to vowels set in nested dictionary\")\n",
        "# Your code here\n",
        "\n",
        "# Existing dictionary with set values\n",
        "my_dict = {\n",
        "    'vowels': {'a', 'e', 'i'},\n",
        "    'consonants': {'b', 'c', 'd'}\n",
        "}\n",
        "\n",
        "# Add 'o' to the 'vowels' set\n",
        "my_dict['vowels'].add('o')\n",
        "\n",
        "print(my_dict)\n"
      ],
      "metadata": {
        "colab": {
          "base_uri": "https://localhost:8080/"
        },
        "id": "LWzfVMsUpGtX",
        "outputId": "fb69819e-ddc2-4715-f4de-f6bee90abf8d"
      },
      "execution_count": 26,
      "outputs": [
        {
          "output_type": "stream",
          "name": "stdout",
          "text": [
            "\n",
            "Question 18: Add 'o' to vowels set in nested dictionary\n",
            "{'vowels': {'a', 'e', 'i', 'o'}, 'consonants': {'d', 'b', 'c'}}\n"
          ]
        }
      ]
    },
    {
      "cell_type": "code",
      "source": [
        "# Question 19: Create a 3-level nested dictionary: {'company': {'department': {'employee': {'name': 'John', 'id': 123}}}}\n",
        "print(\"\\nQuestion 19: Create a 3-level nested dictionary: {'company': {'department': {'employee': {'name': 'John', 'id': 123}}}}\")\n",
        "# Your code here\n",
        "\n",
        "# 3-level nested dictionary\n",
        "nested_dict = {\n",
        "    'company': {\n",
        "        'department': {\n",
        "            'employee': {\n",
        "                'name': 'John',\n",
        "                'id': 123\n",
        "            }\n",
        "        }\n",
        "    }\n",
        "}\n",
        "\n",
        "print(nested_dict)\n"
      ],
      "metadata": {
        "colab": {
          "base_uri": "https://localhost:8080/"
        },
        "id": "I5VwALXJpGeS",
        "outputId": "bd848626-7f15-4b1f-cc18-44cda67b5824"
      },
      "execution_count": 27,
      "outputs": [
        {
          "output_type": "stream",
          "name": "stdout",
          "text": [
            "\n",
            "Question 19: Create a 3-level nested dictionary: {'company': {'department': {'employee': {'name': 'John', 'id': 123}}}}\n",
            "{'company': {'department': {'employee': {'name': 'John', 'id': 123}}}}\n"
          ]
        }
      ]
    },
    {
      "cell_type": "code",
      "source": [
        "# Question 20: Access employee name from 3-level nested dictionary\n",
        "print(\"\\nQuestion 20: Access employee name from 3-level nested dictionary\")\n",
        "# Your code here\n",
        "\n",
        "# 3-level nested dictionary\n",
        "nested_dict = {\n",
        "    'company': {\n",
        "        'department': {\n",
        "            'employee': {\n",
        "                'name': 'John',\n",
        "                'id': 123\n",
        "            }\n",
        "        }\n",
        "    }\n",
        "}\n",
        "\n",
        "# Access employee name\n",
        "employee_name = nested_dict['company']['department']['employee']['name']\n",
        "\n",
        "print(employee_name)\n"
      ],
      "metadata": {
        "colab": {
          "base_uri": "https://localhost:8080/"
        },
        "id": "Fni7lkaMpGRC",
        "outputId": "4858a48a-28dc-49ba-f94e-d1f2829ded12"
      },
      "execution_count": 28,
      "outputs": [
        {
          "output_type": "stream",
          "name": "stdout",
          "text": [
            "\n",
            "Question 20: Access employee name from 3-level nested dictionary\n",
            "John\n"
          ]
        }
      ]
    },
    {
      "cell_type": "code",
      "source": [
        "# Question 21: Create a dictionary with mixed data types: {'int': 42, 'float': 3.14, 'str': 'hello', 'bool': True}\n",
        "print(\"\\nQuestion 21: Create a dictionary with mixed data types: {'int': 42, 'float': 3.14, 'str': 'hello', 'bool': True}\")\n",
        "# Your code here\n",
        "\n",
        "# Dictionary with mixed data types\n",
        "mixed_dict = {\n",
        "    'int': 42,\n",
        "    'float': 3.14,\n",
        "    'str': 'hello',\n",
        "    'bool': True\n",
        "}\n",
        "\n",
        "print(mixed_dict)\n"
      ],
      "metadata": {
        "colab": {
          "base_uri": "https://localhost:8080/"
        },
        "id": "ei8HkB_epAQ5",
        "outputId": "9e61a6d5-e739-41e3-cd39-0a019facb94e"
      },
      "execution_count": 29,
      "outputs": [
        {
          "output_type": "stream",
          "name": "stdout",
          "text": [
            "\n",
            "Question 21: Create a dictionary with mixed data types: {'int': 42, 'float': 3.14, 'str': 'hello', 'bool': True}\n",
            "{'int': 42, 'float': 3.14, 'str': 'hello', 'bool': True}\n"
          ]
        }
      ]
    },
    {
      "cell_type": "code",
      "source": [
        "# Question 22: Check data type of each value in mixed dictionary\n",
        "print(\"\\nQuestion 22: Check data type of each value in mixed dictionary\")\n",
        "# Your code here\n",
        "\n",
        "# Mixed dictionary\n",
        "mixed_dict = {\n",
        "    'int': 42,\n",
        "    'float': 3.14,\n",
        "    'str': 'hello',\n",
        "    'bool': True\n",
        "}\n",
        "\n",
        "# Check data type of each value\n",
        "for key, value in mixed_dict.items():\n",
        "    print(f\"The type of '{key}' is {type(value)}\")\n"
      ],
      "metadata": {
        "colab": {
          "base_uri": "https://localhost:8080/"
        },
        "id": "VcI9H6bapAAO",
        "outputId": "858c7ccd-f42a-44f6-afaa-a0d4de9f5792"
      },
      "execution_count": 30,
      "outputs": [
        {
          "output_type": "stream",
          "name": "stdout",
          "text": [
            "\n",
            "Question 22: Check data type of each value in mixed dictionary\n",
            "The type of 'int' is <class 'int'>\n",
            "The type of 'float' is <class 'float'>\n",
            "The type of 'str' is <class 'str'>\n",
            "The type of 'bool' is <class 'bool'>\n"
          ]
        }
      ]
    },
    {
      "cell_type": "code",
      "source": [
        "# Question 23: Create a dictionary with function values: {'len': len, 'str': str, 'int': int}\n",
        "print(\"\\nQuestion 23: Create a dictionary with function values: {'len': len, 'str': str, 'int': int}\")\n",
        "# Your code here\n",
        "\n",
        "# Dictionary with function values\n",
        "func_dict = {\n",
        "    'len': len,\n",
        "    'str': str,\n",
        "    'int': int\n",
        "}\n",
        "\n",
        "print(func_dict)\n"
      ],
      "metadata": {
        "colab": {
          "base_uri": "https://localhost:8080/"
        },
        "id": "xo8jx2xYo8ug",
        "outputId": "15d8ac55-f88a-4611-95e2-7279346642ee"
      },
      "execution_count": 31,
      "outputs": [
        {
          "output_type": "stream",
          "name": "stdout",
          "text": [
            "\n",
            "Question 23: Create a dictionary with function values: {'len': len, 'str': str, 'int': int}\n",
            "{'len': <built-in function len>, 'str': <class 'str'>, 'int': <class 'int'>}\n"
          ]
        }
      ]
    },
    {
      "cell_type": "code",
      "source": [
        "# Question 24: Apply each function to \"123\" using dictionary\n",
        "print(\"\\nQuestion 24: Apply each function to '123' using dictionary\")\n",
        "# Your code here\n",
        "\n",
        "# Dictionary with function values\n",
        "func_dict = {\n",
        "    'len': len,\n",
        "    'str': str,\n",
        "    'int': int\n",
        "}\n",
        "\n",
        "# Value to apply functions to\n",
        "value = \"123\"\n",
        "\n",
        "# Apply each function\n",
        "for name, func in func_dict.items():\n",
        "    result = func(value)\n",
        "    print(f\"{name}('{value}') = {result}\")\n"
      ],
      "metadata": {
        "colab": {
          "base_uri": "https://localhost:8080/"
        },
        "id": "KYhi3paPo8j-",
        "outputId": "0fcf07c5-b80a-4e24-da2d-81bb57814da5"
      },
      "execution_count": 32,
      "outputs": [
        {
          "output_type": "stream",
          "name": "stdout",
          "text": [
            "\n",
            "Question 24: Apply each function to '123' using dictionary\n",
            "len('123') = 3\n",
            "str('123') = 123\n",
            "int('123') = 123\n"
          ]
        }
      ]
    },
    {
      "cell_type": "code",
      "source": [
        "# Question 25: Create a dictionary with lambda functions: {'double': lambda x: x*2, 'square': lambda x: x**2}\n",
        "print(\"\\nQuestion 25: Create a dictionary with lambda functions: {'double': lambda x: x*2, 'square': lambda x: x**2}\")\n",
        "# Your code here\n",
        "# Dictionary with lambda functions\n",
        "func_dict = {\n",
        "    'double': lambda x: x * 2,\n",
        "    'square': lambda x: x ** 2\n",
        "}\n",
        "\n",
        "# Test the functions\n",
        "print(func_dict )\n",
        "print(func_dict )\n"
      ],
      "metadata": {
        "colab": {
          "base_uri": "https://localhost:8080/"
        },
        "id": "XCz76uAAo5Rb",
        "outputId": "714f9c57-abd8-4f95-941d-4ff57af7999f"
      },
      "execution_count": 35,
      "outputs": [
        {
          "output_type": "stream",
          "name": "stdout",
          "text": [
            "\n",
            "Question 25: Create a dictionary with lambda functions: {'double': lambda x: x*2, 'square': lambda x: x**2}\n",
            "{'double': <function <lambda> at 0x7ba34d5ef920>, 'square': <function <lambda> at 0x7ba34d5eec00>}\n",
            "{'double': <function <lambda> at 0x7ba34d5ef920>, 'square': <function <lambda> at 0x7ba34d5eec00>}\n"
          ]
        }
      ]
    },
    {
      "cell_type": "code",
      "source": [
        "# Question 26: Apply each lambda function to 5\n",
        "print(\"\\nQuestion 26: Apply each lambda function to 5\")\n",
        "# Your code here\n",
        "\n",
        "# Dictionary with lambda functions\n",
        "func_dict = {\n",
        "    'double': lambda x: x * 2,\n",
        "    'square': lambda x: x ** 2\n",
        "}\n",
        "\n",
        "# Value to apply functions to\n",
        "value = 5\n",
        "\n",
        "# Apply each lambda function\n",
        "for name, func in func_dict.items():\n",
        "    result = func(value)\n",
        "    print(f\"{name}({value}) = {result}\")\n"
      ],
      "metadata": {
        "colab": {
          "base_uri": "https://localhost:8080/"
        },
        "id": "xKguKSOoo5Ec",
        "outputId": "464617ba-f779-4b56-d70c-45fa6354a8bf"
      },
      "execution_count": 36,
      "outputs": [
        {
          "output_type": "stream",
          "name": "stdout",
          "text": [
            "\n",
            "Question 26: Apply each lambda function to 5\n",
            "double(5) = 10\n",
            "square(5) = 25\n"
          ]
        }
      ]
    },
    {
      "cell_type": "code",
      "source": [
        "# Question 27: Create a dictionary with class values: {'list': list, 'dict': dict, 'set': set}\n",
        "print(\"\\nQuestion 27: Create a dictionary with class values: {'list': list, 'dict': dict, 'set': set}\")\n",
        "# Your code here\n",
        "\n",
        "# Dictionary with class values\n",
        "class_dict = {\n",
        "    'list': list,\n",
        "    'dict': dict,\n",
        "    'set': set\n",
        "}\n",
        "\n",
        "print(class_dict)\n"
      ],
      "metadata": {
        "colab": {
          "base_uri": "https://localhost:8080/"
        },
        "id": "VFESEntvo09z",
        "outputId": "3088e19a-bd77-4507-e4da-eeae09359afc"
      },
      "execution_count": 37,
      "outputs": [
        {
          "output_type": "stream",
          "name": "stdout",
          "text": [
            "\n",
            "Question 27: Create a dictionary with class values: {'list': list, 'dict': dict, 'set': set}\n",
            "{'list': <class 'list'>, 'dict': <class 'dict'>, 'set': <class 'set'>}\n"
          ]
        }
      ]
    },
    {
      "cell_type": "code",
      "source": [
        "# Question 28: Create instances using class dictionary\n",
        "print(\"\\nQuestion 28: Create instances using class dictionary\")\n",
        "# Your code here\n",
        "\n",
        "# Dictionary with class values\n",
        "class_dict = {\n",
        "    'list': list,\n",
        "    'dict': dict,\n",
        "    'set': set\n",
        "}\n",
        "\n",
        "# Create instances using the classes\n",
        "my_list = class_dict['list']([1, 2, 3])\n",
        "my_dict = class_dict['dict'](a=1, b=2)\n",
        "my_set = class_dict['set']([1, 2, 2, 3])\n",
        "\n",
        "# Print the instances\n",
        "print(\"List instance:\", my_list)\n",
        "print(\"Dict instance:\", my_dict)\n",
        "print(\"Set instance:\", my_set)\n"
      ],
      "metadata": {
        "colab": {
          "base_uri": "https://localhost:8080/"
        },
        "id": "3g-JkB9wo0wy",
        "outputId": "296f76db-a6c6-48dc-a1be-399386fa9bfd"
      },
      "execution_count": 38,
      "outputs": [
        {
          "output_type": "stream",
          "name": "stdout",
          "text": [
            "\n",
            "Question 28: Create instances using class dictionary\n",
            "List instance: [1, 2, 3]\n",
            "Dict instance: {'a': 1, 'b': 2}\n",
            "Set instance: {1, 2, 3}\n"
          ]
        }
      ]
    },
    {
      "cell_type": "code",
      "source": [
        "# Question 29: Create a dictionary with None values: {'a': None, 'b': None, 'c': None}\n",
        "print(\"\\nQuestion 29: Create a dictionary with None values: {'a': None, 'b': None, 'c': None}\")\n",
        "# Your code here\n",
        "\n",
        "# Dictionary with None values\n",
        "none_dict = {\n",
        "    'a': None,\n",
        "    'b': None,\n",
        "    'c': None\n",
        "}\n",
        "\n",
        "print(none_dict)\n"
      ],
      "metadata": {
        "colab": {
          "base_uri": "https://localhost:8080/"
        },
        "id": "ExcOjrXWow8e",
        "outputId": "fe808b0f-af10-49de-a2cb-b399760d0466"
      },
      "execution_count": 39,
      "outputs": [
        {
          "output_type": "stream",
          "name": "stdout",
          "text": [
            "\n",
            "Question 29: Create a dictionary with None values: {'a': None, 'b': None, 'c': None}\n",
            "{'a': None, 'b': None, 'c': None}\n"
          ]
        }
      ]
    },
    {
      "cell_type": "code",
      "source": [
        "# Question 30: Replace all None values with 0\n",
        "print(\"\\nQuestion 30: Replace all None values with 0\")\n",
        "# Your code here\n",
        "\n",
        "# Dictionary with None values\n",
        "none_dict = {'a': None, 'b': None, 'c': None}\n",
        "\n",
        "# Replace None values with 0\n",
        "for key in none_dict:\n",
        "    if none_dict[key] is None:\n",
        "        none_dict[key] = 0\n",
        "\n",
        "print(none_dict)\n"
      ],
      "metadata": {
        "colab": {
          "base_uri": "https://localhost:8080/"
        },
        "id": "yFv0Ep0Dowve",
        "outputId": "07ea6d95-43a3-4dbe-c555-0883d9d84f8c"
      },
      "execution_count": 40,
      "outputs": [
        {
          "output_type": "stream",
          "name": "stdout",
          "text": [
            "\n",
            "Question 30: Replace all None values with 0\n",
            "{'a': 0, 'b': 0, 'c': 0}\n"
          ]
        }
      ]
    },
    {
      "cell_type": "code",
      "source": [
        "# Dictionary with None values\n",
        "none_dict = {'a': None, 'b': None, 'c': None}\n",
        "\n",
        "none_dict = {key: (0 if value is None else value) for key, value in none_dict.items()}\n",
        "print(none_dict)\n"
      ],
      "metadata": {
        "colab": {
          "base_uri": "https://localhost:8080/"
        },
        "id": "VSNtbrSQFe4g",
        "outputId": "6ef8bacd-4349-454d-ae93-0a6da45b1fbd"
      },
      "execution_count": 41,
      "outputs": [
        {
          "output_type": "stream",
          "name": "stdout",
          "text": [
            "{'a': 0, 'b': 0, 'c': 0}\n"
          ]
        }
      ]
    },
    {
      "cell_type": "code",
      "source": [
        "# Question 31: Create a dictionary with boolean values: {'is_active': True, 'is_admin': False}\n",
        "print(\"\\nQuestion 31: Create a dictionary with boolean values: {'is_active': True, 'is_admin': False}\")\n",
        "# Your code here\n",
        "\n",
        "# Dictionary with boolean values\n",
        "bool_dict = {\n",
        "    'is_active': True,\n",
        "    'is_admin': False\n",
        "}\n",
        "\n",
        "print(bool_dict)\n"
      ],
      "metadata": {
        "colab": {
          "base_uri": "https://localhost:8080/"
        },
        "id": "470FiORMoi8F",
        "outputId": "a4acbcf0-6455-401d-b698-c4b7687557fe"
      },
      "execution_count": 42,
      "outputs": [
        {
          "output_type": "stream",
          "name": "stdout",
          "text": [
            "\n",
            "Question 31: Create a dictionary with boolean values: {'is_active': True, 'is_admin': False}\n",
            "{'is_active': True, 'is_admin': False}\n"
          ]
        }
      ]
    },
    {
      "cell_type": "code",
      "source": [
        "# Question 32: Count True values in boolean dictionary\n",
        "print(\"\\nQuestion 32: Count True values in boolean dictionary\")\n",
        "# Your code here\n",
        "\n",
        "# You can count the number of True values in a dictionary by using the sum() function, since True is treated as 1 and False as 0 in Python.\n",
        "\n",
        "# Boolean dictionary\n",
        "bool_dict = {\n",
        "    'is_active': True,\n",
        "    'is_admin': False,\n",
        "    'is_verified': True\n",
        "}\n",
        "\n",
        "# Count True values\n",
        "true_count = sum(bool_dict.values())\n",
        "\n",
        "print(\"Number of True values:\", true_count)\n"
      ],
      "metadata": {
        "colab": {
          "base_uri": "https://localhost:8080/"
        },
        "id": "anYq45jPoixr",
        "outputId": "8a464d30-fe2d-4eb0-a4a4-939323e016e4"
      },
      "execution_count": 43,
      "outputs": [
        {
          "output_type": "stream",
          "name": "stdout",
          "text": [
            "\n",
            "Question 32: Count True values in boolean dictionary\n",
            "Number of True values: 2\n"
          ]
        }
      ]
    },
    {
      "cell_type": "code",
      "source": [
        "# Question 33: Create a dictionary with complex numbers: {'z1': 3+4j, 'z2': 1+2j}\n",
        "print(\"\\nQuestion 33: Create a dictionary with complex numbers: {'z1': 3+4j, 'z2': 1+2j}\")\n",
        "# Your code here\n",
        "\n",
        "# Dictionary with complex numbers\n",
        "complex_dict = {\n",
        "    'z1': 3 + 4j,\n",
        "    'z2': 1 + 2j\n",
        "}\n",
        "\n",
        "print(complex_dict)\n",
        "\n",
        "print(complex_dict['z1'])\n",
        "print(complex_dict['z1'].real)\n",
        "print(complex_dict['z1'].imag)\n"
      ],
      "metadata": {
        "colab": {
          "base_uri": "https://localhost:8080/"
        },
        "id": "YtYfWDRWoijL",
        "outputId": "f5c3698a-df90-4137-de49-532ea5cb42ec"
      },
      "execution_count": 46,
      "outputs": [
        {
          "output_type": "stream",
          "name": "stdout",
          "text": [
            "\n",
            "Question 33: Create a dictionary with complex numbers: {'z1': 3+4j, 'z2': 1+2j}\n",
            "{'z1': (3+4j), 'z2': (1+2j)}\n",
            "(3+4j)\n",
            "3.0\n",
            "4.0\n"
          ]
        }
      ]
    },
    {
      "cell_type": "code",
      "source": [
        "# Question 34: Find magnitude of each complex number\n",
        "print(\"\\nQuestion 34: Find magnitude of each complex number\")\n",
        "# Your code here\n",
        "\n",
        "# Dictionary with complex numbers\n",
        "complex_dict = {\n",
        "    'z1': 3 + 4j,\n",
        "    'z2': 1 + 2j\n",
        "}\n",
        "\n",
        "# Calculate magnitude of each complex number\n",
        "for key, value in complex_dict.items():\n",
        "    magnitude = abs(value)\n",
        "    print(f\"Magnitude of {key} ({value}) = {magnitude}\")\n"
      ],
      "metadata": {
        "colab": {
          "base_uri": "https://localhost:8080/"
        },
        "id": "WdWAk-jboe9Q",
        "outputId": "d679c907-6bd3-4114-ce9e-ffbfec83eb58"
      },
      "execution_count": 47,
      "outputs": [
        {
          "output_type": "stream",
          "name": "stdout",
          "text": [
            "\n",
            "Question 34: Find magnitude of each complex number\n",
            "Magnitude of z1 ((3+4j)) = 5.0\n",
            "Magnitude of z2 ((1+2j)) = 2.23606797749979\n"
          ]
        }
      ]
    },
    {
      "cell_type": "code",
      "source": [
        "# Question 35: Create a 4-level nested dictionary\n",
        "print(\"\\nQuestion 35: Create a 4-level nested dictionary\")\n",
        "# Your code here\n",
        "\n",
        "# 4-level nested dictionary\n",
        "nested_dict = {\n",
        "    'level1': {\n",
        "        'level2': {\n",
        "            'level3': {\n",
        "                'level4': {\n",
        "                    'value': 'Deep Value'\n",
        "                }\n",
        "            }\n",
        "        }\n",
        "    }\n",
        "}\n",
        "\n",
        "print(nested_dict)\n"
      ],
      "metadata": {
        "colab": {
          "base_uri": "https://localhost:8080/"
        },
        "id": "hxSNmbazoeuK",
        "outputId": "2ddbcaa7-43c7-426f-cf53-e4a5f7eec203"
      },
      "execution_count": 48,
      "outputs": [
        {
          "output_type": "stream",
          "name": "stdout",
          "text": [
            "\n",
            "Question 35: Create a 4-level nested dictionary\n",
            "{'level1': {'level2': {'level3': {'level4': {'value': 'Deep Value'}}}}}\n"
          ]
        }
      ]
    },
    {
      "cell_type": "code",
      "source": [
        "# Question 36: Access deepest value in 4-level nested dictionary\n",
        "print(\"\\nQuestion 36: Access deepest value in 4-level nested dictionary\")\n",
        "# Your code here\n",
        "\n",
        "# 4-level nested dictionary\n",
        "nested_dict = {\n",
        "    'level1': {\n",
        "        'level2': {\n",
        "            'level3': {\n",
        "                'level4': {\n",
        "                    'value': 'Deep Value'\n",
        "                }\n",
        "            }\n",
        "        }\n",
        "    }\n",
        "}\n",
        "\n",
        "# Access the deepest value\n",
        "deepest_value = nested_dict['level1']['level2']['level3']['level4']['value']\n",
        "\n",
        "print(deepest_value)\n"
      ],
      "metadata": {
        "colab": {
          "base_uri": "https://localhost:8080/"
        },
        "id": "9v-NcA9pobzB",
        "outputId": "b0b1526b-4ace-47c5-cfc1-d9e659c94469"
      },
      "execution_count": 49,
      "outputs": [
        {
          "output_type": "stream",
          "name": "stdout",
          "text": [
            "\n",
            "Question 36: Access deepest value in 4-level nested dictionary\n",
            "Deep Value\n"
          ]
        }
      ]
    },
    {
      "cell_type": "code",
      "source": [
        "# Question 37: Create a dictionary with range values: {'r1': range(3), 'r2': range(5)}\n",
        "print(\"\\nQuestion 37: Create a dictionary with range values: {'r1': range(3), 'r2': range(5)}\")\n",
        "# Your code here\n",
        "\n",
        "# Dictionary with range values\n",
        "range_dict = {\n",
        "    'r1': range(3),  # 0, 1, 2\n",
        "    'r2': range(5)   # 0, 1, 2, 3, 4\n",
        "}\n",
        "\n",
        "print(range_dict)\n",
        "\n",
        "print(list(range_dict['r1']))  # [0, 1, 2]\n",
        "print(list(range_dict['r2']))  # [0, 1, 2, 3, 4]\n"
      ],
      "metadata": {
        "colab": {
          "base_uri": "https://localhost:8080/"
        },
        "id": "HPrP09hDoYU6",
        "outputId": "f6db70e2-ac5c-4ee6-f9b3-e1bce2cc9182"
      },
      "execution_count": 51,
      "outputs": [
        {
          "output_type": "stream",
          "name": "stdout",
          "text": [
            "\n",
            "Question 37: Create a dictionary with range values: {'r1': range(3), 'r2': range(5)}\n",
            "{'r1': range(0, 3), 'r2': range(0, 5)}\n",
            "[0, 1, 2]\n",
            "[0, 1, 2, 3, 4]\n"
          ]
        }
      ]
    },
    {
      "cell_type": "code",
      "source": [
        "# Question 38: Convert each range to list\n",
        "print(\"\\nQuestion 38: Convert each range to list\")\n",
        "# Your code here\n",
        "\n",
        "# Dictionary with range values\n",
        "range_dict = {\n",
        "    'r1': range(3),\n",
        "    'r2': range(5)\n",
        "}\n",
        "\n",
        "# Convert each range to a list\n",
        "list_dict = {key: list(value) for key, value in range_dict.items()}\n",
        "\n",
        "print(list_dict)\n"
      ],
      "metadata": {
        "id": "cMN8kjOmoWD6"
      },
      "execution_count": null,
      "outputs": []
    },
    {
      "cell_type": "code",
      "source": [
        "# Question 39: Create a dictionary with generator values\n",
        "print(\"\\nQuestion 39: Create a dictionary with generator values\")\n",
        "# Your code here\n",
        "\n",
        "# Dictionary with generator values\n",
        "gen_dict = {\n",
        "    'g1': (x * 2 for x in range(3)),  # 0, 2, 4\n",
        "    'g2': (x ** 2 for x in range(5))  # 0, 1, 4, 9, 16\n",
        "}\n",
        "\n",
        "print(gen_dict)\n"
      ],
      "metadata": {
        "colab": {
          "base_uri": "https://localhost:8080/"
        },
        "id": "ebhrJN0JhwoJ",
        "outputId": "1c046005-cb55-4f1a-dc0d-410298fe7a62"
      },
      "execution_count": 52,
      "outputs": [
        {
          "output_type": "stream",
          "name": "stdout",
          "text": [
            "\n",
            "Question 39: Create a dictionary with generator values\n",
            "{'g1': <generator object <genexpr> at 0x7ba34d455220>, 'g2': <generator object <genexpr> at 0x7ba34d454c70>}\n"
          ]
        }
      ]
    },
    {
      "cell_type": "code",
      "source": [
        "# Question 40: Convert each generator to list\n",
        "print(\"\\nQuestion 40: Convert each generator to list\")\n",
        "# Your code here\n",
        "\n",
        "# Dictionary with generator values\n",
        "gen_dict = {\n",
        "    'g1': (x * 2 for x in range(3)),\n",
        "    'g2': (x ** 2 for x in range(5))\n",
        "}\n",
        "\n",
        "# Convert each generator to a list\n",
        "list_dict = {key: list(value) for key, value in gen_dict.items()}\n",
        "\n",
        "print(list_dict)\n"
      ],
      "metadata": {
        "colab": {
          "base_uri": "https://localhost:8080/"
        },
        "id": "YwtYdb4WhwZ6",
        "outputId": "f04f79a7-455f-49ed-e832-8005e96a41a5"
      },
      "execution_count": 53,
      "outputs": [
        {
          "output_type": "stream",
          "name": "stdout",
          "text": [
            "\n",
            "Question 40: Convert each generator to list\n",
            "{'g1': [0, 2, 4], 'g2': [0, 1, 4, 9, 16]}\n"
          ]
        }
      ]
    },
    {
      "cell_type": "code",
      "source": [
        "# Question 41: Create a dictionary with iterator values\n",
        "print(\"\\nQuestion 41: Create a dictionary with iterator values\")\n",
        "# Your code here\n",
        "# Dictionary with iterator values\n",
        "iter_dict = {\n",
        "    'it1': iter([1, 2, 3]),\n",
        "    'it2': iter(range(5))\n",
        "}\n",
        "\n",
        "print(iter_dict)\n"
      ],
      "metadata": {
        "id": "f41fkgzTk8--",
        "colab": {
          "base_uri": "https://localhost:8080/"
        },
        "outputId": "1250260f-3272-427d-ea63-f7b981cabf58"
      },
      "execution_count": 54,
      "outputs": [
        {
          "output_type": "stream",
          "name": "stdout",
          "text": [
            "\n",
            "Question 41: Create a dictionary with iterator values\n",
            "{'it1': <list_iterator object at 0x7ba34d4b8a90>, 'it2': <range_iterator object at 0x7ba34d4b8960>}\n"
          ]
        }
      ]
    },
    {
      "cell_type": "code",
      "source": [
        "# Question 42: Extract all elements from each iterator\n",
        "print(\"\\nQuestion 42: Extract all elements from each iterator\")\n",
        "# Your code here\n",
        "\n",
        "# Dictionary with iterator values\n",
        "iter_dict = {\n",
        "    'it1': iter([1, 2, 3]),\n",
        "    'it2': iter(range(5))\n",
        "}\n",
        "\n",
        "# Extract all elements from each iterator\n",
        "extracted_dict = {key: list(value) for key, value in iter_dict.items()}\n",
        "\n",
        "print(extracted_dict)\n"
      ],
      "metadata": {
        "id": "m1JSUU7Nk805",
        "colab": {
          "base_uri": "https://localhost:8080/"
        },
        "outputId": "9d0364e5-99cd-47e3-ae19-b37e27b8e634"
      },
      "execution_count": 55,
      "outputs": [
        {
          "output_type": "stream",
          "name": "stdout",
          "text": [
            "\n",
            "Question 42: Extract all elements from each iterator\n",
            "{'it1': [1, 2, 3], 'it2': [0, 1, 2, 3, 4]}\n"
          ]
        }
      ]
    },
    {
      "cell_type": "code",
      "source": [
        "# Question 43: Create a dictionary with nested lists: {'matrix': [[1, 2], [3, 4]], 'vector': [5, 6, 7]}\n",
        "print(\"\\nQuestion 43: Create a dictionary with nested lists: {'matrix': [[1, 2], [3, 4]], 'vector': [5, 6, 7]}\")\n",
        "# Your code here\n",
        "\n",
        "# Dictionary with nested lists\n",
        "nested_list_dict = {\n",
        "    'matrix': [[1, 2], [3, 4]],\n",
        "    'vector': [5, 6, 7]\n",
        "}\n",
        "\n",
        "print(nested_list_dict)\n"
      ],
      "metadata": {
        "id": "mecvKwQ1k8oC",
        "colab": {
          "base_uri": "https://localhost:8080/"
        },
        "outputId": "2226cf79-feeb-4642-df28-d79edfa761ae"
      },
      "execution_count": 56,
      "outputs": [
        {
          "output_type": "stream",
          "name": "stdout",
          "text": [
            "\n",
            "Question 43: Create a dictionary with nested lists: {'matrix': [[1, 2], [3, 4]], 'vector': [5, 6, 7]}\n",
            "{'matrix': [[1, 2], [3, 4]], 'vector': [5, 6, 7]}\n"
          ]
        }
      ]
    },
    {
      "cell_type": "code",
      "source": [
        "# Question 44: Find sum of each nested list\n",
        "print(\"\\nQuestion 44: Find sum of each nested list\")\n",
        "# Your code here\n",
        "\n",
        "# Dictionary with nested lists\n",
        "nested_list_dict = {\n",
        "    'matrix': [[1, 2], [3, 4]],\n",
        "    'vector': [5, 6, 7]\n",
        "}\n",
        "\n",
        "# Calculate sum of each nested list\n",
        "sum_dict = {}\n",
        "\n",
        "for key, value in nested_list_dict.items():\n",
        "    # If value is a list of lists\n",
        "    if all(isinstance(i, list) for i in value):\n",
        "        sum_dict[key] = [sum(sublist) for sublist in value]\n",
        "    else:  # simple list\n",
        "        sum_dict[key] = sum(value)\n",
        "\n",
        "print(sum_dict)\n"
      ],
      "metadata": {
        "id": "srYiwOF2k8Kg",
        "colab": {
          "base_uri": "https://localhost:8080/"
        },
        "outputId": "2935bdee-4b87-4609-db8b-ae14c87c6886"
      },
      "execution_count": 57,
      "outputs": [
        {
          "output_type": "stream",
          "name": "stdout",
          "text": [
            "\n",
            "Question 44: Find sum of each nested list\n",
            "{'matrix': [3, 7], 'vector': 18}\n"
          ]
        }
      ]
    },
    {
      "cell_type": "code",
      "source": [
        "# Question 45: Create a dictionary with nested dictionaries: {'config': {'db': {'host': 'localhost', 'port': 5432}}}\n",
        "print(\"\\nQuestion 45: Create a dictionary with nested dictionaries: {'config': {'db': {'host': 'localhost', 'port': 5432}}}\")\n",
        "# Your code here\n",
        "\n",
        "# Dictionary with nested dictionaries\n",
        "nested_dict = {\n",
        "    'config': {\n",
        "        'db': {\n",
        "            'host': 'localhost',\n",
        "            'port': 5432\n",
        "        }\n",
        "    }\n",
        "}\n",
        "\n",
        "print(nested_dict)\n"
      ],
      "metadata": {
        "id": "AIR0__rEk721",
        "colab": {
          "base_uri": "https://localhost:8080/"
        },
        "outputId": "bac63aa1-0215-4927-d926-731f1d12c3fc"
      },
      "execution_count": 58,
      "outputs": [
        {
          "output_type": "stream",
          "name": "stdout",
          "text": [
            "\n",
            "Question 45: Create a dictionary with nested dictionaries: {'config': {'db': {'host': 'localhost', 'port': 5432}}}\n",
            "{'config': {'db': {'host': 'localhost', 'port': 5432}}}\n"
          ]
        }
      ]
    },
    {
      "cell_type": "code",
      "source": [
        "# Question 46: Access database port from nested configuration\n",
        "print(\"\\nQuestion 46: Access database port from nested configuration\")\n",
        "# Your code here\n",
        "\n",
        "# Nested dictionary\n",
        "nested_dict = {\n",
        "    'config': {\n",
        "        'db': {\n",
        "            'host': 'localhost',\n",
        "            'port': 5432\n",
        "        }\n",
        "    }\n",
        "}\n",
        "\n",
        "# Access the database port\n",
        "db_port = nested_dict['config']['db']['port']\n",
        "\n",
        "print(db_port)\n"
      ],
      "metadata": {
        "id": "75L16b-Ikb2B",
        "colab": {
          "base_uri": "https://localhost:8080/"
        },
        "outputId": "9ac10f7e-25ce-4d9d-e44c-74e86a34cd53"
      },
      "execution_count": 59,
      "outputs": [
        {
          "output_type": "stream",
          "name": "stdout",
          "text": [
            "\n",
            "Question 46: Access database port from nested configuration\n",
            "5432\n"
          ]
        }
      ]
    },
    {
      "cell_type": "code",
      "source": [
        "# Question 47: Create a dictionary with nested tuples: {'points': ((1, 2), (3, 4)), 'rgb': ((255, 0, 0), (0, 255, 0))}\n",
        "print(\"\\nQuestion 47: Create a dictionary with nested tuples: {'points': ((1, 2), (3, 4)), 'rgb': ((255, 0, 0), (0, 255, 0))}\")\n",
        "# Your code here\n",
        "\n",
        "# Dictionary with nested tuples\n",
        "nested_tuple_dict = {\n",
        "    'points': ((1, 2), (3, 4)),\n",
        "    'rgb': ((255, 0, 0), (0, 255, 0))\n",
        "}\n",
        "\n",
        "print(nested_tuple_dict)\n"
      ],
      "metadata": {
        "id": "_cWKoIrlkbok",
        "colab": {
          "base_uri": "https://localhost:8080/"
        },
        "outputId": "1306b745-686c-4c50-b6d4-4eab7a61970b"
      },
      "execution_count": 60,
      "outputs": [
        {
          "output_type": "stream",
          "name": "stdout",
          "text": [
            "\n",
            "Question 47: Create a dictionary with nested tuples: {'points': ((1, 2), (3, 4)), 'rgb': ((255, 0, 0), (0, 255, 0))}\n",
            "{'points': ((1, 2), (3, 4)), 'rgb': ((255, 0, 0), (0, 255, 0))}\n"
          ]
        }
      ]
    },
    {
      "cell_type": "code",
      "source": [
        "# Question 48: Extract first point coordinates\n",
        "print(\"\\nQuestion 48: Extract first point coordinates\")\n",
        "# Your code here\n",
        "\n",
        "# Dictionary with nested tuples\n",
        "nested_tuple_dict = {\n",
        "    'points': ((1, 2), (3, 4)),\n",
        "    'rgb': ((255, 0, 0), (0, 255, 0))\n",
        "}\n",
        "\n",
        "# Extract first point coordinates\n",
        "first_point = nested_tuple_dict['points'][0]\n",
        "\n",
        "print(first_point)\n"
      ],
      "metadata": {
        "id": "Jq1yNrbwkbZ5",
        "colab": {
          "base_uri": "https://localhost:8080/"
        },
        "outputId": "c45f3998-c385-4766-f3fd-366e21a8297d"
      },
      "execution_count": 61,
      "outputs": [
        {
          "output_type": "stream",
          "name": "stdout",
          "text": [
            "\n",
            "Question 48: Extract first point coordinates\n",
            "(1, 2)\n"
          ]
        }
      ]
    },
    {
      "cell_type": "code",
      "source": [
        "# Question 49: Create a dictionary with nested sets: {'groups': {{1, 2, 3}, {4, 5, 6}}, 'categories': {{'a', 'b'}, {'c', 'd'}}}\n",
        "print(\"\\nQuestion 49: Create a dictionary with nested sets: {'groups': {{1, 2, 3}, {4, 5, 6}}, 'categories': {{'a', 'b'}, {'c', 'd'}}}\")\n",
        "# Your code here\n",
        "\n",
        "# Dictionary with nested sets using frozensets\n",
        "nested_set_dict = {\n",
        "    'groups': {frozenset({1, 2, 3}), frozenset({4, 5, 6})},\n",
        "    'categories': {frozenset({'a', 'b'}), frozenset({'c', 'd'})}\n",
        "}\n",
        "\n",
        "print(nested_set_dict)\n"
      ],
      "metadata": {
        "id": "6xQwYzXvkbHJ",
        "colab": {
          "base_uri": "https://localhost:8080/"
        },
        "outputId": "abe5014b-cf90-4439-a5c6-d19ab3328734"
      },
      "execution_count": 62,
      "outputs": [
        {
          "output_type": "stream",
          "name": "stdout",
          "text": [
            "\n",
            "Question 49: Create a dictionary with nested sets: {'groups': {{1, 2, 3}, {4, 5, 6}}, 'categories': {{'a', 'b'}, {'c', 'd'}}}\n",
            "{'groups': {frozenset({1, 2, 3}), frozenset({4, 5, 6})}, 'categories': {frozenset({'a', 'b'}), frozenset({'d', 'c'})}}\n"
          ]
        }
      ]
    },
    {
      "cell_type": "code",
      "source": [
        "# Question 50: Find union of all nested sets\n",
        "print(\"\\nQuestion 50: Find union of all nested sets\")\n",
        "# Your code here\n",
        "\n",
        "# Dictionary with nested sets (using list of sets)\n",
        "nested_set_dict = {\n",
        "    'groups': [{1, 2, 3}, {4, 5, 6}],\n",
        "    'categories': [{'a', 'b'}, {'c', 'd'}]\n",
        "}\n",
        "\n",
        "# Union of all nested sets\n",
        "union_dict = {}\n",
        "for key, sets in nested_set_dict.items():\n",
        "    union_dict[key] = set().union(*sets)  # unpack all sets and union them\n",
        "\n",
        "print(union_dict)\n"
      ],
      "metadata": {
        "id": "WkixdUApkXOB",
        "colab": {
          "base_uri": "https://localhost:8080/"
        },
        "outputId": "d92496b4-4a3c-4766-c21a-fb2d16654591"
      },
      "execution_count": 63,
      "outputs": [
        {
          "output_type": "stream",
          "name": "stdout",
          "text": [
            "\n",
            "Question 50: Find union of all nested sets\n",
            "{'groups': {1, 2, 3, 4, 5, 6}, 'categories': {'d', 'a', 'b', 'c'}}\n"
          ]
        }
      ]
    },
    {
      "cell_type": "code",
      "source": [
        "# Dictionary with nested sets (using list of sets)\n",
        "nested_set_dict = {\n",
        "    'groups': [{1, 2, 3}, {4, 5, 6}],\n",
        "    'categories': [{'a', 'b'}, {'c', 'd'}]\n",
        "}\n",
        "\n",
        "# Union of all nested sets\n",
        "\n",
        "union_dict = {key: set().union(*sets) for key, sets in nested_set_dict.items()}\n",
        "print(union_dict)\n"
      ],
      "metadata": {
        "colab": {
          "base_uri": "https://localhost:8080/"
        },
        "id": "-Mud7mK3IlnL",
        "outputId": "7cf7eb09-9a14-43e3-e945-8172aee9cbae"
      },
      "execution_count": 64,
      "outputs": [
        {
          "output_type": "stream",
          "name": "stdout",
          "text": [
            "{'groups': {1, 2, 3, 4, 5, 6}, 'categories': {'d', 'a', 'b', 'c'}}\n"
          ]
        }
      ]
    }
  ]
}