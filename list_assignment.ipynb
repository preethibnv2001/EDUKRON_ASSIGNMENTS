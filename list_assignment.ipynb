{
  "nbformat": 4,
  "nbformat_minor": 0,
  "metadata": {
    "colab": {
      "provenance": []
    },
    "kernelspec": {
      "name": "python3",
      "display_name": "Python 3"
    },
    "language_info": {
      "name": "python"
    }
  },
  "cells": [
    {
      "cell_type": "code",
      "execution_count": 1,
      "metadata": {
        "colab": {
          "base_uri": "https://localhost:8080/"
        },
        "id": "8PgczD27ncFR",
        "outputId": "ff3e01e8-e4af-41fb-cd9a-a016b04634b9"
      },
      "outputs": [
        {
          "output_type": "stream",
          "name": "stdout",
          "text": [
            "Find the maximum and minimum values in a list\n",
            "List: [23, 45, 12, 67, 34, 89, 56]\n",
            "Maximum: 89\n",
            "Minimum: 12\n",
            "--------------------------------------------------\n"
          ]
        }
      ],
      "source": [
        "# LIST DATATYPE ASSIGNMENT - 50 QUESTIONS\n",
        "# SOLVED EXAMPLE\n",
        "# --------------\n",
        "# Question: Find the maximum and minimum values in a list\n",
        "print(\"Find the maximum and minimum values in a list\")\n",
        "numbers = [23, 45, 12, 67, 34, 89, 56]\n",
        "max_val = max(numbers)\n",
        "min_val = min(numbers)\n",
        "print(f\"List: {numbers}\")\n",
        "print(f\"Maximum: {max_val}\")\n",
        "print(f\"Minimum: {min_val}\")\n",
        "print(\"-\" * 50)"
      ]
    },
    {
      "cell_type": "code",
      "source": [
        "# Question 1: Create a list of first 10 square numbers\n",
        "print(\"Question 1: Create a list of first 10 square numbers\")\n",
        "# Your code here\n",
        "# First 10 square numbers\n",
        "squares = [x**2 for x in range(1, 11)]\n",
        "print(squares)\n"
      ],
      "metadata": {
        "colab": {
          "base_uri": "https://localhost:8080/"
        },
        "id": "FytV1s3bnp4q",
        "outputId": "92f07b02-7454-483a-b83c-6b2a063c6c3b"
      },
      "execution_count": 2,
      "outputs": [
        {
          "output_type": "stream",
          "name": "stdout",
          "text": [
            "Question 1: Create a list of first 10 square numbers\n",
            "[1, 4, 9, 16, 25, 36, 49, 64, 81, 100]\n"
          ]
        }
      ]
    },
    {
      "cell_type": "code",
      "source": [
        "# First 10 square numbers using a loop\n",
        "squares = []\n",
        "for x in range(1, 11):\n",
        "    squares.append(x**2)\n",
        "\n",
        "print(squares)"
      ],
      "metadata": {
        "colab": {
          "base_uri": "https://localhost:8080/"
        },
        "id": "ZJSYOptVu8gO",
        "outputId": "3e99b884-2f9b-4de9-f463-9241c16e23dc"
      },
      "execution_count": 3,
      "outputs": [
        {
          "output_type": "stream",
          "name": "stdout",
          "text": [
            "[1, 4, 9, 16, 25, 36, 49, 64, 81, 100]\n"
          ]
        }
      ]
    },
    {
      "cell_type": "code",
      "source": [
        "# Question 2: Find the sum of all even numbers in [1, 2, 3, 4, 5, 6, 7, 8, 9, 10]\n",
        "print(\"\\nQuestion 2: Find the sum of all even numbers in [1, 2, 3, 4, 5, 6, 7, 8, 9, 10]\")\n",
        "# Your code here\n",
        "# Given list\n",
        "numbers = [1, 2, 3, 4, 5, 6, 7, 8, 9, 10]\n",
        "\n",
        "# Find sum of even numbers\n",
        "even_sum = 0\n",
        "for num in numbers:\n",
        "    if num % 2 == 0:\n",
        "        even_sum += num\n",
        "\n",
        "print(\"Sum of even numbers:\", even_sum)\n",
        "\n",
        "\n",
        "even_sum = sum([num for num in numbers if num % 2 == 0])\n",
        "print(\"Sum of even numbers:\", even_sum)\n"
      ],
      "metadata": {
        "colab": {
          "base_uri": "https://localhost:8080/"
        },
        "id": "pMasGgjKuZf3",
        "outputId": "6d05f5ef-f9d2-43f9-f34f-e1927c80ed2c"
      },
      "execution_count": 5,
      "outputs": [
        {
          "output_type": "stream",
          "name": "stdout",
          "text": [
            "\n",
            "Question 2: Find the sum of all even numbers in [1, 2, 3, 4, 5, 6, 7, 8, 9, 10]\n",
            "Sum of even numbers: 30\n",
            "Sum of even numbers: 30\n"
          ]
        }
      ]
    },
    {
      "cell_type": "code",
      "source": [
        "# Question 3: Remove duplicates from [1, 2, 2, 3, 4, 4, 5, 6, 6, 7]\n",
        "print(\"\\nQuestion 3: Remove duplicates from [1, 2, 2, 3, 4, 4, 5, 6, 6, 7]\")\n",
        "# Your code here\n",
        "numbers = [1, 2, 2, 3, 4, 4, 5, 6, 6, 7]\n",
        "unique_numbers = []\n",
        "for num in numbers:\n",
        "    if num not in unique_numbers:\n",
        "        unique_numbers.append(num)\n",
        "\n",
        "print(\"List without duplicates:\", unique_numbers)  #order preserved\n",
        "\n",
        "numbers = [1, 2, 2, 3, 4, 4, 5, 6, 6, 7]\n",
        "unique_numbers = list(set(numbers))\n",
        "print(\"List without duplicates:\", unique_numbers) #order may not be preserved using set()"
      ],
      "metadata": {
        "colab": {
          "base_uri": "https://localhost:8080/"
        },
        "id": "VreDYfajuYkP",
        "outputId": "7fe10240-3d1c-41ea-f529-3b846e3c2503"
      },
      "execution_count": 7,
      "outputs": [
        {
          "output_type": "stream",
          "name": "stdout",
          "text": [
            "\n",
            "Question 3: Remove duplicates from [1, 2, 2, 3, 4, 4, 5, 6, 6, 7]\n",
            "List without duplicates: [1, 2, 3, 4, 5, 6, 7]\n",
            "List without duplicates: [1, 2, 3, 4, 5, 6, 7]\n"
          ]
        }
      ]
    },
    {
      "cell_type": "code",
      "source": [
        "# Question 4: Sort the list [64, 34, 25, 12, 22, 11, 90] in descending order\n",
        "print(\"\\nQuestion 4: Sort the list [64, 34, 25, 12, 22, 11, 90] in descending order\")\n",
        "# Your code here\n",
        "numbers = [64, 34, 25, 12, 22, 11, 90]\n",
        "numbers.sort(reverse=True)\n",
        "print(\"Sorted list (descending):\", numbers)\n"
      ],
      "metadata": {
        "colab": {
          "base_uri": "https://localhost:8080/"
        },
        "id": "POu4RZYduYdZ",
        "outputId": "9dc516ba-6301-42b0-ab1e-b684a713620e"
      },
      "execution_count": 8,
      "outputs": [
        {
          "output_type": "stream",
          "name": "stdout",
          "text": [
            "\n",
            "Question 4: Sort the list [64, 34, 25, 12, 22, 11, 90] in descending order\n",
            "Sorted list (descending): [90, 64, 34, 25, 22, 12, 11]\n"
          ]
        }
      ]
    },
    {
      "cell_type": "code",
      "source": [
        "# Question 5: Find the average of numbers in [15, 23, 31, 42, 56, 78, 91]\n",
        "print(\"\\nQuestion 5: Find the average of numbers in [15, 23, 31, 42, 56, 78, 91]\")\n",
        "# Your code here\n",
        "numbers = [15, 23, 31, 42, 56, 78, 91]\n",
        "average = sum(numbers) / len(numbers)\n",
        "print(\"Average:\", average)\n"
      ],
      "metadata": {
        "colab": {
          "base_uri": "https://localhost:8080/"
        },
        "id": "bBi__e4guYZ_",
        "outputId": "fdf9cb71-df2d-4aaa-bef8-f730d092def2"
      },
      "execution_count": 9,
      "outputs": [
        {
          "output_type": "stream",
          "name": "stdout",
          "text": [
            "\n",
            "Question 5: Find the average of numbers in [15, 23, 31, 42, 56, 78, 91]\n",
            "Average: 48.0\n"
          ]
        }
      ]
    },
    {
      "cell_type": "code",
      "source": [
        "# Question 6: Create a list of first 15 Fibonacci numbers\n",
        "print(\"\\nQuestion 6: Create a list of first 15 Fibonacci numbers\")\n",
        "# Your code here\n",
        "fibonacci = [0, 1]  # starting two numbers\n",
        "\n",
        "for i in range(2, 15):\n",
        "    fibonacci.append(fibonacci[-1] + fibonacci[-2])\n",
        "\n",
        "print(\"First 15 Fibonacci numbers:\", fibonacci)\n"
      ],
      "metadata": {
        "colab": {
          "base_uri": "https://localhost:8080/"
        },
        "id": "oJw36B_guPSH",
        "outputId": "c4b05c17-45ac-4b7d-ae56-3ea01f7ee3ed"
      },
      "execution_count": 10,
      "outputs": [
        {
          "output_type": "stream",
          "name": "stdout",
          "text": [
            "\n",
            "Question 6: Create a list of first 15 Fibonacci numbers\n",
            "First 15 Fibonacci numbers: [0, 1, 1, 2, 3, 5, 8, 13, 21, 34, 55, 89, 144, 233, 377]\n"
          ]
        }
      ]
    },
    {
      "cell_type": "code",
      "source": [
        "# Question 7: Find the second largest number in [45, 67, 23, 89, 12, 34, 78]\n",
        "print(\"\\nQuestion 7: Find the second largest number in [45, 67, 23, 89, 12, 34, 78]\")\n",
        "# Your code here\n",
        "numbers = [45, 67, 23, 89, 12, 34, 78]\n",
        "second_largest = sorted(numbers)[-2]\n",
        "print(\"Second largest number:\", second_largest)\n"
      ],
      "metadata": {
        "colab": {
          "base_uri": "https://localhost:8080/"
        },
        "id": "M65vPLyCuPKZ",
        "outputId": "f6dc9fd8-4c2e-4ead-adc8-3ac049f12bfd"
      },
      "execution_count": 11,
      "outputs": [
        {
          "output_type": "stream",
          "name": "stdout",
          "text": [
            "\n",
            "Question 7: Find the second largest number in [45, 67, 23, 89, 12, 34, 78]\n",
            "Second largest number: 78\n"
          ]
        }
      ]
    },
    {
      "cell_type": "code",
      "source": [
        "# Question 8: Reverse the list [1, 2, 3, 4, 5, 6, 7, 8, 9, 10]\n",
        "print(\"\\nQuestion 8: Reverse the list [1, 2, 3, 4, 5, 6, 7, 8, 9, 10]\")\n",
        "# Your code here\n",
        "numbers = [1, 2, 3, 4, 5, 6, 7, 8, 9, 10]\n",
        "print(\"Reversed list:\", numbers[::-1])\n"
      ],
      "metadata": {
        "colab": {
          "base_uri": "https://localhost:8080/"
        },
        "id": "RovZTtNouPCm",
        "outputId": "bf7994e3-f96a-41b2-896a-d60645025599"
      },
      "execution_count": 12,
      "outputs": [
        {
          "output_type": "stream",
          "name": "stdout",
          "text": [
            "\n",
            "Question 8: Reverse the list [1, 2, 3, 4, 5, 6, 7, 8, 9, 10]\n",
            "Reversed list: [10, 9, 8, 7, 6, 5, 4, 3, 2, 1]\n"
          ]
        }
      ]
    },
    {
      "cell_type": "code",
      "source": [
        "# Question 9: Count how many times 5 appears in [1, 5, 2, 5, 3, 5, 4, 5, 6]\n",
        "print(\"\\nQuestion 9: Count how many times 5 appears in [1, 5, 2, 5, 3, 5, 4, 5, 6]\")\n",
        "# Your code here\n",
        "numbers = [1, 5, 2, 5, 3, 5, 4, 5, 6]\n",
        "count_5 = 0\n",
        "\n",
        "for num in numbers:\n",
        "    if num == 5:\n",
        "        count_5 += 1\n",
        "\n",
        "print(\"5 appears\", count_5, \"times\")\n"
      ],
      "metadata": {
        "colab": {
          "base_uri": "https://localhost:8080/"
        },
        "id": "hc4n_c-puO6m",
        "outputId": "12e57d50-b7b1-4e4e-98c9-74274df4787e"
      },
      "execution_count": 13,
      "outputs": [
        {
          "output_type": "stream",
          "name": "stdout",
          "text": [
            "\n",
            "Question 9: Count how many times 5 appears in [1, 5, 2, 5, 3, 5, 4, 5, 6]\n",
            "5 appears 4 times\n"
          ]
        }
      ]
    },
    {
      "cell_type": "code",
      "source": [
        "# Question 10: Create a list of prime numbers between 1 and 50\n",
        "print(\"\\nQuestion 10: Create a list of prime numbers between 1 and 50\")\n",
        "# Your code here\n",
        "primes = []\n",
        "for num in range(2, 51):\n",
        "    for i in range(2, int(num**0.5) + 1):\n",
        "        if num % i == 0:\n",
        "            break\n",
        "    else:\n",
        "        primes.append(num)\n",
        "\n",
        "print(\"Prime numbers between 1 and 50:\", primes)\n"
      ],
      "metadata": {
        "colab": {
          "base_uri": "https://localhost:8080/"
        },
        "id": "hdDCT97duOwU",
        "outputId": "f07d35c3-2b5f-43c9-b043-0141e8b7c24d"
      },
      "execution_count": 14,
      "outputs": [
        {
          "output_type": "stream",
          "name": "stdout",
          "text": [
            "\n",
            "Question 10: Create a list of prime numbers between 1 and 50\n",
            "Prime numbers between 1 and 50: [2, 3, 5, 7, 11, 13, 17, 19, 23, 29, 31, 37, 41, 43, 47]\n"
          ]
        }
      ]
    },
    {
      "cell_type": "code",
      "source": [
        "# Question 11: Flatten nested list [[1, 2, 3], [4, 5, 6], [7, 8, 9]]\n",
        "print(\"\\nQuestion 11: Flatten nested list [[1, 2, 3], [4, 5, 6], [7, 8, 9]]\")\n",
        "# Your code here\n",
        "nested_list = [[1, 2, 3], [4, 5, 6], [7, 8, 9]]\n",
        "flattened = []\n",
        "\n",
        "for sublist in nested_list:\n",
        "    for num in sublist:\n",
        "        flattened.append(num)\n",
        "\n",
        "print(\"Flattened list:\", flattened)\n"
      ],
      "metadata": {
        "colab": {
          "base_uri": "https://localhost:8080/"
        },
        "id": "7iGeXnO-uCX2",
        "outputId": "905e094b-6678-415c-ed44-3e5780208cb7"
      },
      "execution_count": 15,
      "outputs": [
        {
          "output_type": "stream",
          "name": "stdout",
          "text": [
            "\n",
            "Question 11: Flatten nested list [[1, 2, 3], [4, 5, 6], [7, 8, 9]]\n",
            "Flattened list: [1, 2, 3, 4, 5, 6, 7, 8, 9]\n"
          ]
        }
      ]
    },
    {
      "cell_type": "code",
      "source": [
        "# Question 12: Find common elements between [1, 2, 3, 4, 5] and [4, 5, 6, 7, 8]\n",
        "print(\"\\nQuestion 12: Find common elements between [1, 2, 3, 4, 5] and [4, 5, 6, 7, 8]\")\n",
        "# Your code here\n",
        "list1 = [1, 2, 3, 4, 5]\n",
        "list2 = [4, 5, 6, 7, 8]\n",
        "\n",
        "common = list(set(list1) & set(list2))\n",
        "print(\"Common elements:\", common)\n"
      ],
      "metadata": {
        "colab": {
          "base_uri": "https://localhost:8080/"
        },
        "id": "0TSSajJQuCQR",
        "outputId": "d2ec739e-b2e2-42f3-8921-52efb2596e2b"
      },
      "execution_count": 16,
      "outputs": [
        {
          "output_type": "stream",
          "name": "stdout",
          "text": [
            "\n",
            "Question 12: Find common elements between [1, 2, 3, 4, 5] and [4, 5, 6, 7, 8]\n",
            "Common elements: [4, 5]\n"
          ]
        }
      ]
    },
    {
      "cell_type": "code",
      "source": [
        "# Question 13: Create a list of lists: [[1, 2], [3, 4], [5, 6]]\n",
        "print(\"\\nQuestion 13: Create a list of lists: [[1, 2], [3, 4], [5, 6]]\")\n",
        "# Your code here\n",
        "list_of_lists = []\n",
        "for i in range(1, 6, 2):\n",
        "    list_of_lists.append([i, i+1])\n",
        "\n",
        "print(\"List of lists:\", list_of_lists)"
      ],
      "metadata": {
        "colab": {
          "base_uri": "https://localhost:8080/"
        },
        "id": "o0pxC1v2uCJJ",
        "outputId": "7e6de317-aaf3-414e-def3-5ab54b232272"
      },
      "execution_count": 23,
      "outputs": [
        {
          "output_type": "stream",
          "name": "stdout",
          "text": [
            "\n",
            "Question 13: Create a list of lists: [[1, 2], [3, 4], [5, 6]]\n",
            "List of lists: [[1, 2], [3, 4], [5, 6]]\n"
          ]
        }
      ]
    },
    {
      "cell_type": "code",
      "source": [
        "# Question 14: Find the sum of each sublist in [[1, 2, 3], [4, 5, 6], [7, 8, 9]]\n",
        "print(\"\\nQuestion 14: Find the sum of each sublist in [[1, 2, 3], [4, 5, 6], [7, 8, 9]]\")\n",
        "# Your code here\n",
        "nested_list = [[1, 2, 3], [4, 5, 6], [7, 8, 9]]\n",
        "sums = []\n",
        "\n",
        "for sublist in nested_list:\n",
        "    sums.append(sum(sublist))\n",
        "\n",
        "print(\"Sum of each sublist:\", sums)\n"
      ],
      "metadata": {
        "colab": {
          "base_uri": "https://localhost:8080/"
        },
        "id": "djsvl2DiuCAl",
        "outputId": "bf28f98d-1389-4a36-d6a3-3f4e72c2e6a1"
      },
      "execution_count": 18,
      "outputs": [
        {
          "output_type": "stream",
          "name": "stdout",
          "text": [
            "\n",
            "Question 14: Find the sum of each sublist in [[1, 2, 3], [4, 5, 6], [7, 8, 9]]\n",
            "Sum of each sublist: [6, 15, 24]\n"
          ]
        }
      ]
    },
    {
      "cell_type": "code",
      "source": [
        "# Question 15: Transpose the matrix [[1, 2, 3], [4, 5, 6], [7, 8, 9]]\n",
        "print(\"\\nQuestion 15: Transpose the matrix [[1, 2, 3], [4, 5, 6], [7, 8, 9]]\")\n",
        "# Your code here\n",
        "matrix = [[1, 2, 3], [4, 5, 6], [7, 8, 9]]\n",
        "transpose = []\n",
        "\n",
        "for i in range(len(matrix[0])):  # loop over columns\n",
        "    new_row = []\n",
        "    for row in matrix:\n",
        "        new_row.append(row[i])\n",
        "    transpose.append(new_row)\n",
        "\n",
        "print(\"Transposed matrix:\", transpose)\n"
      ],
      "metadata": {
        "colab": {
          "base_uri": "https://localhost:8080/"
        },
        "id": "g00HrKJiuB2X",
        "outputId": "17ed001a-9efc-4fe1-8d14-29ce25e79b36"
      },
      "execution_count": 19,
      "outputs": [
        {
          "output_type": "stream",
          "name": "stdout",
          "text": [
            "\n",
            "Question 15: Transpose the matrix [[1, 2, 3], [4, 5, 6], [7, 8, 9]]\n",
            "Transposed matrix: [[1, 4, 7], [2, 5, 8], [3, 6, 9]]\n"
          ]
        }
      ]
    },
    {
      "cell_type": "code",
      "source": [
        "# Question 16: Find the maximum value in each sublist of [[1, 5, 3], [9, 2, 7], [4, 8, 6]]\n",
        "print(\"\\nQuestion 16: Find the maximum value in each sublist of [[1, 5, 3], [9, 2, 7], [4, 8, 6]]\")\n",
        "# Your code here\n",
        "nested_list = [[1, 5, 3], [9, 2, 7], [4, 8, 6]]\n",
        "max_values = []\n",
        "\n",
        "for sublist in nested_list:\n",
        "    max_values.append(max(sublist))\n",
        "\n",
        "print(\"Maximum in each sublist:\", max_values)\n"
      ],
      "metadata": {
        "colab": {
          "base_uri": "https://localhost:8080/"
        },
        "id": "u7vuTG7qt4aP",
        "outputId": "d1ce4f2f-1eec-47bb-b0ea-32bdbdb65c25"
      },
      "execution_count": 20,
      "outputs": [
        {
          "output_type": "stream",
          "name": "stdout",
          "text": [
            "\n",
            "Question 16: Find the maximum value in each sublist of [[1, 5, 3], [9, 2, 7], [4, 8, 6]]\n",
            "Maximum in each sublist: [5, 9, 8]\n"
          ]
        }
      ]
    },
    {
      "cell_type": "code",
      "source": [
        "# Question 17: Create a 3D list: [[[1, 2], [3, 4]], [[5, 6], [7, 8]]]\n",
        "print(\"\\nQuestion 17: Create a 3D list: [[[1, 2], [3, 4]], [[5, 6], [7, 8]]]\")\n",
        "# Your code here\n",
        "list_3d = []\n",
        "count = 1\n",
        "\n",
        "for i in range(2):         # 2 main blocks\n",
        "    block = []\n",
        "    for j in range(2):     # each block has 2 sublists\n",
        "        sublist = [count, count + 1]\n",
        "        block.append(sublist)\n",
        "        count += 2\n",
        "    list_3d.append(block)\n",
        "\n",
        "print(\"3D list:\", list_3d)\n"
      ],
      "metadata": {
        "colab": {
          "base_uri": "https://localhost:8080/"
        },
        "id": "UGbWi70xt3vN",
        "outputId": "070f0a68-4da3-4ebb-d770-29763609d356"
      },
      "execution_count": 21,
      "outputs": [
        {
          "output_type": "stream",
          "name": "stdout",
          "text": [
            "\n",
            "Question 17: Create a 3D list: [[[1, 2], [3, 4]], [[5, 6], [7, 8]]]\n",
            "3D list: [[[1, 2], [3, 4]], [[5, 6], [7, 8]]]\n"
          ]
        }
      ]
    },
    {
      "cell_type": "code",
      "source": [
        "# Question 18: Find the sum of all elements in 3D list [[[1, 2], [3, 4]], [[5, 6], [7, 8]]]\n",
        "print(\"\\nQuestion 18: Find the sum of all elements in 3D list [[[1, 2], [3, 4]], [[5, 6], [7, 8]]]\")\n",
        "# Your code here\n",
        "list_3d = [[[1, 2], [3, 4]], [[5, 6], [7, 8]]]\n",
        "total_sum = 0\n",
        "\n",
        "for block in list_3d:\n",
        "    for sublist in block:\n",
        "        for num in sublist:\n",
        "            total_sum += num\n",
        "\n",
        "print(\"Sum of all elements:\", total_sum)\n"
      ],
      "metadata": {
        "colab": {
          "base_uri": "https://localhost:8080/"
        },
        "id": "UJbBIFizt3lL",
        "outputId": "9fed46b5-4a59-45ae-def3-f88a7cb1af2d"
      },
      "execution_count": 24,
      "outputs": [
        {
          "output_type": "stream",
          "name": "stdout",
          "text": [
            "\n",
            "Question 18: Find the sum of all elements in 3D list [[[1, 2], [3, 4]], [[5, 6], [7, 8]]]\n",
            "Sum of all elements: 36\n"
          ]
        }
      ]
    },
    {
      "cell_type": "code",
      "source": [
        "# Question 19: Extract all even numbers from nested list [[1, 2, 3], [4, 5, 6], [7, 8, 9]]\n",
        "print(\"\\nQuestion 19: Extract all even numbers from nested list [[1, 2, 3], [4, 5, 6], [7, 8, 9]]\")\n",
        "# Your code here\n",
        "nested_list = [[1, 2, 3], [4, 5, 6], [7, 8, 9]]\n",
        "evens = [num for sublist in nested_list for num in sublist if num % 2 == 0]\n",
        "print(\"Even numbers:\", evens)\n"
      ],
      "metadata": {
        "colab": {
          "base_uri": "https://localhost:8080/"
        },
        "id": "j5NQkRJ3t3bG",
        "outputId": "b9f6c407-b65a-46e8-f84d-0d1c430030b5"
      },
      "execution_count": 25,
      "outputs": [
        {
          "output_type": "stream",
          "name": "stdout",
          "text": [
            "\n",
            "Question 19: Extract all even numbers from nested list [[1, 2, 3], [4, 5, 6], [7, 8, 9]]\n",
            "Even numbers: [2, 4, 6, 8]\n"
          ]
        }
      ]
    },
    {
      "cell_type": "code",
      "source": [
        "# Question 20: Create a list of mixed data types: [1, \"hello\", 3.14, True, [1, 2, 3]]\n",
        "print(\"\\nQuestion 20: Create a list of mixed data types: [1, 'hello', 3.14, True, [1, 2, 3]]\")\n",
        "# Your code here\n",
        "mixed_list = []              # start empty\n",
        "\n",
        "mixed_list.append(1)         # integer\n",
        "mixed_list.append(\"hello\")   # string\n",
        "mixed_list.append(3.14)      # float\n",
        "mixed_list.append(True)      # boolean\n",
        "mixed_list.append([1, 2, 3]) # list\n",
        "\n",
        "print(\"Mixed data type list:\", mixed_list)\n"
      ],
      "metadata": {
        "colab": {
          "base_uri": "https://localhost:8080/"
        },
        "id": "w-EztjKIt3RX",
        "outputId": "e4b1887d-4b8c-43ad-e1c4-95721e137060"
      },
      "execution_count": 26,
      "outputs": [
        {
          "output_type": "stream",
          "name": "stdout",
          "text": [
            "\n",
            "Question 20: Create a list of mixed data types: [1, 'hello', 3.14, True, [1, 2, 3]]\n",
            "Mixed data type list: [1, 'hello', 3.14, True, [1, 2, 3]]\n"
          ]
        }
      ]
    },
    {
      "cell_type": "code",
      "source": [
        "# Question 21: Find the length of each string in [\"apple\", \"banana\", \"cherry\", \"date\"]\n",
        "print(\"\\nQuestion 21: Find the length of each string in ['apple', 'banana', 'cherry', 'date']\")\n",
        "# Your code here\n",
        "fruits = ['apple', 'banana', 'cherry', 'date']\n",
        "lengths = [len(fruit) for fruit in fruits]\n",
        "print(\"Length of each string:\", lengths)\n"
      ],
      "metadata": {
        "colab": {
          "base_uri": "https://localhost:8080/"
        },
        "id": "SOOL9-kYtlm8",
        "outputId": "2aa7f99b-84d7-4260-fbde-56ccd2d943f4"
      },
      "execution_count": 27,
      "outputs": [
        {
          "output_type": "stream",
          "name": "stdout",
          "text": [
            "\n",
            "Question 21: Find the length of each string in ['apple', 'banana', 'cherry', 'date']\n",
            "Length of each string: [5, 6, 6, 4]\n"
          ]
        }
      ]
    },
    {
      "cell_type": "code",
      "source": [
        "# Question 22: Create a list of tuples: [(1, 'a'), (2, 'b'), (3, 'c')]\n",
        "print(\"\\nQuestion 22: Create a list of tuples: [(1, 'a'), (2, 'b'), (3, 'c')]\")\n",
        "# Your code here\n",
        "numbers = [1, 2, 3]\n",
        "letters = ['a', 'b', 'c']\n",
        "\n",
        "list_of_tuples = list(zip(numbers, letters))\n",
        "print(\"List of tuples:\", list_of_tuples)\n"
      ],
      "metadata": {
        "colab": {
          "base_uri": "https://localhost:8080/"
        },
        "id": "OUp2etI_tleb",
        "outputId": "2b2cd4ac-b6e9-4f8e-a69e-f6d11689932f"
      },
      "execution_count": 28,
      "outputs": [
        {
          "output_type": "stream",
          "name": "stdout",
          "text": [
            "\n",
            "Question 22: Create a list of tuples: [(1, 'a'), (2, 'b'), (3, 'c')]\n",
            "List of tuples: [(1, 'a'), (2, 'b'), (3, 'c')]\n"
          ]
        }
      ]
    },
    {
      "cell_type": "code",
      "source": [
        "# Question 23: Extract first element from each tuple in [(1, 'a'), (2, 'b'), (3, 'c')]\n",
        "print(\"\\nQuestion 23: Extract first element from each tuple in [(1, 'a'), (2, 'b'), (3, 'c')]\")\n",
        "# Your code here\n",
        "tuples = [(1, 'a'), (2, 'b'), (3, 'c')]\n",
        "first_elements = [t[0] for t in tuples]\n",
        "print(\"First elements:\", first_elements)\n"
      ],
      "metadata": {
        "colab": {
          "base_uri": "https://localhost:8080/"
        },
        "id": "t6lDckwQtlV7",
        "outputId": "bab36294-5073-4336-e131-3c7603376aac"
      },
      "execution_count": 29,
      "outputs": [
        {
          "output_type": "stream",
          "name": "stdout",
          "text": [
            "\n",
            "Question 23: Extract first element from each tuple in [(1, 'a'), (2, 'b'), (3, 'c')]\n",
            "First elements: [1, 2, 3]\n"
          ]
        }
      ]
    },
    {
      "cell_type": "code",
      "source": [
        "# Question 24: Create a list of dictionaries: [{'name': 'Alice', 'age': 25}, {'name': 'Bob', 'age': 30}]\n",
        "print(\"\\nQuestion 24: Create a list of dictionaries: [{'name': 'Alice', 'age': 25}, {'name': 'Bob', 'age': 30}]\")\n",
        "# Your code here\n",
        "list_of_dicts = []   # start with empty list\n",
        "\n",
        "list_of_dicts.append({'name': 'Alice', 'age': 25})\n",
        "list_of_dicts.append({'name': 'Bob', 'age': 30})\n",
        "\n",
        "print(\"List of dictionaries:\", list_of_dicts)\n"
      ],
      "metadata": {
        "colab": {
          "base_uri": "https://localhost:8080/"
        },
        "id": "zjCv5sK-tlNA",
        "outputId": "a82fc656-5723-473e-8301-d08f9779ee2a"
      },
      "execution_count": 30,
      "outputs": [
        {
          "output_type": "stream",
          "name": "stdout",
          "text": [
            "\n",
            "Question 24: Create a list of dictionaries: [{'name': 'Alice', 'age': 25}, {'name': 'Bob', 'age': 30}]\n",
            "List of dictionaries: [{'name': 'Alice', 'age': 25}, {'name': 'Bob', 'age': 30}]\n"
          ]
        }
      ]
    },
    {
      "cell_type": "code",
      "source": [
        "# Question 25: Extract all 'name' values from list of dictionaries\n",
        "print(\"\\nQuestion 25: Extract all 'name' values from list of dictionaries\")\n",
        "# Your code here\n",
        "list_of_dicts = [{'name': 'Alice', 'age': 25}, {'name': 'Bob', 'age': 30}]\n",
        "names = [d['name'] for d in list_of_dicts]\n",
        "print(\"Names:\", names)\n"
      ],
      "metadata": {
        "colab": {
          "base_uri": "https://localhost:8080/"
        },
        "id": "NdXrLsiztlDz",
        "outputId": "60bf2645-f8e7-4829-f2c2-3b4d2b371b44"
      },
      "execution_count": 31,
      "outputs": [
        {
          "output_type": "stream",
          "name": "stdout",
          "text": [
            "\n",
            "Question 25: Extract all 'name' values from list of dictionaries\n",
            "Names: ['Alice', 'Bob']\n"
          ]
        }
      ]
    },
    {
      "cell_type": "code",
      "source": [
        "# Question 26: Find the person with maximum age in list of dictionaries\n",
        "print(\"\\nQuestion 26: Find the person with maximum age in list of dictionaries\")\n",
        "# Your code here\n",
        "people = [{'name': 'Alice', 'age': 25}, {'name': 'Bob', 'age': 30}]\n",
        "oldest = max(people, key=lambda x: x['age'])\n",
        "print(\"Person with maximum age:\", oldest)\n"
      ],
      "metadata": {
        "colab": {
          "base_uri": "https://localhost:8080/"
        },
        "id": "AxW1aiW_taka",
        "outputId": "96adef95-6631-458a-99a5-6c90d3fb5813"
      },
      "execution_count": 32,
      "outputs": [
        {
          "output_type": "stream",
          "name": "stdout",
          "text": [
            "\n",
            "Question 26: Find the person with maximum age in list of dictionaries\n",
            "Person with maximum age: {'name': 'Bob', 'age': 30}\n"
          ]
        }
      ]
    },
    {
      "cell_type": "code",
      "source": [
        "# Question 27: Create a 4D list: [[[[1, 2], [3, 4]], [[5, 6], [7, 8]]], [[[9, 10], [11, 12]], [[13, 14], [15, 16]]]]\n",
        "print(\"\\nQuestion 27: Create a 4D list: [[[[1, 2], [3, 4]], [[5, 6], [7, 8]]], [[[9, 10], [11, 12]], [[13, 14], [15, 16]]]]\")\n",
        "# Your code here\n",
        "list_4d = []\n",
        "count = 1\n",
        "\n",
        "for i in range(2):        # 2 main blocks\n",
        "    block3d = []\n",
        "    for j in range(2):    # each block has 2 sub-blocks\n",
        "        block2d = []\n",
        "        for k in range(2):  # each sub-block has 2 lists\n",
        "            sublist = [count, count + 1]\n",
        "            block2d.append(sublist)\n",
        "            count += 2\n",
        "        block3d.append(block2d)\n",
        "    list_4d.append(block3d)\n",
        "\n",
        "print(\"4D list:\", list_4d)\n"
      ],
      "metadata": {
        "colab": {
          "base_uri": "https://localhost:8080/"
        },
        "id": "gZOHqnRAtZ1C",
        "outputId": "a8848201-0ab7-412a-ed86-fa06cf58380d"
      },
      "execution_count": 33,
      "outputs": [
        {
          "output_type": "stream",
          "name": "stdout",
          "text": [
            "\n",
            "Question 27: Create a 4D list: [[[[1, 2], [3, 4]], [[5, 6], [7, 8]]], [[[9, 10], [11, 12]], [[13, 14], [15, 16]]]]\n",
            "4D list: [[[[1, 2], [3, 4]], [[5, 6], [7, 8]]], [[[9, 10], [11, 12]], [[13, 14], [15, 16]]]]\n"
          ]
        }
      ]
    },
    {
      "cell_type": "code",
      "source": [
        "# Question 28: Find the maximum value in 4D list\n",
        "print(\"\\nQuestion 28: Find the maximum value in 4D list\")\n",
        "# Your code here\n",
        "maximum = float('-inf')\n",
        "\n",
        "for block3d in list_4d:\n",
        "    for block2d in block3d:\n",
        "        for sublist in block2d:\n",
        "            for num in sublist:\n",
        "                if num > maximum:\n",
        "                    maximum = num\n",
        "\n",
        "print(\"Maximum value:\", maximum)\n"
      ],
      "metadata": {
        "colab": {
          "base_uri": "https://localhost:8080/"
        },
        "id": "WawXlnubtZij",
        "outputId": "fd132e3f-4314-4798-ea08-2140fa71cb7e"
      },
      "execution_count": 34,
      "outputs": [
        {
          "output_type": "stream",
          "name": "stdout",
          "text": [
            "\n",
            "Question 28: Find the maximum value in 4D list\n",
            "Maximum value: 16\n"
          ]
        }
      ]
    },
    {
      "cell_type": "code",
      "source": [
        "# Question 29: Create a list of sets: [{1, 2, 3}, {4, 5, 6}, {7, 8, 9}]\n",
        "print(\"\\nQuestion 29: Create a list of sets: [{1, 2, 3}, {4, 5, 6}, {7, 8, 9}]\")\n",
        "# Your code here\n",
        "list_of_sets = []\n",
        "\n",
        "list_of_sets.append({1, 2, 3})\n",
        "list_of_sets.append({4, 5, 6})\n",
        "list_of_sets.append({7, 8, 9})\n",
        "\n",
        "print(\"List of sets:\", list_of_sets)\n"
      ],
      "metadata": {
        "colab": {
          "base_uri": "https://localhost:8080/"
        },
        "id": "nLEAKlfJtZWV",
        "outputId": "0fa459be-0052-4419-b718-ce9e31ed1243"
      },
      "execution_count": 35,
      "outputs": [
        {
          "output_type": "stream",
          "name": "stdout",
          "text": [
            "\n",
            "Question 29: Create a list of sets: [{1, 2, 3}, {4, 5, 6}, {7, 8, 9}]\n",
            "List of sets: [{1, 2, 3}, {4, 5, 6}, {8, 9, 7}]\n"
          ]
        }
      ]
    },
    {
      "cell_type": "code",
      "source": [
        "# Question 30: Find the union of all sets in list of sets\n",
        "print(\"\\nQuestion 30: Find the union of all sets in list of sets\")\n",
        "# Your code here\n",
        "union_set = set().union(*list_of_sets)\n",
        "print(\"Union of all sets:\", union_set)\n"
      ],
      "metadata": {
        "colab": {
          "base_uri": "https://localhost:8080/"
        },
        "id": "cf4G2nrztZLG",
        "outputId": "18a9df9a-bcbf-4bd7-a9ca-261242725608"
      },
      "execution_count": 36,
      "outputs": [
        {
          "output_type": "stream",
          "name": "stdout",
          "text": [
            "\n",
            "Question 30: Find the union of all sets in list of sets\n",
            "Union of all sets: {1, 2, 3, 4, 5, 6, 7, 8, 9}\n"
          ]
        }
      ]
    },
    {
      "cell_type": "code",
      "source": [
        "# Question 31: Create a list of complex numbers: [1+2j, 3+4j, 5+6j]\n",
        "print(\"\\nQuestion 31: Create a list of complex numbers: [1+2j, 3+4j, 5+6j]\")\n",
        "# Your code here\n",
        "complex_list = []\n",
        "\n",
        "complex_list.append(1+2j)\n",
        "complex_list.append(3+4j)\n",
        "complex_list.append(5+6j)\n",
        "\n",
        "print(\"List of complex numbers:\", complex_list)\n"
      ],
      "metadata": {
        "colab": {
          "base_uri": "https://localhost:8080/"
        },
        "id": "XvBqbFbTtUDq",
        "outputId": "aaa15dcf-1df6-4928-8595-75138697087b"
      },
      "execution_count": 37,
      "outputs": [
        {
          "output_type": "stream",
          "name": "stdout",
          "text": [
            "\n",
            "Question 31: Create a list of complex numbers: [1+2j, 3+4j, 5+6j]\n",
            "List of complex numbers: [(1+2j), (3+4j), (5+6j)]\n"
          ]
        }
      ]
    },
    {
      "cell_type": "code",
      "source": [
        "# Question 32: Find the magnitude of each complex number in list\n",
        "print(\"\\nQuestion 32: Find the magnitude of each complex number in list\")\n",
        "# Your code here\n",
        "magnitudes = [abs(c) for c in complex_list]\n",
        "print(\"Magnitudes:\", magnitudes)\n"
      ],
      "metadata": {
        "colab": {
          "base_uri": "https://localhost:8080/"
        },
        "id": "NY6vrPu6tT9V",
        "outputId": "5f4b10d5-fbbc-441f-cec7-111343d4817f"
      },
      "execution_count": 38,
      "outputs": [
        {
          "output_type": "stream",
          "name": "stdout",
          "text": [
            "\n",
            "Question 32: Find the magnitude of each complex number in list\n",
            "Magnitudes: [2.23606797749979, 5.0, 7.810249675906654]\n"
          ]
        }
      ]
    },
    {
      "cell_type": "code",
      "source": [
        "# Question 33: Create a nested list with different levels: [1, [2, 3], [4, [5, 6]], 7]\n",
        "print(\"\\nQuestion 33: Create a nested list with different levels: [1, [2, 3], [4, [5, 6]], 7]\")\n",
        "# Your code here\n",
        "nested_list = []\n",
        "\n",
        "nested_list.append(1)\n",
        "nested_list.append([2, 3])\n",
        "nested_list.append([4, [5, 6]])\n",
        "nested_list.append(7)\n",
        "\n",
        "print(\"Nested list:\", nested_list)\n"
      ],
      "metadata": {
        "colab": {
          "base_uri": "https://localhost:8080/"
        },
        "id": "BQQBDX0_oTRy",
        "outputId": "9425d134-ce5f-4d90-ca4b-6f8f5f8635e4"
      },
      "execution_count": 39,
      "outputs": [
        {
          "output_type": "stream",
          "name": "stdout",
          "text": [
            "\n",
            "Question 33: Create a nested list with different levels: [1, [2, 3], [4, [5, 6]], 7]\n",
            "Nested list: [1, [2, 3], [4, [5, 6]], 7]\n"
          ]
        }
      ]
    },
    {
      "cell_type": "code",
      "source": [
        "# Question 34: Count the depth of nesting in [1, [2, 3], [4, [5, 6]], 7]\n",
        "print(\"\\nQuestion 34: Count the depth of nesting in [1, [2, 3], [4, [5, 6]], 7]\")\n",
        "# Your code here\n",
        "def depth(lst):\n",
        "    if isinstance(lst, list):\n",
        "        return 1 + max((depth(item) for item in lst), default=0)\n",
        "    return 0\n",
        "\n",
        "print(\"Depth of nesting:\", depth(nested_list))\n"
      ],
      "metadata": {
        "colab": {
          "base_uri": "https://localhost:8080/"
        },
        "id": "4SWAdbHXoTHD",
        "outputId": "80c18f3a-7f8b-4600-c6ec-2082d87f21fd"
      },
      "execution_count": 40,
      "outputs": [
        {
          "output_type": "stream",
          "name": "stdout",
          "text": [
            "\n",
            "Question 34: Count the depth of nesting in [1, [2, 3], [4, [5, 6]], 7]\n",
            "Depth of nesting: 3\n"
          ]
        }
      ]
    },
    {
      "cell_type": "code",
      "source": [
        "# Question 35: Create a list of functions: [len, str, int, float]\n",
        "print(\"\\nQuestion 35: Create a list of functions: [len, str, int, float]\")\n",
        "# Your code here\n",
        "# Using len\n",
        "functions = [len, str, int, float]\n",
        "\n",
        "print(\"Length of 'hello':\", functions[0](\"hello\"))\n",
        "\n",
        "# Using str\n",
        "print(\"Convert 123 to string:\", functions[1] )\n",
        "\n",
        "# Using int\n",
        "print(\"Convert '456' to int:\", functions[2](\"456\"))\n",
        "\n",
        "# Using float\n",
        "print(\"Convert '3.14' to float:\", functions[3](\"3.14\"))\n"
      ],
      "metadata": {
        "colab": {
          "base_uri": "https://localhost:8080/"
        },
        "id": "xsoEE3QtoS8k",
        "outputId": "9a7b575a-3197-49c8-f76d-ae189bfc2e0e"
      },
      "execution_count": 42,
      "outputs": [
        {
          "output_type": "stream",
          "name": "stdout",
          "text": [
            "\n",
            "Question 35: Create a list of functions: [len, str, int, float]\n",
            "Length of 'hello': 5\n",
            "Convert 123 to string: <class 'str'>\n",
            "Convert '456' to int: 456\n",
            "Convert '3.14' to float: 3.14\n"
          ]
        }
      ]
    },
    {
      "cell_type": "code",
      "source": [
        "functions = []\n",
        "\n",
        "functions.append(len)\n",
        "functions.append(str)\n",
        "functions.append(int)\n",
        "functions.append(float)\n",
        "\n",
        "print(\"List of functions:\", functions)\n"
      ],
      "metadata": {
        "colab": {
          "base_uri": "https://localhost:8080/"
        },
        "id": "tr1CX0MxB1aM",
        "outputId": "5be0f135-7df2-4d56-d657-43e060e45f56"
      },
      "execution_count": 43,
      "outputs": [
        {
          "output_type": "stream",
          "name": "stdout",
          "text": [
            "List of functions: [<built-in function len>, <class 'str'>, <class 'int'>, <class 'float'>]\n"
          ]
        }
      ]
    },
    {
      "cell_type": "code",
      "source": [
        "# Question 36: Apply each function in list to string \"123\"\n",
        "print(\"\\nQuestion 36: Apply each function in list to string '123'\")\n",
        "# Your code here\n",
        "s = '123'\n",
        "\n",
        "for func in functions:\n",
        "    try:\n",
        "        result = func(s)\n",
        "        print(f\"{func.__name__}('{s}') =\", result)\n",
        "    except Exception as e:\n",
        "        print(f\"{func.__name__}('{s}') caused error:\", e)\n"
      ],
      "metadata": {
        "colab": {
          "base_uri": "https://localhost:8080/"
        },
        "id": "oROpY8FmoSx6",
        "outputId": "c5894d89-48a0-428f-f2cf-0158620a95d1"
      },
      "execution_count": 44,
      "outputs": [
        {
          "output_type": "stream",
          "name": "stdout",
          "text": [
            "\n",
            "Question 36: Apply each function in list to string '123'\n",
            "len('123') = 3\n",
            "str('123') = 123\n",
            "int('123') = 123\n",
            "float('123') = 123.0\n"
          ]
        }
      ]
    },
    {
      "cell_type": "code",
      "source": [
        "# Question 37: Create a list of lambda functions: [lambda x: x*2, lambda x: x**2, lambda x: x+1]\n",
        "print(\"\\nQuestion 37: Create a list of lambda functions: [lambda x: x*2, lambda x: x**2, lambda x: x+1]\")\n",
        "# Your code here\n",
        "lambda_functions = []\n",
        "\n",
        "lambda_functions.append(lambda x: x*2)\n",
        "lambda_functions.append(lambda x: x**2)\n",
        "lambda_functions.append(lambda x: x+1)\n",
        "\n",
        "print(\"List of lambda functions:\", lambda_functions)\n"
      ],
      "metadata": {
        "colab": {
          "base_uri": "https://localhost:8080/"
        },
        "id": "r3WwdCEWoMkA",
        "outputId": "99b2534b-53c0-427f-e44e-0c883c89bd3e"
      },
      "execution_count": 46,
      "outputs": [
        {
          "output_type": "stream",
          "name": "stdout",
          "text": [
            "\n",
            "Question 37: Create a list of lambda functions: [lambda x: x*2, lambda x: x**2, lambda x: x+1]\n",
            "List of lambda functions: [<function <lambda> at 0x7f0eef4784a0>, <function <lambda> at 0x7f0eef479300>, <function <lambda> at 0x7f0eef4787c0>]\n"
          ]
        }
      ]
    },
    {
      "cell_type": "code",
      "source": [
        "# Question 38: Apply each lambda function to 5\n",
        "print(\"\\nQuestion 38: Apply each lambda function to 5\")\n",
        "# Your code here\n",
        "x = 5\n",
        "\n",
        "for i, func in enumerate(lambda_functions, 1):\n",
        "    print(f\"Function {i} applied to {x}:\", func(x))\n"
      ],
      "metadata": {
        "colab": {
          "base_uri": "https://localhost:8080/"
        },
        "id": "Fbt9s3BnoMYi",
        "outputId": "638553c0-39e9-4a0c-de46-f0357ca47897"
      },
      "execution_count": 47,
      "outputs": [
        {
          "output_type": "stream",
          "name": "stdout",
          "text": [
            "\n",
            "Question 38: Apply each lambda function to 5\n",
            "Function 1 applied to 5: 10\n",
            "Function 2 applied to 5: 25\n",
            "Function 3 applied to 5: 6\n"
          ]
        }
      ]
    },
    {
      "cell_type": "code",
      "source": [
        "# Question 39: Create a list of classes: [list, dict, set, tuple]\n",
        "print(\"\\nQuestion 39: Create a list of classes: [list, dict, set, tuple]\")\n",
        "# Your code here\n",
        "classes_list = []\n",
        "\n",
        "classes_list.append(list)\n",
        "classes_list.append(dict)\n",
        "classes_list.append(set)\n",
        "classes_list.append(tuple)\n",
        "\n",
        "print(\"List of classes:\", classes_list)\n"
      ],
      "metadata": {
        "colab": {
          "base_uri": "https://localhost:8080/"
        },
        "id": "q2arBN1voMGE",
        "outputId": "90a262d2-788d-4920-fd2a-ec4dcec6e789"
      },
      "execution_count": 48,
      "outputs": [
        {
          "output_type": "stream",
          "name": "stdout",
          "text": [
            "\n",
            "Question 39: Create a list of classes: [list, dict, set, tuple]\n",
            "List of classes: [<class 'list'>, <class 'dict'>, <class 'set'>, <class 'tuple'>]\n"
          ]
        }
      ]
    },
    {
      "cell_type": "code",
      "source": [
        "# Question 40: Create instances of each class in list\n",
        "print(\"\\nQuestion 40: Create instances of each class in list\")\n",
        "# Your code here\n",
        "instances = [cls() for cls in classes_list]\n",
        "print(\"Instances of each class:\", instances)\n"
      ],
      "metadata": {
        "colab": {
          "base_uri": "https://localhost:8080/"
        },
        "id": "xJt0BxFwoL7o",
        "outputId": "4349b251-069e-4354-f977-04a47f90cbae"
      },
      "execution_count": 49,
      "outputs": [
        {
          "output_type": "stream",
          "name": "stdout",
          "text": [
            "\n",
            "Question 40: Create instances of each class in list\n",
            "Instances of each class: [[], {}, set(), ()]\n"
          ]
        }
      ]
    },
    {
      "cell_type": "code",
      "source": [
        "# Question 41: Create a list of None values: [None, None, None, None]\n",
        "print(\"\\nQuestion 41: Create a list of None values: [None, None, None, None]\")\n",
        "# Your code here\n",
        "none_list = []\n",
        "\n",
        "for _ in range(4):\n",
        "    none_list.append(None)\n",
        "\n",
        "print(\"List of None values:\", none_list)\n"
      ],
      "metadata": {
        "colab": {
          "base_uri": "https://localhost:8080/"
        },
        "id": "zscw8bpXoD2N",
        "outputId": "9242ae7d-ac0b-4ae8-ea6a-7fae490b0c6c"
      },
      "execution_count": 50,
      "outputs": [
        {
          "output_type": "stream",
          "name": "stdout",
          "text": [
            "\n",
            "Question 41: Create a list of None values: [None, None, None, None]\n",
            "List of None values: [None, None, None, None]\n"
          ]
        }
      ]
    },
    {
      "cell_type": "code",
      "source": [
        "# Question 42: Replace all None values with 0 in list\n",
        "print(\"\\nQuestion 42: Replace all None values with 0 in list\")\n",
        "# Your code here\n",
        "updated_list = []\n",
        "\n",
        "for x in none_list:\n",
        "    if x is None:\n",
        "        updated_list.append(0)\n",
        "    else:\n",
        "        updated_list.append(x)\n",
        "\n",
        "print(\"List after replacing None with 0:\", updated_list)\n"
      ],
      "metadata": {
        "colab": {
          "base_uri": "https://localhost:8080/"
        },
        "id": "dztNdGW-oDsF",
        "outputId": "6833e9d0-4e1b-4ca6-e32a-53a1814ff120"
      },
      "execution_count": 51,
      "outputs": [
        {
          "output_type": "stream",
          "name": "stdout",
          "text": [
            "\n",
            "Question 42: Replace all None values with 0 in list\n",
            "List after replacing None with 0: [0, 0, 0, 0]\n"
          ]
        }
      ]
    },
    {
      "cell_type": "code",
      "source": [
        "# Question 43: Create a list of boolean values: [True, False, True, False]\n",
        "print(\"\\nQuestion 43: Create a list of boolean values: [True, False, True, False]\")\n",
        "# Your code here\n",
        "bool_list = []\n",
        "\n",
        "values = [True, False, True, False]\n",
        "for val in values:\n",
        "    bool_list.append(val)\n",
        "\n",
        "print(\"List of boolean values:\", bool_list)\n"
      ],
      "metadata": {
        "colab": {
          "base_uri": "https://localhost:8080/"
        },
        "id": "8qX4zgf6oDh8",
        "outputId": "e66fa075-dc44-4d86-80e2-c53eb0ae92a3"
      },
      "execution_count": 52,
      "outputs": [
        {
          "output_type": "stream",
          "name": "stdout",
          "text": [
            "\n",
            "Question 43: Create a list of boolean values: [True, False, True, False]\n",
            "List of boolean values: [True, False, True, False]\n"
          ]
        }
      ]
    },
    {
      "cell_type": "code",
      "source": [
        "# Question 44: Count True values in boolean list\n",
        "print(\"\\nQuestion 44: Count True values in boolean list\")\n",
        "# Your code here\n",
        "true_count = 0\n",
        "for b in bool_list:\n",
        "    if b:\n",
        "        true_count += 1\n",
        "\n",
        "print(\"Number of True values:\", true_count)\n"
      ],
      "metadata": {
        "colab": {
          "base_uri": "https://localhost:8080/"
        },
        "id": "IKXz8bo2oDXO",
        "outputId": "5e85b8cd-75d4-4cc9-f558-57303768e3aa"
      },
      "execution_count": 53,
      "outputs": [
        {
          "output_type": "stream",
          "name": "stdout",
          "text": [
            "\n",
            "Question 44: Count True values in boolean list\n",
            "Number of True values: 2\n"
          ]
        }
      ]
    },
    {
      "cell_type": "code",
      "source": [
        "true_count = sum(bool_list)\n",
        "print(\"Number of True values:\", true_count)\n",
        "#Note: In Python, True is treated as 1 and False as 0, so sum() works perfectly."
      ],
      "metadata": {
        "colab": {
          "base_uri": "https://localhost:8080/"
        },
        "id": "mPJumPynGU-_",
        "outputId": "9afadd27-7265-4154-ee96-80523ad6f91b"
      },
      "execution_count": 54,
      "outputs": [
        {
          "output_type": "stream",
          "name": "stdout",
          "text": [
            "Number of True values: 2\n"
          ]
        }
      ]
    },
    {
      "cell_type": "code",
      "source": [
        "# Question 45: Create a list of ranges: [range(3), range(5), range(2)]\n",
        "print(\"\\nQuestion 45: Create a list of ranges: [range(3), range(5), range(2)]\")\n",
        "# Your code here\n",
        "range_list = []\n",
        "\n",
        "range_list.append(range(3))\n",
        "range_list.append(range(5))\n",
        "range_list.append(range(2))\n",
        "\n",
        "print(\"List of ranges:\", range_list)\n"
      ],
      "metadata": {
        "colab": {
          "base_uri": "https://localhost:8080/"
        },
        "id": "PIKIovGPn1AB",
        "outputId": "e86853e6-5d84-4de2-8ba7-25a7b1e5851e"
      },
      "execution_count": 55,
      "outputs": [
        {
          "output_type": "stream",
          "name": "stdout",
          "text": [
            "\n",
            "Question 45: Create a list of ranges: [range(3), range(5), range(2)]\n",
            "List of ranges: [range(0, 3), range(0, 5), range(0, 2)]\n"
          ]
        }
      ]
    },
    {
      "cell_type": "code",
      "source": [
        "# Question 46: Convert each range to list\n",
        "print(\"\\nQuestion 46: Convert each range to list\")\n",
        "# Your code here\n",
        "lists_of_numbers = []\n",
        "\n",
        "for r in range_list:\n",
        "    lists_of_numbers.append(list(r))\n",
        "\n",
        "print(\"Converted ranges to lists:\", lists_of_numbers)\n"
      ],
      "metadata": {
        "colab": {
          "base_uri": "https://localhost:8080/"
        },
        "id": "PpUQXS_vn08d",
        "outputId": "c5f5f013-773f-48be-9c94-9267ef9b7757"
      },
      "execution_count": 56,
      "outputs": [
        {
          "output_type": "stream",
          "name": "stdout",
          "text": [
            "\n",
            "Question 46: Convert each range to list\n",
            "Converted ranges to lists: [[0, 1, 2], [0, 1, 2, 3, 4], [0, 1]]\n"
          ]
        }
      ]
    },
    {
      "cell_type": "code",
      "source": [
        "# Question 47: Create a list of generators: [(x for x in range(3)), (x for x in range(5))]\n",
        "print(\"\\nQuestion 47: Create a list of generators: [(x for x in range(3)), (x for x in range(5))]\")\n",
        "# Your code here\n",
        "generator_list = []\n",
        "\n",
        "generator_list.append((x for x in range(3)))\n",
        "generator_list.append((x for x in range(5)))\n",
        "\n",
        "print(\"List of generators:\", generator_list)\n"
      ],
      "metadata": {
        "colab": {
          "base_uri": "https://localhost:8080/"
        },
        "id": "bepaC2Mfn05e",
        "outputId": "7716607c-3e52-4ae6-e9c6-53ed05cbfd03"
      },
      "execution_count": 57,
      "outputs": [
        {
          "output_type": "stream",
          "name": "stdout",
          "text": [
            "\n",
            "Question 47: Create a list of generators: [(x for x in range(3)), (x for x in range(5))]\n",
            "List of generators: [<generator object <genexpr> at 0x7f0eef5f5600>, <generator object <genexpr> at 0x7f0eef5f5180>]\n"
          ]
        }
      ]
    },
    {
      "cell_type": "code",
      "source": [
        "# Question 48: Convert each generator to list\n",
        "print(\"\\nQuestion 48: Convert each generator to list\")\n",
        "# Your code here\n",
        "generator_list = [(x for x in range(3)), (x for x in range(5))]\n",
        "lists_from_generators = [list(gen) for gen in generator_list]\n",
        "print(\"Converted generators to lists:\", lists_from_generators)\n"
      ],
      "metadata": {
        "colab": {
          "base_uri": "https://localhost:8080/"
        },
        "id": "REmF_i84nz94",
        "outputId": "34508c4a-1194-4950-fd9f-ebcc459cb71e"
      },
      "execution_count": 58,
      "outputs": [
        {
          "output_type": "stream",
          "name": "stdout",
          "text": [
            "\n",
            "Question 48: Convert each generator to list\n",
            "Converted generators to lists: [[0, 1, 2], [0, 1, 2, 3, 4]]\n"
          ]
        }
      ]
    },
    {
      "cell_type": "code",
      "source": [
        "# Question 49: Create a list of iterators: [iter([1, 2, 3]), iter([4, 5, 6])]\n",
        "print(\"\\nQuestion 49: Create a list of iterators: [iter([1, 2, 3]), iter([4, 5, 6])]\")\n",
        "# Your code here\n",
        "iterator_list = []\n",
        "\n",
        "iterator_list.append(iter([1, 2, 3]))\n",
        "iterator_list.append(iter([4, 5, 6]))\n",
        "\n",
        "print(\"List of iterators:\", iterator_list)\n"
      ],
      "metadata": {
        "colab": {
          "base_uri": "https://localhost:8080/"
        },
        "id": "JMF3xIWDnppg",
        "outputId": "837df4e6-bdb9-4038-a998-d6ef8219585b"
      },
      "execution_count": 59,
      "outputs": [
        {
          "output_type": "stream",
          "name": "stdout",
          "text": [
            "\n",
            "Question 49: Create a list of iterators: [iter([1, 2, 3]), iter([4, 5, 6])]\n",
            "List of iterators: [<list_iterator object at 0x7f0eef42c9d0>, <list_iterator object at 0x7f0eef42ef80>]\n"
          ]
        }
      ]
    },
    {
      "cell_type": "code",
      "source": [
        "# Question 50: Extract all elements from each iterator\n",
        "print(\"\\nQuestion 50: Extract all elements from each iterator\")\n",
        "# Your code here\n",
        "iterator_list = [iter([1, 2, 3]), iter([4, 5, 6])]\n",
        "lists_from_iterators = [list(it) for it in iterator_list]\n",
        "print(\"Extracted elements from iterators:\", lists_from_iterators)\n"
      ],
      "metadata": {
        "colab": {
          "base_uri": "https://localhost:8080/"
        },
        "id": "upe1XsLknpb_",
        "outputId": "f3b2a947-7186-484a-f1f0-c35a28fccd93"
      },
      "execution_count": 60,
      "outputs": [
        {
          "output_type": "stream",
          "name": "stdout",
          "text": [
            "\n",
            "Question 50: Extract all elements from each iterator\n",
            "Extracted elements from iterators: [[1, 2, 3], [4, 5, 6]]\n"
          ]
        }
      ]
    }
  ]
}