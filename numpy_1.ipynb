{
  "nbformat": 4,
  "nbformat_minor": 0,
  "metadata": {
    "colab": {
      "provenance": []
    },
    "kernelspec": {
      "name": "python3",
      "display_name": "Python 3"
    },
    "language_info": {
      "name": "python"
    }
  },
  "cells": [
    {
      "cell_type": "code",
      "execution_count": 1,
      "metadata": {
        "colab": {
          "base_uri": "https://localhost:8080/"
        },
        "id": "9wuAx3p0cu0m",
        "outputId": "0a5f7529-f572-4aaf-b115-5c6098c2dbc6"
      },
      "outputs": [
        {
          "output_type": "execute_result",
          "data": {
            "text/plain": [
              "array([[59, 97, 91, 94, 49],\n",
              "       [93, 66, 14, 68,  8],\n",
              "       [27, 48, 14, 30, 16],\n",
              "       [60, 50, 82, 19,  1],\n",
              "       [52, 71, 89, 68, 40]])"
            ]
          },
          "metadata": {},
          "execution_count": 1
        }
      ],
      "source": [
        "import numpy as np\n",
        "data=np.random.randint(0,100,(5,5))\n",
        "data"
      ]
    },
    {
      "cell_type": "code",
      "source": [
        "import numpy as np\n",
        "data=np.random.randint(100,200,(10,10))\n",
        "data"
      ],
      "metadata": {
        "colab": {
          "base_uri": "https://localhost:8080/"
        },
        "id": "fcybVuaCeU4C",
        "outputId": "9fb8ffa3-3071-4ef0-961f-420e4fc8f7d3"
      },
      "execution_count": 2,
      "outputs": [
        {
          "output_type": "execute_result",
          "data": {
            "text/plain": [
              "array([[182, 125, 105, 147, 178, 162, 149, 127, 111, 198],\n",
              "       [171, 164, 170, 118, 187, 126, 154, 155, 186, 102],\n",
              "       [100, 109, 133, 167, 188, 175, 163, 109, 184, 122],\n",
              "       [197, 188, 125, 185, 178, 102, 126, 153, 127, 185],\n",
              "       [159, 105, 174, 103, 112, 168, 160, 152, 113, 162],\n",
              "       [184, 156, 115, 100, 147, 192, 160, 136, 112, 159],\n",
              "       [121, 118, 109, 198, 177, 177, 160, 183, 133, 154],\n",
              "       [161, 188, 187, 153, 133, 171, 113, 129, 184, 194],\n",
              "       [195, 165, 136, 140, 162, 162, 139, 159, 160, 139],\n",
              "       [127, 125, 172, 109, 152, 154, 101, 189, 141, 100]])"
            ]
          },
          "metadata": {},
          "execution_count": 2
        }
      ]
    },
    {
      "cell_type": "code",
      "source": [
        "type(np.array([1,2,3]))\n"
      ],
      "metadata": {
        "colab": {
          "base_uri": "https://localhost:8080/"
        },
        "id": "BKl-cMgkeW_t",
        "outputId": "c65fa710-3427-449b-d329-a278a86cb20e"
      },
      "execution_count": 3,
      "outputs": [
        {
          "output_type": "execute_result",
          "data": {
            "text/plain": [
              "numpy.ndarray"
            ]
          },
          "metadata": {},
          "execution_count": 3
        }
      ]
    },
    {
      "cell_type": "code",
      "source": [
        "data[0,0]"
      ],
      "metadata": {
        "colab": {
          "base_uri": "https://localhost:8080/"
        },
        "id": "3CmYAWE-eW8f",
        "outputId": "7265413a-fc19-4386-f2d6-206c87071732"
      },
      "execution_count": 4,
      "outputs": [
        {
          "output_type": "execute_result",
          "data": {
            "text/plain": [
              "np.int64(182)"
            ]
          },
          "metadata": {},
          "execution_count": 4
        }
      ]
    },
    {
      "cell_type": "code",
      "source": [
        "print(data)\n",
        "print(\" \")"
      ],
      "metadata": {
        "colab": {
          "base_uri": "https://localhost:8080/"
        },
        "id": "pCnZj7JZeW5y",
        "outputId": "748efcec-2b53-4741-a7ae-72bf322620b5"
      },
      "execution_count": 5,
      "outputs": [
        {
          "output_type": "stream",
          "name": "stdout",
          "text": [
            "[[182 125 105 147 178 162 149 127 111 198]\n",
            " [171 164 170 118 187 126 154 155 186 102]\n",
            " [100 109 133 167 188 175 163 109 184 122]\n",
            " [197 188 125 185 178 102 126 153 127 185]\n",
            " [159 105 174 103 112 168 160 152 113 162]\n",
            " [184 156 115 100 147 192 160 136 112 159]\n",
            " [121 118 109 198 177 177 160 183 133 154]\n",
            " [161 188 187 153 133 171 113 129 184 194]\n",
            " [195 165 136 140 162 162 139 159 160 139]\n",
            " [127 125 172 109 152 154 101 189 141 100]]\n",
            " \n"
          ]
        }
      ]
    },
    {
      "cell_type": "code",
      "source": [
        "data\n"
      ],
      "metadata": {
        "colab": {
          "base_uri": "https://localhost:8080/"
        },
        "id": "DEjlb0FueWyu",
        "outputId": "7eaed3b7-152e-4430-9d67-ff6a5df4a273"
      },
      "execution_count": 6,
      "outputs": [
        {
          "output_type": "execute_result",
          "data": {
            "text/plain": [
              "array([[182, 125, 105, 147, 178, 162, 149, 127, 111, 198],\n",
              "       [171, 164, 170, 118, 187, 126, 154, 155, 186, 102],\n",
              "       [100, 109, 133, 167, 188, 175, 163, 109, 184, 122],\n",
              "       [197, 188, 125, 185, 178, 102, 126, 153, 127, 185],\n",
              "       [159, 105, 174, 103, 112, 168, 160, 152, 113, 162],\n",
              "       [184, 156, 115, 100, 147, 192, 160, 136, 112, 159],\n",
              "       [121, 118, 109, 198, 177, 177, 160, 183, 133, 154],\n",
              "       [161, 188, 187, 153, 133, 171, 113, 129, 184, 194],\n",
              "       [195, 165, 136, 140, 162, 162, 139, 159, 160, 139],\n",
              "       [127, 125, 172, 109, 152, 154, 101, 189, 141, 100]])"
            ]
          },
          "metadata": {},
          "execution_count": 6
        }
      ]
    },
    {
      "cell_type": "code",
      "source": [
        "data[-2:-1,-2:-1]"
      ],
      "metadata": {
        "colab": {
          "base_uri": "https://localhost:8080/"
        },
        "id": "aBNxuz52eWvO",
        "outputId": "7e0dfae5-c46a-447b-bcc9-0cfd612f5629"
      },
      "execution_count": 7,
      "outputs": [
        {
          "output_type": "execute_result",
          "data": {
            "text/plain": [
              "array([[160]])"
            ]
          },
          "metadata": {},
          "execution_count": 7
        }
      ]
    },
    {
      "cell_type": "code",
      "source": [
        "x=[1,2,3]\n",
        "print(type(x))\n",
        "y=np.array([1,2,3])\n",
        "print(type(y))"
      ],
      "metadata": {
        "colab": {
          "base_uri": "https://localhost:8080/"
        },
        "id": "i0SjqWXVeWsm",
        "outputId": "ff5409a0-e273-4585-f7f6-cabc69eaa46c"
      },
      "execution_count": 8,
      "outputs": [
        {
          "output_type": "stream",
          "name": "stdout",
          "text": [
            "<class 'list'>\n",
            "<class 'numpy.ndarray'>\n"
          ]
        }
      ]
    },
    {
      "cell_type": "code",
      "source": [
        "data=np.array([1,2,3,4])\n",
        "(data-data.min())/(data.max()-data.min())"
      ],
      "metadata": {
        "colab": {
          "base_uri": "https://localhost:8080/"
        },
        "id": "z_lS3uD7eWp1",
        "outputId": "5de32964-25b7-45c3-92e0-d2c306bbe405"
      },
      "execution_count": 9,
      "outputs": [
        {
          "output_type": "execute_result",
          "data": {
            "text/plain": [
              "array([0.        , 0.33333333, 0.66666667, 1.        ])"
            ]
          },
          "metadata": {},
          "execution_count": 9
        }
      ]
    },
    {
      "cell_type": "code",
      "source": [],
      "metadata": {
        "id": "HXQWy3UgeWnE"
      },
      "execution_count": null,
      "outputs": []
    },
    {
      "cell_type": "code",
      "source": [],
      "metadata": {
        "id": "J0OWYx0OeWkX"
      },
      "execution_count": null,
      "outputs": []
    },
    {
      "cell_type": "code",
      "source": [],
      "metadata": {
        "id": "LUeetArjeWhZ"
      },
      "execution_count": null,
      "outputs": []
    },
    {
      "cell_type": "code",
      "source": [],
      "metadata": {
        "id": "KXOSihyVeWcL"
      },
      "execution_count": null,
      "outputs": []
    }
  ]
}